{
 "cells": [
  {
   "cell_type": "markdown",
   "id": "dd3e912b-3428-4bc7-88bd-97686406b75a",
   "metadata": {
    "tags": []
   },
   "source": [
    "# Welcome to the DYAD component of the Flux tutorial\n"
   ]
  },
  {
   "cell_type": "markdown",
   "id": "4db0555f",
   "metadata": {},
   "source": [
    "> What is DYAD? 🤔️\n",
    "\n",
    "DYAD is a locality-aware, write-once, read-many file cache that runs on top of local NVMe and other burst buffer-style technologies (e.g., El Capitan Rabbit nodes). It is designed to accelerate large, distributed workloads, such as distributed Deep Learning (DL) training and scientific computing workflows, on HPC systems. Unlike similar tools (e.g., DataSpaces and UnifyFS), which tend to optimize for write performance, DYAD aims to provide good write **and read** performance. To optimize read performance, DYAD uses a locality-aware \"Hierarchical Data Locator,\" which prioritizes node-local metadata and data retrieval to minimize the amount of network communications. When moving data from another node, DYAD also uses a streaming RPC over RDMA protocol, which uses preallocated buffers and connection caching to maximize network bandwidth. This process is shown in the figure below:\n",
    "\n",
    "![DYAD Reading Process](img/dyad_design.png)\n",
    "\n",
    "DYAD uses several services provided by Flux (key-value store, remote proceedure call, broker modules) to orchestrate data movement between nodes. It also uses UCX to move data."
   ]
  },
  {
   "cell_type": "markdown",
   "id": "badb9753",
   "metadata": {},
   "source": [
    "> I'm ready! How do I do this tutorial? 😁️\n",
    "\n",
    "The process for running this tutorial is the same as `flux.ipynb`. To step through examples in this notebook \n",
    "you need to execute cells. To run a cell, press Shift+Enter on your keyboard. If you prefer, you can also paste \n",
    "the shell commands in the JupyterLab terminal and execute them there."
   ]
  },
  {
   "cell_type": "markdown",
   "id": "c0a9e0f9",
   "metadata": {},
   "source": [
    "# Accelerating Distributed Deep Learning (DL) Training with DYAD\n",
    "\n"
   ]
  },
  {
   "cell_type": "markdown",
   "id": "be8da082",
   "metadata": {},
   "source": [
    "## Show code"
   ]
  },
  {
   "cell_type": "markdown",
   "id": "4f018bbc",
   "metadata": {},
   "source": [
    "[data loader](../dlio_extensions/dyad_torch_data_loader.py)"
   ]
  },
  {
   "cell_type": "code",
   "execution_count": null,
   "id": "c92da400",
   "metadata": {},
   "outputs": [],
   "source": [
    "import os\n",
    "import sys\n",
    "import inspect\n",
    "from pygments import highlight\n",
    "from pygments.lexers import PythonLexer\n",
    "from pygments.formatters import HtmlFormatter\n",
    "from IPython.display import display, HTML\n",
    "\n",
    "sys.path.insert(0, os.path.abspath(\"../dlio_extensions/dyad_torch_data_loader.py\"))\n",
    "\n",
    "from dyad_torch_data_loader import DYADTorchDataset"
   ]
  },
  {
   "cell_type": "code",
   "execution_count": null,
   "id": "27e463c0",
   "metadata": {},
   "outputs": [],
   "source": [
    "display(HTML(highlight(inspect.getsource(DYADTorchDataset.worker_init), PythonLexer(), HtmlFormatter(full=True))))"
   ]
  },
  {
   "cell_type": "code",
   "execution_count": null,
   "id": "ab755b0a",
   "metadata": {},
   "outputs": [],
   "source": [
    "display(HTML(highlight(inspect.getsource(DYADTorchDataset.__getitem__), PythonLexer(), HtmlFormatter(full=True))))"
   ]
  },
  {
   "cell_type": "markdown",
   "id": "fefd9ae3",
   "metadata": {},
   "source": [
    "## Configure DLIO and DYAD"
   ]
  },
  {
   "cell_type": "code",
   "execution_count": null,
   "id": "92881a8f",
   "metadata": {},
   "outputs": [],
   "source": [
    "kvs_namespace = \"dyad\"\n",
    "initial_data_directory = \"/tmp/dlio_data\"\n",
    "managed_directory = \"/tmp/dyad_data\"\n",
    "workers_per_node = 8"
   ]
  },
  {
   "cell_type": "code",
   "execution_count": null,
   "id": "68be24ed",
   "metadata": {},
   "outputs": [],
   "source": [
    "dyad_install_prefix = \"/usr\"\n",
    "num_nodes = !flux hostlist -c\n",
    "dlio_extensions_dir = !$HOME/flux-tutorial-2024/dlio_extensions\n",
    "dtl_mode = \"UCX\"\n",
    "workload = \"dyad_unet3d_small\""
   ]
  },
  {
   "cell_type": "code",
   "execution_count": null,
   "id": "8ce527f2",
   "metadata": {},
   "outputs": [],
   "source": [
    "env_lines = [\n",
    "    f\"DYAD_KVS_NAMESPACE={kvs_namespace}\\n\",\n",
    "    f\"DYAD_DTL_MODE={dtl_mode}\\n\",\n",
    "    f\"DYAD_PATH={managed_directory}\\n\",\n",
    "    f\"PYTHONPATH={dlio_extensions_dir}:$PYTHONPATH\\n\",\n",
    "    \"DLIO_PROFILER_ENABLE=0\\n\",\n",
    "    \"DLIO_PROFILER_INC_METADATA=1\\n\",\n",
    "    \"DLIO_PROFILER_LOG_LEVEL=ERROR\\n\",\n",
    "    \"DLIO_PROFILER_BIND_SIGNALS=0\\n\",\n",
    "    \"HDF5_USE_FILE_LOCKING=0\\n\",\n",
    "]\n",
    "with open(\"dlio_env.txt\", \"w\") as f:\n",
    "    for el in env_lines:\n",
    "        f.write(el)"
   ]
  },
  {
   "cell_type": "markdown",
   "id": "398e110f",
   "metadata": {},
   "source": [
    "## Create Flux KVS Namespace and start DYAD service"
   ]
  },
  {
   "cell_type": "code",
   "execution_count": null,
   "id": "bf132600",
   "metadata": {},
   "outputs": [],
   "source": [
    "!flux kvs namespace create {kvs_namespace}"
   ]
  },
  {
   "cell_type": "code",
   "execution_count": null,
   "id": "3220ef03",
   "metadata": {},
   "outputs": [],
   "source": [
    "!flux exec -r all flux module load {dyad_install_prefix}/lib/dyad.so --mode={dtl_mode} {managed_directory}"
   ]
  },
  {
   "cell_type": "code",
   "execution_count": null,
   "id": "4750013c",
   "metadata": {},
   "outputs": [],
   "source": [
    "!flux module list"
   ]
  },
  {
   "cell_type": "code",
   "execution_count": null,
   "id": "3322e350",
   "metadata": {},
   "outputs": [],
   "source": [
    "!flux kvs namespace list"
   ]
  },
  {
   "cell_type": "markdown",
   "id": "c0dfe655",
   "metadata": {},
   "source": [
    "## Generate Data for Unet3D"
   ]
  },
  {
   "cell_type": "code",
   "execution_count": null,
   "id": "2dd03ec1",
   "metadata": {},
   "outputs": [],
   "source": [
    "!flux run -N {num_nodes} --tasks-per-node=1 mkdir -p {managed_directory} \n",
    "!flux run -N {num_nodes} --tasks-per-node=1 rm -r {managed_directory}/* "
   ]
  },
  {
   "cell_type": "code",
   "execution_count": null,
   "id": "d4e5d30e",
   "metadata": {},
   "outputs": [],
   "source": [
    "!flux run -N {num_nodes} -o cpu-affinity=off --tasks-per-node={workers_per_node} --env-file=dlio_env.txt \\\n",
    "    dlio_benchmark --config-dir={dlio_extensions_dir}/configs workload={workload} \\\n",
    "        ++workload.dataset.data_folder={initial_data_directory} ++workload.workflow.generate_data=True \\\n",
    "        ++workload.workflow.train=False"
   ]
  },
  {
   "cell_type": "markdown",
   "id": "3f14ffdd",
   "metadata": {},
   "source": [
    "## Run \"training\" through DLIO"
   ]
  },
  {
   "cell_type": "code",
   "execution_count": null,
   "id": "3437a068",
   "metadata": {},
   "outputs": [],
   "source": [
    "!flux run -N {num_nodes} -o cpu-affinity=on --tasks-per-node={workers_per_node} --env-file=dlio_env.txt \\\n",
    "    dlio_benchmark --config-dir={dlio_extensions_dir}/configs workload={workload} \\\n",
    "        ++workload.dataset.data_folder={initial_data_directory} ++workload.workflow.generate_data=False \\\n",
    "        ++workload.workflow.train=True"
   ]
  },
  {
   "cell_type": "markdown",
   "id": "573ce232",
   "metadata": {},
   "source": [
    "## Shutdown the DYAD service and cleanup"
   ]
  },
  {
   "cell_type": "code",
   "execution_count": null,
   "id": "755251df",
   "metadata": {},
   "outputs": [],
   "source": [
    "!flux kvs namespace remove {kvs_namespace}\n",
    "!flux exec -r all flux module remove dyad"
   ]
  },
  {
   "cell_type": "code",
   "execution_count": null,
   "id": "2bf50c8e",
   "metadata": {},
   "outputs": [],
   "source": [
    "!flux module list"
   ]
  },
  {
   "cell_type": "code",
   "execution_count": null,
   "id": "e50c926e",
   "metadata": {},
   "outputs": [],
   "source": [
    "!flux kvs namespace list"
   ]
  },
  {
   "cell_type": "markdown",
   "id": "81d7d87f-1e09-42c8-b165-8902551f6847",
   "metadata": {},
   "source": [
    "# This concludes the notebook tutorial for DYAD.\n",
    "\n",
    "If you are interested in learning more about DYAD, check out our [ReadTheDocs page](https://dyad.readthedocs.io/en/latest/), our [GitHub repository](https://github.com/flux-framework/dyad), and our published/presented works:\n",
    "* [eScience 2022 Short Paper](https://dyad.readthedocs.io/en/latest/_downloads/27090817b034a89b76e5538e148fea9e/ShortPaper_2022_eScience_LLNL.pdf)\n",
    "* [SC 2023 ACM Student Research Competition Extended Abstract](https://github.com/flux-framework/dyad/blob/main/docs/_static/ExtendedAbstract_2023_SC_ACM_SRC_DYAD.pdf)\n",
    "* [IPDPS 2024 HiCOMB Workshop Paper](https://github.com/flux-framework/dyad/blob/main/docs/_static/Paper_2024_IPDPS_HiCOMB_DYAD.pdf)\n",
    "\n",
    "If you are interested in working with us, please reach out to Jae-Seung Yeom (yeom2@llnl.gov), Hariharan Devarajan (hariharandev1@llnl.gov), or Ian Lumsden (ilumsden@vols.utk.edu)."
   ]
  },
  {
   "cell_type": "markdown",
   "id": "d16426a9",
   "metadata": {},
   "source": []
  }
 ],
 "metadata": {
  "kernelspec": {
   "display_name": "Python 3 (ipykernel)",
   "language": "python",
   "name": "python3"
  },
  "language_info": {
   "codemirror_mode": {
    "name": "ipython",
    "version": 3
   },
   "file_extension": ".py",
   "mimetype": "text/x-python",
   "name": "python",
   "nbconvert_exporter": "python",
   "pygments_lexer": "ipython3",
   "version": "3.9.12"
  }
 },
 "nbformat": 4,
 "nbformat_minor": 5
}
