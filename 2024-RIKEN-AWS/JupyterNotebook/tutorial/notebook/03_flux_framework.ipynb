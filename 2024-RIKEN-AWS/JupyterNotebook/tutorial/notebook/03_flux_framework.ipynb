{
 "cells": [
  {
   "cell_type": "markdown",
   "metadata": {},
   "source": [
    "<div>\n",
    "<center><img src=\"Flux-logo.svg\" width=\"400\"/>\n",
    "</div>\n",
    "\n",
    "# Module 3: Using Flux to manage and deploy distributed services\n",
    "\n",
    "Now that we have learned about hierarchical scheduling and its benefits, let's dive deeper into the structure of the individual Flux instances that comprise a hierarchy and examine how that structure enables the management and deployment of distributed services. In this module, we cover:\n",
    "1. The structure of Flux instances\n",
    "2. Management of Flux services\n",
    "3. Examples of services in Flux (`flux kvs` and `flux archive`)\n",
    "\n",
    "## The structure of Flux instances\n",
    "\n",
    "As mentioned in [Module 1](./01_flux_tutorial.ipynb), a Flux instance is comprised of one or more Flux brokers. A high-level depiction of the design of a Flux broker is shown in the figure below.\n",
    "\n",
    "<figure>\n",
    "<img src=\"img/flux-broker-design.png\">\n",
    "<figcaption>\n",
    "<i>Image created by Ian Lumsden for this tutorial</i></figcaption>\n",
    "</figure>\n",
    "\n",
    "Each broker is a program built on top of the ∅MQ networking library. The broker contains two main components. First, the broker implements Flux-specific networking abstractions over ∅MQ, such as remote-proceedure call (RPC) and publication-subscription (pub-sub). Second, the broker contains several core services, such as PMI (for MPI support), run control support (for enabling automatic startup of other services), and, most importantly, broker module management. The remainder of a Flux broker's functionality comes from broker modules: specially designed services that the broker can deploy in independent OS threads. Some examples of broker modules provided by Flux include:\n",
    "* Job scheduling (both [traditional and hierarchical](./02_flux_scheduling.ipynb))\n",
    "* Fluxion (Flux's advanced graph-based scheduler)\n",
    "* Banks and accounting (for system-wide deployments of Flux)\n",
    "* PMIx (for OpenMPI)\n",
    "* An in-memory content store (useful for preloading data into pods on cloud)\n",
    "\n",
    "When Flux starts, it launches one or more brokers across the resources it manages. By default, Flux will launch one broker per node, but this can be configured (e.g., with the `--test-size` flag to `flux start` shown in [Module 1](./01_flux_tutorial.ipynb)). After launching the brokers, Flux will designate one broker as the \"leader\" and the rest as \"followers\". The leader serves as entrypoint into the Flux instance, and it serves as the starting point for most Flux commands. The distribution of brokers and the \"leader-follower\" designations are shown in the following figure:\n",
    "\n",
    "<figure>\n",
    "<img src=\"img/flux-instance-pre-tbon.png\">\n",
    "<figcaption>\n",
    "<i>Image created by Vanessa Sochat for Flux Framework Components documentation</i></figcaption>\n",
    "</figure>\n",
    "\n",
    "After launching the brokers and designating a leader, Flux uses the brokers' network abstractions to connect the brokers together into what we call the \"tree-based overlay network\", or TBON for short. This network is shown in the figure below. This overlay network connects brokers together in a pre-defined tree-based topology (e.g., *k*-ary and binomial). Whenever brokers or instances of distributed services running on top of the brokers need to communicate, they can send messages up and down this tree-structured network. This tree-structured network is used over alternative designs (e.g., all-to-all networks used by MPI) because it provides better scalability (by minimizing communication), security, and fault tolerance for a service-focused framework. More information about these benefits and Flux's overall design can be found in our [publications](https://flux-framework.org/publications/) (particularly our [2014 paper on Flux](https://ieeexplore.ieee.org/document/7103433) presented at ICPP).\n",
    "\n",
    "<figure>\n",
    "<img src=\"img/flux-instance-w-tbon.png\">\n",
    "<figcaption>\n",
    "<i>Image created by Vanessa Sochat for Flux Framework Components documentation</i></figcaption>\n",
    "</figure>\n",
    "\n",
    "### How Flux instances support services\n",
    "\n",
    "Services in Flux are implemented as broker modules that can be deployed across one or more brokers. Once deployed, these services can leverage the other components of the broker, including message routing over the TBON and services provided by other broker modules. As a result, broker modules allow for the creation of composable, easily deployable services for Flux instances."
   ]
  },
  {
   "cell_type": "markdown",
   "metadata": {},
   "source": [
    "## Management of Flux services\n",
    "\n",
    "To manage and query services, Flux provides the `flux module` command. The sub-commands provided by `flux module` can be seen by running the cell below."
   ]
  },
  {
   "cell_type": "code",
   "execution_count": null,
   "metadata": {},
   "outputs": [],
   "source": [
    "!flux module --help"
   ]
  },
  {
   "cell_type": "markdown",
   "metadata": {},
   "source": [
    "While going through [Module 2](./02_flux_scheduling.ipynb), we've already encountered some built-in services provided by Flux, such as:\n",
    "* `job-ingest` (used by Flux submission commands like `flux batch` and `flux run`)\n",
    "* `job-list` (used by `flux jobs`)\n",
    "* `sched-fluxion-qmanager` (used by `flux tree`)\n",
    "* `sched-fluxion-resource` (also used by `flux tree`)\n",
    "\n",
    "We can see that these services are loaded and available by running the cell below."
   ]
  },
  {
   "cell_type": "code",
   "execution_count": null,
   "metadata": {},
   "outputs": [],
   "source": [
    "!flux module list"
   ]
  },
  {
   "cell_type": "markdown",
   "metadata": {},
   "source": [
    "Users and system administrators can easily load and unload services using the `flux module load` and `flux module remove` commands. To show this, let's unload Fluxion (Flux's graph-based scheduler) and replace it with the built-in simple scheduler."
   ]
  },
  {
   "cell_type": "code",
   "execution_count": null,
   "metadata": {},
   "outputs": [],
   "source": [
    "!flux module remove sched-fluxion-qmanager\n",
    "!flux module remove sched-fluxion-resource\n",
    "!flux module load sched-simple\n",
    "!flux module list"
   ]
  },
  {
   "cell_type": "markdown",
   "metadata": {},
   "source": [
    "In this code block, we unload the 2 services that comprise Fluxion: `sched-fluxion-qmanager` and `sched-fluxion-resource`. Next, we load the simple scheduler (`sched-simple`), and, finally, we look at the running servicees. We now see that Fluxion is not available, and the simple scheduler is.\n",
    "\n",
    "Next, let's reload Fluxion, but, this time, let's pass some extra arguments to specialize our Flux instance. In particular, we will limit the scheduling depth to 4 and populate Fluxion's resource graph with:\n",
    "* Nodes\n",
    "* Sockets\n",
    "* Cores"
   ]
  },
  {
   "cell_type": "code",
   "execution_count": null,
   "metadata": {},
   "outputs": [],
   "source": [
    "# Run flux dmesg to make sure sched-simple has no more work before unloading\n",
    "!flux dmesg -C\n",
    "!flux module remove sched-simple\n",
    "!flux module load sched-fluxion-resource load-allowlist=node,socket,core\n",
    "!flux module load sched-fluxion-qmanager queue-params=queue-depth=4\n",
    "!flux module list"
   ]
  },
  {
   "cell_type": "markdown",
   "metadata": {},
   "source": [
    "## Examples of services in Flux\n",
    "\n",
    "In this section, we will cover two services that expand Flux's usefulness to diverse applications:\n",
    "1. `flux kvs`\n",
    "2. `flux archive`"
   ]
  },
  {
   "cell_type": "markdown",
   "metadata": {},
   "source": [
    "### flux kvs\n",
    "\n",
    "One of the core services built into Flux is the key-value store (KVS). It is used in many other services, including most of Flux's resource management services, the `flux archive` service below, and DYAD (which we will explore in [Module 4](./04_dyad_dlio.ipynb)). These services use the KVS to persistantly store information and retrieve it later (potentially after a restart of Flux).\n",
    "\n",
    "The `flux kvs` command provides a utility to list and manipulate values of the KVS. As a example of using `flux kvs`, let's use the command to examine information saved by the `resource` service."
   ]
  },
  {
   "cell_type": "code",
   "execution_count": null,
   "metadata": {},
   "outputs": [],
   "source": [
    "!flux kvs ls\n",
    "!flux kvs ls resource\n",
    "!flux kvs get resource.R | jq"
   ]
  },
  {
   "cell_type": "markdown",
   "metadata": {},
   "source": [
    "The KVS is such an essential component of Flux that we provide C and Python APIs to interact with it. To learn more about interacting with the KVS from these languages, take a look at these documentation pages:\n",
    "* C's `flux_kvs_commit` [family of functions](https://flux-framework.readthedocs.io/projects/flux-core/en/latest/man3/flux_kvs_commit.html)\n",
    "* C's `flux_kvs_copy` [family of functions](https://flux-framework.readthedocs.io/projects/flux-core/en/latest/man3/flux_kvs_copy.html)\n",
    "* C's `flux_kvs_getroot` [family of functions](https://flux-framework.readthedocs.io/projects/flux-core/en/latest/man3/flux_kvs_getroot.html)\n",
    "* C's `flux_kvs_lookup` [family of functions](https://flux-framework.readthedocs.io/projects/flux-core/en/latest/man3/flux_kvs_lookup.html)\n",
    "* C's `flux_kvs_namespace_create` [family of functions](https://flux-framework.readthedocs.io/projects/flux-core/en/latest/man3/flux_kvs_namespace_create.html)\n",
    "* C's `flux_kvs_txn_create` [family of functions](https://flux-framework.readthedocs.io/projects/flux-core/en/latest/man3/flux_kvs_txn_create.html)\n",
    "* Python's `flux.kvs` [module](https://flux-framework.readthedocs.io/projects/flux-core/en/latest/python/autogenerated/flux.kvs.html#module-flux.kvs)"
   ]
  },
  {
   "cell_type": "markdown",
   "metadata": {},
   "source": [
    "### flux archive\n",
    "\n",
    "As Flux is used more in cloud environments, we might find ourselves in a situation where we have a cluster without a shared filesystem. The `flux archive` command helps with this situation. At a high level, `flux archive` allows us to save named pieces of data (e.g., files) to the Flux KVS for later retrieval.\n",
    "\n",
    "When using `flux archive`, we first have to create an named archive. In the code below, we will create a text file and then save it into an archive using `flux archive`. Note that, for larger files, you can speed up the creation and extraction of archives by using the `--mmap` flag."
   ]
  },
  {
   "cell_type": "code",
   "execution_count": null,
   "metadata": {},
   "outputs": [],
   "source": [
    "!echo \"Sweet dreams 🌚️ are made of cheese, who am I to diss a brie? 🧀️\" > shared-file.txt\n",
    "!flux archive create --name myarchive --directory $(pwd) shared-file.txt"
   ]
  },
  {
   "cell_type": "markdown",
   "metadata": {},
   "source": [
    "When we run this code, we are creating an archive in the leader broker. Now that the archive is created, we will want to extract its contents onto the other nodes of our cluster. To do this, we first need to ensure that the directory that we will extract into exists on those nodes. This can be done using `flux exec`. The `flux exec` command will execute a command on the nodes associated with specified brokers. Let's use `flux exec` to run `mkdir` on all the nodes of our cluster except the leader broker's node."
   ]
  },
  {
   "cell_type": "code",
   "execution_count": null,
   "metadata": {},
   "outputs": [],
   "source": [
    "!flux exec -r all -x 0 mkdir -p $(pwd)"
   ]
  },
  {
   "cell_type": "markdown",
   "metadata": {},
   "source": [
    "The flags provided to `flux exec` do the following:\n",
    "* `-r all`: run across all brokers in the Flux instance\n",
    "* `-x 0`: don't runn on broker 0 (i.e., the leader broker)\n",
    "\n",
    "Now that the directory has been created on all our nodes, we can extract the archive onto those nodes by combining `flux exec` and `flux archive extract`."
   ]
  },
  {
   "cell_type": "code",
   "execution_count": null,
   "metadata": {},
   "outputs": [],
   "source": [
    "!flux exec -r all -x 0 flux archive extract --name myarchive --directory $(pwd) shared-file.txt"
   ]
  },
  {
   "cell_type": "markdown",
   "metadata": {},
   "source": [
    "Finally, when we're done with the archive, we can remove it with `flux archive remove`."
   ]
  },
  {
   "cell_type": "code",
   "execution_count": null,
   "metadata": {},
   "outputs": [],
   "source": [
    "!flux archive remove --name myarchive"
   ]
  },
  {
   "cell_type": "markdown",
   "metadata": {},
   "source": [
    "Finally, note that `flux archive` was named `flux filemap` in earlier versions of Flux.\n",
    "\n",
    "`flux kvs` and `flux archive` are two useful, but simple exammples of Flux services. Flux also supports more complex services, including services for runtime data movement, such as DYAD (covered in [Module 4](./04_dyad_dlio.ipynb))."
   ]
  },
  {
   "cell_type": "markdown",
   "metadata": {},
   "source": [
    "# This concludes Module 3.\n",
    "\n",
    "In this module, we covered:\n",
    "1. The structure of Flux instances and how that structure enables distributed services (including traditional and hierarchical scheduling)\n",
    "2. How to start and stop services in Flux\n",
    "3. Two useful services for users of Flux (i.e., `flux kvs` and `flux archive`)\n",
    "\n",
    "To continue with the tutorial, open [Module 4](./04_dyad_dlio.ipynb)."
   ]
  },
  {
   "cell_type": "markdown",
   "metadata": {},
   "source": []
  }
 ],
 "metadata": {
  "language_info": {
   "name": "python"
  }
 },
 "nbformat": 4,
 "nbformat_minor": 2
}
