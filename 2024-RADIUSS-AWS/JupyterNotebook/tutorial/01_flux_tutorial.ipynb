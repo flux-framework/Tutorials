{
 "cells": [
  {
   "cell_type": "markdown",
   "id": "2507d149-dcab-458a-a554-37388e0ee13a",
   "metadata": {
    "tags": []
   },
   "source": [
    "<div>\n",
    "<center><img src=\"Flux-logo.svg\" width=\"400\"/>\n",
    "</div>"
   ]
  },
  {
   "cell_type": "markdown",
   "id": "40e867ba-f689-4301-bb60-9a448556bb84",
   "metadata": {
    "tags": []
   },
   "source": [
    "# Welcome to the Flux Tutorial\n",
    "\n",
    "> What is Flux Framework? 🤔️\n",
    " \n",
    "Flux is a flexible framework for resource management, built for your site. The framework consists of a suite of projects, tools, and libraries that may be used to build site-custom resource managers for High Performance Computing centers and cloud environments. Flux is a next-generation resource manager and scheduler with many transformative capabilities like hierarchical scheduling and resource management (you can think of it as \"fractal scheduling\") and directed-graph based resource representations.\n",
    "\n",
    "> I'm ready! How do I do this tutorial? 😁️\n",
    "\n",
    "To step through examples in this notebook you need to execute cells. To run a cell, press Shift+Enter on your keyboard. If you prefer, you can also paste the shell commands in the <button data-commandLinker-command=\"terminal:open\" data-name=\"flux\" href=\"#\">JupyterLab terminal</button> and execute them there. This notebook provides the main Flux tutorial, and we have several other modules available:\n",
    "\n",
    "## I'm ready! How do I do this tutorial? 😁️\n",
    "\n",
    "This tutorial is split into 3 chapters, each of which has a notebook:\n",
    "* [Chapter 1: Getting started with Flux](./01_flux_tutorial.ipynb) (you're already here, it's this notebook!)\n",
    "* [Chapter 2: Flux Plumbing](./02_flux_framework.ipynb)\n",
    "* [Chapter 3: Lessons learned, next steps, and discussion](./03_flux_tutorial_conclusions.ipynb)\n",
    "\n",
    "And if you have some extra time and interest, we have supplementary chapters to teach you about advanced (often experimental, or under development) features:\n",
    "\n",
    "* [Supplementary Chapter 1: Using DYAD to accelerate distributed Deep Learning (DL) training](./supplementary/dyad/dyad_dlio.ipynb)\n",
    "\n",
    "Let's get started! To provide some brief, added background on Flux and a bit more motivation for our tutorial, \"Shift+Enter\" the cell below to watch our YouTube video!"
   ]
  },
  {
   "cell_type": "code",
   "execution_count": 1,
   "id": "d71ecd22-8552-4b4d-9bc4-61d86f8d33fe",
   "metadata": {
    "tags": []
   },
   "outputs": [
    {
     "data": {
      "text/html": [
       "<iframe width=\"640\" height=\"360\" \n",
       "    src=\"https://www.youtube.com/embed/YIwt51dyXOE\" \n",
       "    title=\"YouTube video player\" \n",
       "    frameborder=\"0\" allow=\"accelerometer; autoplay; clipboard-write; encrypted-media; gyroscope; picture-in-picture\" \n",
       "    allowfullscreen>\n",
       "</iframe>\n"
      ],
      "text/plain": [
       "<IPython.core.display.HTML object>"
      ]
     },
     "metadata": {},
     "output_type": "display_data"
    }
   ],
   "source": [
    "%%html\n",
    "<iframe width=\"640\" height=\"360\" \n",
    "    src=\"https://www.youtube.com/embed/YIwt51dyXOE\" \n",
    "    title=\"YouTube video player\" \n",
    "    frameborder=\"0\" allow=\"accelerometer; autoplay; clipboard-write; encrypted-media; gyroscope; picture-in-picture\" \n",
    "    allowfullscreen>\n",
    "</iframe>"
   ]
  },
  {
   "cell_type": "markdown",
   "id": "15e82c38-8465-49ac-ae2b-b0bb56a79ec9",
   "metadata": {
    "tags": []
   },
   "source": [
    "# Getting started with Flux\n",
    "\n",
    "The code and examples that this tutorial is based on can be found at [flux-framework/Tutorials](https://github.com/flux-framework/Tutorials/tree/master/2024-RADIUSS-AWS). You can also find python examples in the `flux-workflow-examples` directory from the sidebar navigation in this JupyterLab instance.\n",
    "\n",
    "## Resources\n",
    "\n",
    "> Looking for other resources? We got you covered! 🤓️\n",
    "\n",
    " - [https://flux-framework.org/](https://flux-framework.org/) Flux Framework portal for projects, releases, and publication.\n",
    " - [Flux Documentation](https://flux-framework.readthedocs.io/en/latest/).\n",
    " - [Flux Framework Cheat Sheet](https://flux-framework.org/cheat-sheet/)\n",
    " - [Flux Glossary of Terms](https://flux-framework.readthedocs.io/en/latest/glossary.html)\n",
    " - [Flux Comics](https://flux-framework.readthedocs.io/en/latest/comics/fluxonomicon.html) come and meet FluxBird - the pink bird who knows things!\n",
    " - [Flux Learning Guide](https://flux-framework.readthedocs.io/en/latest/guides/learning_guide.html) learn about what Flux does, how it works, and real research applications \n",
    " - [Getting Started with Flux and Go](https://converged-computing.github.io/flux-go/)\n",
    " - [Getting Started with Flux in C](https://converged-computing.github.io/flux-c-examples/) *looking for contributors*\n",
    "\n",
    "To read the Flux manpages and get help, run `flux help`. To get documentation on a subcommand, run, e.g. `flux help config`.  Here is an example of running `flux help` right from the notebook. Yes, did you know we are running in a Flux Instance right now?"
   ]
  },
  {
   "cell_type": "code",
   "execution_count": 3,
   "id": "c7d616de-70cd-4090-bd43-ffacb5ade1f6",
   "metadata": {
    "collapsed": true,
    "jupyter": {
     "outputs_hidden": true
    },
    "tags": []
   },
   "outputs": [
    {
     "name": "stdout",
     "output_type": "stream",
     "text": [
      "Usage: flux [OPTIONS] COMMAND ARGS\n",
      "  -h, --help             Display this message.\n",
      "  -v, --verbose          Be verbose about environment and command search\n",
      "  -V, --version          Display command and component versions\n",
      "  -p, --parent           Set environment of parent instead of current instance\n",
      "\n",
      "For general Flux documentation, please visit\n",
      "    https://flux-framework.readthedocs.io\n",
      "\n",
      "run and submit jobs, allocate resources\n",
      "   submit             submit a job to a Flux instance\n",
      "   run                run a Flux job interactively\n",
      "   bulksubmit         submit jobs in bulk to a Flux instance\n",
      "   alloc              allocate a new Flux instance for interactive use\n",
      "   batch              submit a batch script to Flux\n",
      "\n",
      "list and interact with jobs\n",
      "   jobs               list jobs submitted to Flux\n",
      "   top                display running Flux jobs\n",
      "   pstree             display job hierarchies\n",
      "   cancel             cancel one or more jobs\n",
      "   pgrep/pkill        search or cancel matching jobs\n",
      "   job                get job status, info, etc (see: flux help job)\n",
      "   proxy              proxy connections to Flux jobs and instances\n",
      "   watch              monitor one or more Flux jobs\n",
      "   update             update active Flux jobs\n",
      "\n",
      "get resource, queue and other instance information\n",
      "   resource           list/manipulate Flux resource status\n",
      "   queue              list and manipulate flux queues\n",
      "   overlay            Show flux overlay network status\n",
      "   uptime             Tell how long Flux has been up and running\n",
      "\n",
      "other useful commands\n",
      "   start              bootstrap a local Flux instance\n",
      "   version            Display flux version information\n",
      "   config             Manage/query Flux configuration\n",
      "   env                Print the flux environment or execute a command inside it\n",
      "   hostlist           fetch, combine, and manipulate Flux hostlists\n",
      "\n",
      "See 'flux help COMMAND' for more information about a specific command.\n"
     ]
    }
   ],
   "source": [
    "!flux help"
   ]
  },
  {
   "cell_type": "markdown",
   "id": "ae33fef6-278c-4996-8534-fd15e548b338",
   "metadata": {
    "tags": []
   },
   "source": [
    "<div class=\"alert alert-block alert-info\">\n",
    "<span style=\"font-weight:600\">Tip:</span> Did you know you can also get help for a specific command? For example, run, `flux help jobs` to get information on a sub-command.\n",
    "</div>"
   ]
  },
  {
   "cell_type": "code",
   "execution_count": 30,
   "id": "2e54f640-283a-4523-8dde-9617fd6ef0c5",
   "metadata": {
    "collapsed": true,
    "jupyter": {
     "outputs_hidden": true
    },
    "scrolled": true,
    "tags": []
   },
   "outputs": [
    {
     "name": "stdout",
     "output_type": "stream",
     "text": [
      "FLUX-JOBS(1)                       flux-core                      FLUX-JOBS(1)\n",
      "\n",
      "NAME\n",
      "       flux-jobs - list jobs submitted to Flux\n",
      "\n",
      "SYNOPSIS\n",
      "       flux jobs [OPTIONS] [JOBID ...]\n",
      "\n",
      "DESCRIPTION\n",
      "       flux  jobs is used to list jobs run under Flux. By default only pending\n",
      "       and running jobs for the current user are listed. Additional  jobs  and\n",
      "       information  can  be  listed  using options listed below.  Alternately,\n",
      "       specific job ids can be listed on the command line to only  list  those\n",
      "       job IDs.\n",
      "\n",
      "OPTIONS\n",
      "       -a     List  jobs  in  all  states,  including  inactive jobs.  This is\n",
      "              shorthand for --filter=pending,running,inactive.\n",
      "\n",
      "       -A     List jobs of all users. This is shorthand for --user=all.\n",
      "\n",
      "       -n, --no-header\n",
      "              For default output, do not output column headers.\n",
      "\n",
      "       -u, --user=[USERNAME|UID]\n",
      "              List jobs for a specific username or userid. Specify all for all\n",
      "              users.\n",
      "\n",
      "       --name=[JOB NAME]\n",
      "              List jobs with a specific job name.\n",
      "\n",
      "       --queue=[QUEUE]\n",
      "              List jobs in a specific queue.\n",
      "\n",
      "       -c, --count=N\n",
      "              Limit output to N jobs (default 1000)\n",
      "\n",
      "       --since=WHEN\n",
      "              Limit  output  to jobs that have been active since a given time‐\n",
      "              stamp.  In other words, jobs that are  currently  pending,  cur‐\n",
      "              rently  running,  or  became inactive since the given timestamp.\n",
      "              This option implies -a if no other --filter options  are  speci‐\n",
      "              fied.   If  WHEN  begins with - character, then the remainder is\n",
      "              considered to be a an offset in Flux standard duration (RFC 23).\n",
      "              Otherwise,  any  datetime  expression  accepted  by the Python ‐\n",
      "              parsedatetime module is accepted. Examples: \"-6h\", \"-1d\",  \"yes‐\n",
      "              terday\",  \"2021-06-21 6am\", \"last Monday\", etc. It is assumed to\n",
      "              be an error if a timestamp in the future is supplied.\n",
      "\n",
      "       -f, --filter=STATE|RESULT\n",
      "              List jobs with specific job state or result. Multiple states  or\n",
      "              results  can  be listed separated by comma. See JOB STATUS below\n",
      "              for additional information. Defaults to pending,running.\n",
      "\n",
      "       -o, --format=NAME|FORMAT\n",
      "              Specify a named output format NAME  or  a  format  string  using\n",
      "              Python's format syntax. See OUTPUT FORMAT below for field names.\n",
      "              Named formats may be listed via --format=help.  An alternate de‐\n",
      "              fault  format  can be set via the FLUX_JOBS_FORMAT_DEFAULT envi‐\n",
      "              ronment variable.  Additional named formats  may  be  registered\n",
      "              with flux jobs via configuration.  See the CONFIGURATION section\n",
      "              for more details. A configuration snippet for an existing  named\n",
      "              format may be generated with --format=get-config=NAME.\n",
      "\n",
      "       --json Emit  data for selected jobs in JSON format. The data for multi‐\n",
      "              ple matching jobs is contained in a jobs array  in  the  emitted\n",
      "              JSON  object,  unless  a single job was selected by jobid on the\n",
      "              command line, in which case a JSON object representing that  job\n",
      "              is  emitted on success. With --recursive, each job which is also\n",
      "              an instance of Flux will will have any recursively  listed  jobs\n",
      "              in a jobs array, and so on for each sub-child.\n",
      "\n",
      "              Only  the attributes which are available at the time of the flux\n",
      "              jobs query will be present in the returned  JSON  object  for  a\n",
      "              job.  For instance a pending job will not have runtime, waitsta‐\n",
      "              tus or result keys, among others. A missing key should  be  con‐\n",
      "              sidered unavailable.\n",
      "\n",
      "              The --json option is incompatible with --stats and --stats-only,\n",
      "              and any --format is ignored.\n",
      "\n",
      "       --color[=WHEN]\n",
      "              Control output coloring.  The  optional  argument  WHEN  can  be\n",
      "              auto,  never, or always.  If WHEN is omitted, it defaults to al‐\n",
      "              ways.  Otherwise the default is auto.\n",
      "\n",
      "       --stats\n",
      "              Output a summary of job statistics before the  header.   By  de‐\n",
      "              fault  shows  global statistics.  If --queue is specified, shows\n",
      "              statistics for the specified queue.  May be useful  in  conjunc‐\n",
      "              tion with utilities like watch(1), e.g.:\n",
      "\n",
      "                 $ watch -n 2 flux jobs --stats -f running -c 25\n",
      "\n",
      "              will  display a summary of statistics along with the top 25 run‐\n",
      "              ning jobs, updated every 2 seconds.\n",
      "\n",
      "              Note that all job failures, including canceled and timeout jobs,\n",
      "              are collectively counted as \"failed\" in --stats.\n",
      "\n",
      "       --stats-only\n",
      "              Output  a  summary of job statistics and exit.  By default shows\n",
      "              global statistics.  If --queue is  specified,  shows  statistics\n",
      "              for the specified queue.  flux jobs will exit with non-zero exit\n",
      "              status with --stats-only if there are no active jobs.  This  al‐\n",
      "              lows the following loop to work:\n",
      "\n",
      "                 $ while flux jobs --stats-only; do sleep 2; done\n",
      "\n",
      "              All  options other than --queue are ignored when --stats-only is\n",
      "              used.\n",
      "\n",
      "              Note that all job failures, including canceled and timeout jobs,\n",
      "              are collectively counted as \"failed\" in --stats-only.\n",
      "\n",
      "       -R, --recursive\n",
      "              List  jobs recursively. Each child job which is also an instance\n",
      "              of Flux is prefixed by its jobid \"path\" followed by the list  of\n",
      "              jobs,  recursively up to any defined --level. If the --stats op‐\n",
      "              tion is used, then each  child  instance  in  the  hierarchy  is\n",
      "              listed with its stats.\n",
      "\n",
      "       --recurse-all\n",
      "              By  default,  jobs  not  owned by the user running flux jobs are\n",
      "              skipped with --recursive, because normally Flux  instances  only\n",
      "              permit  the  instance  owner  to connect. This option forces the\n",
      "              command to attempt to recurse into the jobs of other users.  Im‐\n",
      "              plies --recursive.\n",
      "\n",
      "       -L, --level=N\n",
      "              With --recursive, stop recursive job listing at level N.  Levels\n",
      "              are counted starting at 0, so flux jobs -R --level=0 is  equiva‐\n",
      "              lent  to  flux jobs without -R, and --level=1 would limit recur‐\n",
      "              sive job listing to child jobs of the current instance.\n",
      "\n",
      "       --threads=N\n",
      "              When flux jobs recursively queries job lists (with  --recursive)\n",
      "              or fetches info for jobs that are also instances (see instance.*\n",
      "              fields), a pool of threads is used to parallelize  the  required\n",
      "              RPCs. Normally, the default number of ThreadPoolExecutor threads\n",
      "              is used, but by  using  the  --threads,  a  specific  number  of\n",
      "              threads can be chosen.\n",
      "\n",
      "JOB STATUS\n",
      "       Jobs  may  be observed to pass through five job states in Flux: DEPEND,\n",
      "       PRIORITY, SCHED, RUN, CLEANUP, and INACTIVE (see Flux  RFC  21).  Under\n",
      "       the  state_single  field  name, these are abbreviated as D, S, P, R, C,\n",
      "       and I respectively. For convenience and clarity, the following  virtual\n",
      "       job  states  also exist: \"pending\", an alias for DEPEND,PRIORITY,SCHED;\n",
      "       \"running\", an alias for RUN,CLEANUP;  \"active\",  an  alias  for  \"pend‐\n",
      "       ing,running\".\n",
      "\n",
      "       After a job has finished and is in the INACTIVE state, it can be marked\n",
      "       with one of the possible results: COMPLETED, FAILED, CANCELED, TIMEOUT.\n",
      "       Under the result_abbrev field name, these are abbreviated as CD, F, CA,\n",
      "       and TO respectively.\n",
      "\n",
      "       The job status is a user friendly mix of both, a job is always  in  one\n",
      "       of  the following statuses: DEPEND, PRIORITY, SCHED, RUN, CLEANUP, COM‐\n",
      "       PLETED, FAILED, CANCELED, or TIMEOUT.  Under  the  status_abbrev  field\n",
      "       name, these are abbreviated as D, P, S, R, C, CD, F, CA, and TO respec‐\n",
      "       tively.\n",
      "\n",
      "OUTPUT FORMAT\n",
      "       The --format option can be used to specify an  output  format  to  flux\n",
      "       jobs using Python's string format syntax. For example, the following is\n",
      "       the format used for the default format:\n",
      "\n",
      "          {id.f58:>12} ?:{queue:<8.8} {username:<8.8} {name:<10.10+} \\\n",
      "          {status_abbrev:>2.2} {ntasks:>6} {nnodes:>6h} \\\n",
      "          {contextual_time!F:>8h} {contextual_info}\n",
      "\n",
      "       If a format field is preceded by the special string ?: this will  cause\n",
      "       the  field to be removed entirely from output if the result would be an\n",
      "       empty string or zero value for all jobs in the listing. E.g.:\n",
      "\n",
      "          {id.f58:>12} ?:{exception.type}\n",
      "\n",
      "       would eliminate the EXCEPTION-TYPE column if no jobs in  the  list  re‐\n",
      "       ceived  an exception. (Thus the job queue is only displayed if at least\n",
      "       one job has a queue assigned in the default format shown above).\n",
      "\n",
      "       As a reminder to the reader, some shells will interpret braces  ({  and\n",
      "       }) in the format string.  They may need to be quoted.\n",
      "\n",
      "       The special presentation type h can be used to convert an empty string,\n",
      "       \"0s\", \"0.0\", \"0:00:00\", or epoch time to a hyphen.  For  example,  nor‐\n",
      "       mally  \"{nodelist}\" would output an empty string if the job has not yet\n",
      "       run.  By specifying, \"{nodelist:h}\", a hyphen would  be  presented  in‐\n",
      "       stead.\n",
      "\n",
      "       The  special suffix + can be used to indicate if a string was truncated\n",
      "       by including a + character when truncation occurs. If both h and +  are\n",
      "       being used, then the + must appear after the h.\n",
      "\n",
      "       Additionally,  the  custom job formatter supports a set of special con‐\n",
      "       version flags. Conversion flags follow the format field and are used to\n",
      "       transform  the value before formatting takes place. Currently, the fol‐\n",
      "       lowing conversion flags are supported by flux jobs:\n",
      "\n",
      "       !D     convert a  timestamp  field  to  ISO8601  date  and  time  (e.g.\n",
      "              2020-01-07T13:31:00).   Defaults  to  empty  string if timestamp\n",
      "              field does not exist or the timestamp is 0 (i.e epoch time).\n",
      "\n",
      "       !d     convert a timestamp to a Python  datetime  object.  This  allows\n",
      "              datetime   specific   format   to   be   used,   e.g.   {t_inac‐\n",
      "              tive!d:%H:%M:%S}. Additionally, width and alignment can be spec‐\n",
      "              ified  after  the  time  format  by  using two colons (::), e.g.\n",
      "              {t_inactive!d:%H:%M:%S::>20}. Returns an empty string (or \"-\" if\n",
      "              the h suffix is used) for an unset timestamp.\n",
      "\n",
      "       !F     convert  a time duration in floating point seconds to Flux Stan‐\n",
      "              dard Duration (FSD)  string  (e.g.  {runtime!F}).   Defaults  to\n",
      "              empty string if field does not exist.\n",
      "\n",
      "       !H     convert  a time duration in floating point seconds to hours:min‐\n",
      "              utes:seconds form (e.g. {runtime!H}).  Defaults to empty  string\n",
      "              if time duration field does not exist.\n",
      "\n",
      "       !P     convert  a  floating point number into a percentage fitting in 5\n",
      "              characters including the \"%\" character. E.g. 0.5  becomes  \"50%\"\n",
      "              0.015 becomes 1.5%, and 0.0005 becomes 0.05% etc.\n",
      "\n",
      "       As a reminder to the reader, some shells will interpret the exclamation\n",
      "       point (!) when using a conversion flag.  The exclamation point may need\n",
      "       to be escaped (\\!).\n",
      "\n",
      "       Annotations  can be retrieved via the annotations field name.  Specific\n",
      "       keys and sub-object keys can be retrieved separated by a period  (\".\").\n",
      "       For example, if the scheduler has annotated the job with a reason pend‐\n",
      "       ing status, it can be  retrieved  via  \"{annotations.sched.reason_pend‐\n",
      "       ing}\".\n",
      "\n",
      "       As a convenience, the field names sched and user can be used as substi‐\n",
      "       tutions for annotations.sched and  annotations.user.   For  example,  a\n",
      "       reason pending status can be retrieved via \"{sched.reason_pending}\".\n",
      "\n",
      "       The field names that can be specified are:\n",
      "\n",
      "       id     job ID\n",
      "\n",
      "       id.f58 job ID in RFC 19 F58 (base58) encoding\n",
      "\n",
      "       id.f58plain\n",
      "              job ID in RFC 19 F58 encoding with ascii f\n",
      "\n",
      "       id.dec job ID in decimal representation\n",
      "\n",
      "       id.hex job ID in 0x prefix hexadecimal representation\n",
      "\n",
      "       id.dothex\n",
      "              job ID in dotted hexadecimal representation (xx.xx.xx.xx)\n",
      "\n",
      "       id.words\n",
      "              job ID in mnemonic encoding\n",
      "\n",
      "       id.emoji\n",
      "              job ID in emoji encoding\n",
      "\n",
      "       userid job submitter's userid\n",
      "\n",
      "       username\n",
      "              job submitter's username\n",
      "\n",
      "       urgency\n",
      "              job urgency\n",
      "\n",
      "       priority\n",
      "              job priority\n",
      "\n",
      "       dependencies\n",
      "              list of any currently outstanding job dependencies\n",
      "\n",
      "       status job status (DEPEND, SCHED, RUN, CLEANUP, COMPLETED, FAILED, CAN‐\n",
      "              CELED, or TIMEOUT)\n",
      "\n",
      "       status_abbrev\n",
      "              status but in a max 2 character abbreviation\n",
      "\n",
      "       status_emoji\n",
      "              status but an appropriate emoji instead of job state / result\n",
      "\n",
      "       name   job name\n",
      "\n",
      "       cwd    job current working directory\n",
      "\n",
      "       queue  job queue\n",
      "\n",
      "       project\n",
      "              job accounting project\n",
      "\n",
      "       bank   job accounting bank\n",
      "\n",
      "       ntasks job task count\n",
      "\n",
      "       ncores job core count\n",
      "\n",
      "       duration\n",
      "              job duration in seconds\n",
      "\n",
      "       nnodes job node count (if job ran / is running), empty string otherwise\n",
      "\n",
      "       ranks  job ranks (if job ran / is running), empty string otherwise\n",
      "\n",
      "       nodelist\n",
      "              job nodelist (if job ran / is running), empty string otherwise\n",
      "\n",
      "       state  job state (DEPEND, SCHED, RUN, CLEANUP, INACTIVE)\n",
      "\n",
      "       state_single\n",
      "              job state as a single character\n",
      "\n",
      "       state_emoji\n",
      "              job state but an appropriate emoji  instead  of  DEPEND,  SCHED,\n",
      "              RUN, CLEANUP, or INACTIVE\n",
      "\n",
      "       result job  result  if  job  is  inactive (COMPLETED, FAILED, CANCELED,\n",
      "              TIMEOUT), empty string otherwise\n",
      "\n",
      "       result_abbrev\n",
      "              result but in a max 2 character abbreviation\n",
      "\n",
      "       result_emoji\n",
      "              result but an appropriate emoji instead  of  COMPLETED,  FAILED,\n",
      "              CANCELED, or TIMEOUT\n",
      "\n",
      "       success\n",
      "              True of False if job completed successfully, empty string other‐\n",
      "              wise\n",
      "\n",
      "       waitstatus\n",
      "              The raw status of the job as returned by waitpid(2) if  the  job\n",
      "              exited, otherwise an empty string. Note: waitstatus is the maxi‐\n",
      "              mum wait status returned by all job shells in a job,  which  may\n",
      "              not  necessarily indicate the highest task wait status. (The job\n",
      "              shell exits with the maximum task exit  status,  unless  a  task\n",
      "              died  due  to  a  signal,  in  which  case  the shell exits with\n",
      "              128+signo)\n",
      "\n",
      "       returncode\n",
      "              The job return code if the job has exited, or an empty string if\n",
      "              the job is still active. The return code of a job is the highest\n",
      "              job shell exit code, or negative signal number if the job  shell\n",
      "              was  terminated  by  a signal. If the job was canceled before it\n",
      "              started, then the returncode is set to the special value -128.\n",
      "\n",
      "       exception.occurred\n",
      "              True of False if job had an exception, empty string otherwise\n",
      "\n",
      "       exception.severity\n",
      "              If exception.occurred True, the highest severity,  empty  string\n",
      "              otherwise\n",
      "\n",
      "       exception.type\n",
      "              If exception.occurred True, the highest severity exception type,\n",
      "              empty string otherwise\n",
      "\n",
      "       exception.note\n",
      "              If exception.occurred True, the highest severity exception note,\n",
      "              empty string otherwise\n",
      "\n",
      "       t_submit\n",
      "              time job was submitted\n",
      "\n",
      "       t_depend\n",
      "              time job entered depend state\n",
      "\n",
      "       t_run  time job entered run state\n",
      "\n",
      "       t_cleanup\n",
      "              time job entered cleanup state\n",
      "\n",
      "       t_inactive\n",
      "              time job entered inactive state\n",
      "\n",
      "       runtime\n",
      "              job runtime\n",
      "\n",
      "       expiration\n",
      "              time at which job allocation was marked to expire\n",
      "\n",
      "       t_remaining\n",
      "              If job is running, amount of time remaining before expiration\n",
      "\n",
      "       annotations\n",
      "              annotations metadata, use \".\" to get specific keys\n",
      "\n",
      "       sched  short hand for annotations.sched\n",
      "\n",
      "       user   short hand for annotations.user\n",
      "\n",
      "       Field names which are specific to jobs which are also instances of Flux\n",
      "       include:\n",
      "\n",
      "       instance.stats\n",
      "              a short string describing current job  statistics  for  the  in‐\n",
      "              stance  of  the  form  PD:{pending}  R:{running} CD:{successful}\n",
      "              F:{failed}\n",
      "\n",
      "       instance.stats.total\n",
      "              total number of jobs in any state in the instance.\n",
      "\n",
      "       instance.utilization\n",
      "              number of cores currently allocated divided by the total  number\n",
      "              of  cores.  Can be formatted as a percentage with !P, e.g.  {in‐\n",
      "              stance.utilization!P:>4}.\n",
      "\n",
      "       instance.gpu_utilization\n",
      "              same as instance.utilization but for gpu resources\n",
      "\n",
      "       instance.progress\n",
      "              number of inactive jobs divided by the  total  number  of  jobs.\n",
      "              Can be formatted as a percentage with {instance.progress!P:>4}\n",
      "\n",
      "       instance.resources.<state>.{ncores,ngpus}\n",
      "              number  of  cores,  gpus in state state, where state can be all,\n",
      "              up,   down,   allocated,   or    free,    e.g.     {instance.re‐\n",
      "              sources.all.ncores}\n",
      "\n",
      "       The  following fields may return different information depending on the\n",
      "       state of the job or other context:\n",
      "\n",
      "       contextual_info\n",
      "              Returns selected information based on the job's  current  state.\n",
      "              If  the  job is in PRIORITY state, then the string priority-wait\n",
      "              is returned, if the job is in DEPEND state, then a list of  out‐\n",
      "              standing  dependencies is returned, if the job is in SCHED state\n",
      "              then an estimated time the job will  run  is  returned  (if  the\n",
      "              scheduler  supports it). Otherwise, the assigned nodelist is re‐\n",
      "              turned (if resources were assigned).\n",
      "\n",
      "       contextual_info\n",
      "              Returns the job runtime for jobs in RUN state or  later,  other‐\n",
      "              wise the job duration (if set) is returned.\n",
      "\n",
      "       inactive_reason\n",
      "              If  the  job  is inactive, returns the reason that the job is no\n",
      "              longer active.  Generally speaking, will output  \"Exit\",  \"Time‐\n",
      "              out\", \"Canceled\", or signal.  If available, other contextual in‐\n",
      "              formation will also be provided such as the exit  returncode  or\n",
      "              cancellation message.\n",
      "\n",
      "CONFIGURATION\n",
      "       The  flux jobs command supports registration of named output formats in\n",
      "       configuration  files.  The  command  loads  configuration  files   from\n",
      "       flux-jobs.EXT  from  the  following paths in order of increasing prece‐\n",
      "       dence:\n",
      "\n",
      "          • $XDG_CONFIG_DIRS/flux or /etc/xdg/flux if XDG_CONFIG_DIRS  is  not\n",
      "            set.  Note that XDG_CONFIG_DIRS is traversed in reverse order such\n",
      "            that entries first in the colon separated path are highest  prior‐\n",
      "            ity.\n",
      "\n",
      "          • $XDG_CONFIG_HOME/flux  or $HOME/.config/flux if XDG_CONFIG_HOME is\n",
      "            not set\n",
      "\n",
      "       where EXT can be one of toml, yaml, or json.\n",
      "\n",
      "       If there are multiple flux-jobs.* files found in a directory, then they\n",
      "       are loaded in lexical order (i.e. .json first, then .toml, then .yaml)\n",
      "\n",
      "       Named  formats  are  registered in a formats table or dictionary with a\n",
      "       key per format pointing to a table or dictionary with the keys:\n",
      "\n",
      "       format (required) The format string\n",
      "\n",
      "       description\n",
      "              (optional) A short description of the  named  format,  displayed\n",
      "              with flux jobs --format=help\n",
      "\n",
      "       If  a  format  name is specified in more than one config file, then the\n",
      "       last one loaded is used. Due to the order that flux jobs  loads  config\n",
      "       files, this allows user configuration to override system configuration.\n",
      "       It is an error to override any internally defined formats (such as  de‐\n",
      "       fault).\n",
      "\n",
      "       If a format name or string is not specified on the command line the in‐\n",
      "       ternally defined format default is used.\n",
      "\n",
      "       Example:\n",
      "\n",
      "          # $HOME/.config/flux/flux-jobs.toml\n",
      "\n",
      "          [formats.myformat]\n",
      "          description = \"My useful format\"\n",
      "          format = \"\"\"\\\n",
      "          {id.f58:>12} {name:>8.8} {t_submit!D:<19} \\\n",
      "          {t_run!D:<19} {t_remaining!F}\\\n",
      "          \"\"\"\n",
      "\n",
      "       It may be helpful to start with an existing named format by  using  the\n",
      "       --format=get-config=NAME option, e.g.:\n",
      "\n",
      "          $ flux jobs --format=get-config=default >> ~/.config/flux/flux-jobs.toml\n",
      "\n",
      "       Be  sure to change the name of the format string from default. It is an\n",
      "       error to redefine the default format string.\n",
      "\n",
      "EXAMPLES\n",
      "       The default output of flux jobs will list the pending and running  jobs\n",
      "       of the current user.  It is equivalent to:\n",
      "\n",
      "          $ flux jobs --filter=pending,running\n",
      "\n",
      "       To  list  all pending, running, and inactive jobs, of the current user,\n",
      "       you can use --filter option or the -a option:\n",
      "\n",
      "          $ flux jobs -a\n",
      "\n",
      "          OR\n",
      "\n",
      "          $ flux jobs --filter=pending,running,inactive\n",
      "\n",
      "       To alter which user's jobs are listed, specify the user with --user:\n",
      "\n",
      "          $ flux jobs --user=flux\n",
      "\n",
      "       Jobs that have finished may be filtered further by specifying  if  they\n",
      "       have  completed,  failed, or were canceled.  For example, the following\n",
      "       will list the jobs that have failed or were canceled:\n",
      "\n",
      "          $ flux jobs --filter=failed,canceled\n",
      "\n",
      "       The --format option can be used to alter the output  format  or  output\n",
      "       additional  information.   For  example, the following would output all\n",
      "       jobids for the user in decimal form, and  output  any  annotations  the\n",
      "       scheduler attached to each job:\n",
      "\n",
      "          $ flux jobs -a --format=\"{id} {annotations.sched}\"\n",
      "\n",
      "       The  following  would output the job id and exception information, so a\n",
      "       user can learn why a job failed.\n",
      "\n",
      "          $ flux jobs --filter=failed --format=\"{id} {exception.type} {exception.note}\"\n",
      "\n",
      "RESOURCES\n",
      "       Flux: http://flux-framework.org\n",
      "\n",
      "       Flux RFC: https://flux-framework.readthedocs.io/projects/flux-rfc\n",
      "\n",
      "SEE ALSO\n",
      "       flux-pstree(1)\n",
      "\n",
      "AUTHOR\n",
      "       This page is maintained by the Flux community.\n",
      "\n",
      "COPYRIGHT\n",
      "       Copyright 2014 Lawrence Livermore National Security, LLC and  Flux  de‐\n",
      "       velopers.\n",
      "\n",
      "       SPDX-License-Identifier: LGPL-3.0\n",
      "\n",
      "                                 Jun 06, 2024                     FLUX-JOBS(1)\n"
     ]
    }
   ],
   "source": [
    "!flux help jobs"
   ]
  },
  {
   "cell_type": "markdown",
   "id": "17e435d6-0927-4966-a4d7-47a128c94158",
   "metadata": {
    "tags": []
   },
   "source": [
    "### What does the terminal prompt mean?\n",
    "For cases when you need a terminal, we will <button data-commandLinker-command=\"terminal:open\" data-name=\"flux\" href=\"#\">provide you with a button</button>! However, you can also select `File -> New -> Terminal` to open one on the fly. Let's next talk about flux instances."
   ]
  },
  {
   "cell_type": "markdown",
   "id": "70e3df1d-32c9-4996-b6f7-2fa85f4c02ad",
   "metadata": {
    "tags": []
   },
   "source": [
    "# Creating Flux Instances\n",
    "\n",
    "A Flux instance is a fully functional set of services which manage compute resources under its domain with the capability to launch jobs on those resources. A Flux instance may be running as the default resource manager on a cluster, a job in a resource manager such as Slurm, LSF, or Flux itself, or as a test instance launched locally.\n",
    "\n",
    "When run as a job in another resource manager, Flux is started like an MPI program, e.g., under Slurm we might run `srun [OPTIONS] flux start [SCRIPT]`. Flux is unique in that a test instance that mimics a multi-node instance can be started locally with simply:\n",
    "\n",
    "```bash\n",
    "flux start --test-size=4\n",
    "```\n",
    "\n",
    "This offers users to a way to learn and test interfaces and commands without access to an HPC cluster.\n",
    "To start a Flux session with 4 brokers in your notebook container here, run:"
   ]
  },
  {
   "cell_type": "code",
   "execution_count": 5,
   "id": "d568de50-f9e0-452f-8364-e52853013d83",
   "metadata": {},
   "outputs": [
    {
     "name": "stdout",
     "output_type": "stream",
     "text": [
      "4\n"
     ]
    }
   ],
   "source": [
    "!flux start --test-size=4 flux getattr size"
   ]
  },
  {
   "cell_type": "markdown",
   "id": "e693f2d9-651f-4f58-bf53-62528caa83d9",
   "metadata": {},
   "source": [
    "When you run `flux start` without a command, it will give you an interactive shell to the instance. When you provide a command (as we do above) it will run it and exit. This is what happens for the command above! The output indicates the number of brokers started successfully. As soon as we get and print the size, we exit."
   ]
  },
  {
   "cell_type": "markdown",
   "id": "ec052119",
   "metadata": {},
   "source": [
    "## Flux Resources\n",
    "\n",
    "When you are interacting with Flux, you will commonly want to know what resources are available to you. Flux uses [hwloc](https://github.com/open-mpi/hwloc) to detect the resources on each node and then to populate its resource graph.\n",
    "\n",
    "You can access the topology information that Flux collects with the `flux resource` subcommand. Let's run `flux resource list` to see the resources available to us in this notebook:"
   ]
  },
  {
   "cell_type": "code",
   "execution_count": 1,
   "id": "scenic-chassis",
   "metadata": {},
   "outputs": [
    {
     "name": "stdout",
     "output_type": "stream",
     "text": [
      "     STATE NNODES   NCORES    NGPUS NODELIST\n",
      "      free      4       40        0 f5af[12550686,12550686,12550686,12550686]\n",
      " allocated      0        0        0 \n",
      "      down      0        0        0 \n"
     ]
    }
   ],
   "source": [
    "!flux resource list"
   ]
  },
  {
   "cell_type": "markdown",
   "id": "0086e47e",
   "metadata": {},
   "source": [
    "Flux can also bootstrap its resource graph based on static input files, like in the case of a multi-user system instance setup by site administrators.  [More information on Flux's static resource configuration files](https://flux-framework.readthedocs.io/en/latest/adminguide.html#resource-configuration).  Flux provides a more standard interface to listing available resources that works regardless of the resource input source: `flux resource`."
   ]
  },
  {
   "cell_type": "code",
   "execution_count": 2,
   "id": "prime-equilibrium",
   "metadata": {},
   "outputs": [
    {
     "name": "stdout",
     "output_type": "stream",
     "text": [
      "     STATE UP NNODES NODELIST\n",
      "     avail \u001b[01;32m ✔\u001b[0;0m      4 f5af[12550686,12550686,12550686,12550686]\n"
     ]
    }
   ],
   "source": [
    "# To view status of resources\n",
    "!flux resource status"
   ]
  },
  {
   "cell_type": "markdown",
   "id": "e6603d7f-dd45-4743-9efb-bf65ba7e2f22",
   "metadata": {},
   "source": [
    "It might also be the case that you need to see queues. Here is how to do that:"
   ]
  },
  {
   "cell_type": "code",
   "execution_count": 32,
   "id": "c7fbe877-c0bf-4296-a20b-21809caa72d7",
   "metadata": {},
   "outputs": [
    {
     "name": "stdout",
     "output_type": "stream",
     "text": [
      " DEFAULTTIME  TIMELIMIT     NNODES     NCORES      NGPUS\n",
      "         inf        inf      0-inf      0-inf      0-inf\n"
     ]
    }
   ],
   "source": [
    "!flux queue list"
   ]
  },
  {
   "cell_type": "markdown",
   "id": "dee2d6af-43fa-490e-88e9-10f13e660125",
   "metadata": {
    "tags": []
   },
   "source": [
    "# Flux Commands \n",
    "\n",
    "Here are how Flux commands map to a scheduler you are likely familiar with, Slurm. A larger table with similar mappings for LSF, Moab, and Slurm can be [viewed here](https://hpc.llnl.gov/banks-jobs/running-jobs/batch-system-cross-reference-guides). For submitting jobs, you can use the `flux` `submit`, `run`, `bulksubmit`, `batch`, and `alloc` commands.\n",
    "\n",
    "<table>\n",
    "    <tr>\n",
    "        <th>Operation</th>\n",
    "        <th>Slurm</th>\n",
    "        <th>Flux</th>\n",
    "    </tr>\n",
    "    <tr>\n",
    "        <td>One-off run of a single job (blocking)</td>\n",
    "        <td><code>srun</code></td>\n",
    "        <td><code>flux run</code></td>\n",
    "    </tr>\n",
    "    <tr>\n",
    "        <td>One-off run of a single job (interactive)</td>\n",
    "        <td><code>srun --pty</code></td>\n",
    "        <td><code>flux run -o pty.interactive</code></td>\n",
    "    </tr>\n",
    "    <tr>\n",
    "        <td>One-off run of a single job (not blocking)</td>\n",
    "        <td><code>NA</code></td>\n",
    "        <td><code>flux submit</code></td>\n",
    "    </tr>\n",
    "    <tr>\n",
    "        <td>Bulk submission of jobs (not blocking)</td>\n",
    "        <td><code>NA</code></td>\n",
    "        <td><code>flux bulksubmit</code></td>\n",
    "    </tr>    \n",
    "    <tr>\n",
    "        <td>Watching jobs</td>\n",
    "        <td><code>NA</code></td>\n",
    "        <td><code>flux watch</code></td>\n",
    "    </tr>\n",
    "    <tr>\n",
    "        <td>Querying the status of jobs</td>\n",
    "        <td><code>squeue</code>/<code>scontrol show job <i>job_id</i></code></td>\n",
    "        <td><code>flux jobs</code>/<code>flux job info <i>job_id</i></code></td>\n",
    "    </tr>\n",
    "    <tr>\n",
    "        <td>Canceling running jobs</td>\n",
    "        <td><code>scancel</code></td>\n",
    "        <td><code>flux cancel</code></td>\n",
    "    </tr>\n",
    "        <tr>\n",
    "        <td>Submitting batch jobs</td>\n",
    "        <td><code>sbatch</code></td>\n",
    "        <td><code>flux batch</code></td>\n",
    "    </tr>\n",
    "    <tr>\n",
    "        <td>Allocation for an interactive instance</td>\n",
    "        <td><code>salloc</code></td>\n",
    "        <td><code>flux alloc</code></td>\n",
    "    </tr>\n",
    "</table>"
   ]
  },
  {
   "cell_type": "markdown",
   "id": "ac798095",
   "metadata": {},
   "source": [
    "## flux run\n",
    "\n",
    "<div class=\"alert alert-block\" style=\"background-color:skyblue\">\n",
    "<span style=\"font-weight:600\">Description:</span> One-off run of a single job (blocking)\n",
    "</div>\n",
    "\n",
    "The `flux run` command submits a job to Flux (similar to `flux submit`) but then attaches to the job with `flux job attach`, printing the job's stdout/stderr to the terminal and exiting with the same exit code as the job. It's basically doing an interactive submit, because you will be able to watch the output in your terminal, and it will block your terminal until the job completes."
   ]
  },
  {
   "cell_type": "code",
   "execution_count": 5,
   "id": "52d26496-dd1f-44f7-bb10-8a9b4b8c9c80",
   "metadata": {},
   "outputs": [
    {
     "name": "stdout",
     "output_type": "stream",
     "text": [
      "399f5da372b0\n"
     ]
    }
   ],
   "source": [
    "!flux run hostname"
   ]
  },
  {
   "cell_type": "markdown",
   "id": "53357a9d-11d8-4c2d-87d8-c30ae38d01ba",
   "metadata": {},
   "source": [
    "The output from the previous command is the hostname (a container ID string in this case). If the job exits with a non-zero exit code this will be reported by `flux job attach` (occurs implicitly with `flux run`). For example, execute the following:"
   ]
  },
  {
   "cell_type": "code",
   "execution_count": 6,
   "id": "fa40cb98-a138-4771-a7ef-f1860dddf7db",
   "metadata": {},
   "outputs": [
    {
     "name": "stdout",
     "output_type": "stream",
     "text": [
      "flux-job: task(s) exited with exit code 1\n"
     ]
    }
   ],
   "source": [
    "!flux run /bin/false"
   ]
  },
  {
   "cell_type": "markdown",
   "id": "6b2b5c3f-e24a-45a8-a10c-e10bfdbb7b87",
   "metadata": {},
   "source": [
    "A job submitted with `run` can be canceled with two rapid `Cltr-C`s in succession, or a user can detach from the job with `Ctrl-C Ctrl-Z`. The user can then re-attach to the job by using `flux job attach JOBID`."
   ]
  },
  {
   "cell_type": "markdown",
   "id": "81e5213d",
   "metadata": {},
   "source": [
    "`flux submit` and `flux run` also support many other useful flags:"
   ]
  },
  {
   "cell_type": "code",
   "execution_count": 7,
   "id": "02032748",
   "metadata": {},
   "outputs": [
    {
     "name": "stdout",
     "output_type": "stream",
     "text": [
      "3: 399f5da372b0\n",
      "2: 399f5da372b0\n",
      "1: 399f5da372b0\n",
      "0: 399f5da372b0\n"
     ]
    }
   ],
   "source": [
    "!flux run -n4 --label-io --time-limit=5s --env-remove=LD_LIBRARY_PATH hostname"
   ]
  },
  {
   "cell_type": "code",
   "execution_count": 13,
   "id": "f52bb357-a7ce-458d-9c3f-4d664eca4fbd",
   "metadata": {},
   "outputs": [],
   "source": [
    "# Uncomment and run this help command if you want to see all the flags for flux run\n",
    "# !flux run --help"
   ]
  },
  {
   "cell_type": "markdown",
   "id": "7c09708a-74a1-4e61-b678-cb337b7df435",
   "metadata": {},
   "source": [
    "## flux submit\n",
    "\n",
    "<div class=\"alert alert-block\" style=\"background-color:skyblue\">\n",
    "<span style=\"font-weight:600\">Description:</span> One-off run of a single job (not blocking)\n",
    "</div>\n",
    "\n",
    "\n",
    "The `flux submit` command submits a job to Flux and prints out the jobid. "
   ]
  },
  {
   "cell_type": "code",
   "execution_count": 4,
   "id": "cc2bddee-f454-4674-80d4-4a39c5f1bee2",
   "metadata": {
    "collapsed": true,
    "jupyter": {
     "outputs_hidden": true
    }
   },
   "outputs": [
    {
     "name": "stdout",
     "output_type": "stream",
     "text": [
      "usage: flux submit [OPTIONS...] COMMAND [ARGS...]\n",
      "\n",
      "enqueue a job\n",
      "\n",
      "positional arguments:\n",
      "  command                     Job command and arguments\n",
      "\n",
      "options:\n",
      "  -h, --help                  show this help message and exit\n",
      "  -q, --queue=NAME            Submit a job to a specific named queue\n",
      "  -t, --time-limit=MIN|FSD    Time limit in minutes when no units provided,\n",
      "                              otherwise in Flux standard duration, e.g. 30s,\n",
      "                              2d, 1.5h\n",
      "      --urgency=N             Set job urgency (0-31), hold=0, default=16,\n",
      "                              expedite=31\n"
     ]
    }
   ],
   "source": [
    "# Let's peek at the help for flux submit!\n",
    "!flux submit --help | head -n 15"
   ]
  },
  {
   "cell_type": "code",
   "execution_count": 2,
   "id": "8a5e7d41-1d8d-426c-8198-0ad4a57e7d04",
   "metadata": {},
   "outputs": [
    {
     "name": "stdout",
     "output_type": "stream",
     "text": [
      "ƒScZH3DbD\n"
     ]
    }
   ],
   "source": [
    "!flux submit hostname"
   ]
  },
  {
   "cell_type": "markdown",
   "id": "a7e4c25e-3ca8-4277-bb70-a0e94bcd223b",
   "metadata": {},
   "source": [
    "`submit` supports common options like `--nnodes`, `--ntasks`, and `--cores-per-task`. There are short option equivalents (`-N`, `-n`, and `-c`, respectively) of these options as well. `--cores-per-task=1` is the default."
   ]
  },
  {
   "cell_type": "code",
   "execution_count": 3,
   "id": "571d8c3d-b24a-415e-b9ac-f58b99a7e92c",
   "metadata": {},
   "outputs": [
    {
     "name": "stdout",
     "output_type": "stream",
     "text": [
      "ƒSdrJJshH\n"
     ]
    }
   ],
   "source": [
    "!flux submit -N1 -n2 sleep inf"
   ]
  },
  {
   "cell_type": "markdown",
   "id": "91e9ed6c",
   "metadata": {},
   "source": [
    "## flux bulksubmit\n",
    "\n",
    "<div class=\"alert alert-block\" style=\"background-color:skyblue\">\n",
    "<span style=\"font-weight:600\">Description:</span> Bulk submission of jobs (not blocking)\n",
    "</div>\n",
    "\n",
    "The `flux bulksubmit` command enqueues jobs based on a set of inputs which are substituted on the command line, similar to `xargs` and the GNU `parallel` utility, except the jobs have access to the resources of an entire Flux instance instead of only the local system."
   ]
  },
  {
   "cell_type": "code",
   "execution_count": 8,
   "id": "f0e82702",
   "metadata": {},
   "outputs": [
    {
     "name": "stdout",
     "output_type": "stream",
     "text": [
      "ƒSqGSA7dh\n",
      "ƒSqGSA7di\n",
      "ƒSqGSA7dj\n",
      "bar\n",
      "baz\n",
      "foo\n"
     ]
    }
   ],
   "source": [
    "!flux bulksubmit --watch --wait echo {} ::: foo bar baz"
   ]
  },
  {
   "cell_type": "markdown",
   "id": "392a8056-1661-4b76-9ca3-5e536c687e82",
   "metadata": {},
   "source": [
    "The `--cc` option (akin to \"carbon copy\") to `submit` makes repeated submission even easier via, `flux submit --cc=IDSET`:"
   ]
  },
  {
   "cell_type": "code",
   "execution_count": null,
   "id": "0ea1962b-1831-4bd2-8dab-c61fd710df9c",
   "metadata": {},
   "outputs": [],
   "source": [
    "!flux submit --cc=1-4 --watch hostname"
   ]
  },
  {
   "cell_type": "markdown",
   "id": "27ca3706-8bb4-4fd6-a37c-e6135fb05604",
   "metadata": {},
   "source": [
    "Try it in the JupyterLab terminal with a progress bar and jobs/s rate report: `flux submit --cc=1-100 --watch --progress --jps hostname`\n",
    "\n",
    "Note that `--wait` is implied by `--watch`, meaning that when you are watching jobs, you are also waiting for them to finish."
   ]
  },
  {
   "cell_type": "markdown",
   "id": "4c5a18ff-8d6a-47e9-a164-931ed1275ef4",
   "metadata": {},
   "source": [
    "Of course, Flux can launch more than just single-node, single-core jobs.  We can submit multiple heterogeneous jobs and Flux will co-schedule the jobs while also ensuring no oversubscription of resources (e.g., cores).\n",
    "\n",
    "Note: in this tutorial, we cannot assume that the host you are running on has multiple cores, thus the examples below only vary the number of nodes per job.  Varying the `cores-per-task` is also possible on Flux when the underlying hardware supports it (e.g., a multi-core node)."
   ]
  },
  {
   "cell_type": "code",
   "execution_count": 10,
   "id": "brazilian-former",
   "metadata": {},
   "outputs": [
    {
     "name": "stdout",
     "output_type": "stream",
     "text": [
      "ƒT2VDkrT1\n",
      "ƒT2azp48w\n"
     ]
    }
   ],
   "source": [
    "!flux submit --nodes=2 --ntasks=2 --cores-per-task=1 --job-name simulation sleep inf\n",
    "!flux submit --nodes=1 --ntasks=1 --cores-per-task=1 --job-name analysis sleep inf"
   ]
  },
  {
   "cell_type": "markdown",
   "id": "641f446c-b2e8-40d8-b6bd-eb6b9dba3c71",
   "metadata": {},
   "source": [
    "## flux watch\n",
    "\n",
    "<div class=\"alert alert-block\" style=\"background-color:skyblue\">\n",
    "<span style=\"font-weight:600\">Description:</span> 👀️ Watching jobs\n",
    "</div>\n",
    "\n",
    "Wouldn't it be cool to submit a job and then watch it? Well, yeah! We can do this now with flux watch. Let's run a fun example, and then watch the output. We have sleeps in here interspersed with echos only to show you the live action! 🥞️\n",
    "Also note a nice trick - you can always use `flux job last` to get the last JOBID.\n",
    "Here is an example (not runnable, as notebooks don't support environment variables) for getting and saving a job id:\n",
    "\n",
    "```bash\n",
    "flux submit hostname\n",
    "JOBID=$(flux job last)\n",
    "```\n",
    "\n",
    "And then you could use the variable `$JOBID` in your subsequent script or interactions with Flux! So what makes `flux watch` different from `flux job attach`? Aside from the fact that `flux watch` is read-only, `flux watch` can watch many (or even all (`flux watch --all`) jobs at once!"
   ]
  },
  {
   "cell_type": "code",
   "execution_count": 11,
   "id": "5ad231c2-4cdb-4d18-afc2-7cb3a74759c2",
   "metadata": {},
   "outputs": [
    {
     "name": "stdout",
     "output_type": "stream",
     "text": [
      "ƒTR3HXBfD\n",
      "25 chocolate chip pancakes on the table... 25 chocolate chip pancakes! 🥞️\n",
      "Eat a stack, for a snack, 15 chocolate chip pancakes on the table! 🥄️\n",
      "15 chocolate chip pancakes on the table... 15 chocolate chip pancakes! 🥞️\n",
      "Throw a stack... it makes a smack! 15 chocolate chip pancakes on the wall! 🥞️\n",
      "You got some cleaning to do 🧽️\n"
     ]
    }
   ],
   "source": [
    "!flux submit ./flux-workflow-examples/job-watch/job-watch.sh\n",
    "!flux watch $(flux job last)"
   ]
  },
  {
   "cell_type": "markdown",
   "id": "3f8c2af2",
   "metadata": {},
   "source": [
    "## flux jobs\n",
    "\n",
    "<div class=\"alert alert-block\" style=\"background-color:skyblue\">\n",
    "<span style=\"font-weight:600\">Description:</span> Querying the status of jobs\n",
    "</div>\n",
    "\n",
    "We can now list the jobs in the queue with `flux jobs` and we should see both jobs that we just submitted. Jobs that are instances are colored blue in output, red jobs are failed jobs, and green jobs are those that completed successfully. Note that the JupyterLab notebook may not display these colors. You will be able to see them in the terminal."
   ]
  },
  {
   "cell_type": "code",
   "execution_count": 12,
   "id": "institutional-vocabulary",
   "metadata": {},
   "outputs": [
    {
     "name": "stdout",
     "output_type": "stream",
     "text": [
      "       JOBID USER     NAME       ST NTASKS NNODES     TIME INFO\n",
      "   ƒT2azp48w jovyan   analysis    R      1      1   1.267m 399f5da372b0\n",
      "   ƒT2VDkrT1 jovyan   simulation  R      2      2   1.271m 399f5da372b[0,0]\n",
      "   ƒSdrJJshH jovyan   sleep       R      2      1   2.127m 399f5da372b0\n"
     ]
    }
   ],
   "source": [
    "!flux jobs"
   ]
  },
  {
   "cell_type": "markdown",
   "id": "f7228e0e-557c-455c-9903-073ef40a56a5",
   "metadata": {},
   "source": [
    "You might also want to see \"all\" jobs with `-a`."
   ]
  },
  {
   "cell_type": "code",
   "execution_count": null,
   "id": "70dd1459-e21f-46b5-84a4-bd165cf97f4b",
   "metadata": {},
   "outputs": [],
   "source": [
    "!flux jobs -a"
   ]
  },
  {
   "cell_type": "markdown",
   "id": "77ca4277",
   "metadata": {},
   "source": [
    "## flux cancel\n",
    "\n",
    "<div class=\"alert alert-block\" style=\"background-color:skyblue\">\n",
    "<span style=\"font-weight:600\">Description:</span> Canceling running jobs\n",
    "</div>\n",
    "\n",
    "Since some of the jobs we see in the table above won't ever exit (and we didn't specify a timelimit), let's cancel them all now and free up the resources."
   ]
  },
  {
   "cell_type": "code",
   "execution_count": 13,
   "id": "46dd8ec8-6c64-4d8d-9a00-949f5f58c07b",
   "metadata": {},
   "outputs": [
    {
     "name": "stdout",
     "output_type": "stream",
     "text": [
      "flux-cancel: Canceled 3 jobs (0 errors)\n",
      "       JOBID USER     NAME       ST NTASKS NNODES     TIME INFO\n"
     ]
    }
   ],
   "source": [
    "# This was previously flux cancelall -f\n",
    "!flux cancel --all\n",
    "!flux jobs"
   ]
  },
  {
   "cell_type": "markdown",
   "id": "544aa0a9",
   "metadata": {},
   "source": [
    "## flux batch\n",
    "\n",
    "<div class=\"alert alert-block\" style=\"background-color:skyblue\">\n",
    "<span style=\"font-weight:600\">Description:</span> Submitting batch jobs\n",
    "</div>\n",
    "\n",
    "We can use the `flux batch` command to easily created nested flux instances.  When `flux batch` is invoked, Flux will automatically create a nested instance that spans the resources allocated to the job, and then Flux runs the batch script passed to `flux batch` on rank 0 of the nested instance. \"Rank\" refers to the rank of the Tree-Based Overlay Network (TBON) used by the [Flux brokers](https://flux-framework.readthedocs.io/projects/flux-core/en/latest/man1/flux-broker.html).\n",
    "\n",
    "While a batch script is expected to launch parallel jobs using `flux run` or `flux submit` at this level, nothing prevents the script from further batching other sub-batch-jobs using the `flux batch` interface, if desired."
   ]
  },
  {
   "cell_type": "code",
   "execution_count": 14,
   "id": "blank-carpet",
   "metadata": {},
   "outputs": [
    {
     "name": "stdout",
     "output_type": "stream",
     "text": [
      "ƒThKfdhKD\n",
      "ƒThRLkwsm\n"
     ]
    }
   ],
   "source": [
    "!flux batch --nslots=2 --cores-per-slot=1 --nodes=2 ./sleep_batch.sh\n",
    "!flux batch --nslots=2 --cores-per-slot=1 --nodes=2 ./sleep_batch.sh"
   ]
  },
  {
   "cell_type": "markdown",
   "id": "da98bfa1",
   "metadata": {},
   "source": [
    "The contents of `sleep_batch.sh`:"
   ]
  },
  {
   "cell_type": "code",
   "execution_count": 15,
   "id": "381a3f6c-0da1-4923-801f-486ca5226d3c",
   "metadata": {},
   "outputs": [
    {
     "data": {
      "text/html": [
       "<style>pre { line-height: 125%; }\n",
       "td.linenos .normal { color: inherit; background-color: transparent; padding-left: 5px; padding-right: 5px; }\n",
       "span.linenos { color: inherit; background-color: transparent; padding-left: 5px; padding-right: 5px; }\n",
       "td.linenos .special { color: #000000; background-color: #ffffc0; padding-left: 5px; padding-right: 5px; }\n",
       "span.linenos.special { color: #000000; background-color: #ffffc0; padding-left: 5px; padding-right: 5px; }\n",
       ".output_html .hll { background-color: #ffffcc }\n",
       ".output_html { background: #f8f8f8; }\n",
       ".output_html .c { color: #3D7B7B; font-style: italic } /* Comment */\n",
       ".output_html .err { border: 1px solid #FF0000 } /* Error */\n",
       ".output_html .k { color: #008000; font-weight: bold } /* Keyword */\n",
       ".output_html .o { color: #666666 } /* Operator */\n",
       ".output_html .ch { color: #3D7B7B; font-style: italic } /* Comment.Hashbang */\n",
       ".output_html .cm { color: #3D7B7B; font-style: italic } /* Comment.Multiline */\n",
       ".output_html .cp { color: #9C6500 } /* Comment.Preproc */\n",
       ".output_html .cpf { color: #3D7B7B; font-style: italic } /* Comment.PreprocFile */\n",
       ".output_html .c1 { color: #3D7B7B; font-style: italic } /* Comment.Single */\n",
       ".output_html .cs { color: #3D7B7B; font-style: italic } /* Comment.Special */\n",
       ".output_html .gd { color: #A00000 } /* Generic.Deleted */\n",
       ".output_html .ge { font-style: italic } /* Generic.Emph */\n",
       ".output_html .ges { font-weight: bold; font-style: italic } /* Generic.EmphStrong */\n",
       ".output_html .gr { color: #E40000 } /* Generic.Error */\n",
       ".output_html .gh { color: #000080; font-weight: bold } /* Generic.Heading */\n",
       ".output_html .gi { color: #008400 } /* Generic.Inserted */\n",
       ".output_html .go { color: #717171 } /* Generic.Output */\n",
       ".output_html .gp { color: #000080; font-weight: bold } /* Generic.Prompt */\n",
       ".output_html .gs { font-weight: bold } /* Generic.Strong */\n",
       ".output_html .gu { color: #800080; font-weight: bold } /* Generic.Subheading */\n",
       ".output_html .gt { color: #0044DD } /* Generic.Traceback */\n",
       ".output_html .kc { color: #008000; font-weight: bold } /* Keyword.Constant */\n",
       ".output_html .kd { color: #008000; font-weight: bold } /* Keyword.Declaration */\n",
       ".output_html .kn { color: #008000; font-weight: bold } /* Keyword.Namespace */\n",
       ".output_html .kp { color: #008000 } /* Keyword.Pseudo */\n",
       ".output_html .kr { color: #008000; font-weight: bold } /* Keyword.Reserved */\n",
       ".output_html .kt { color: #B00040 } /* Keyword.Type */\n",
       ".output_html .m { color: #666666 } /* Literal.Number */\n",
       ".output_html .s { color: #BA2121 } /* Literal.String */\n",
       ".output_html .na { color: #687822 } /* Name.Attribute */\n",
       ".output_html .nb { color: #008000 } /* Name.Builtin */\n",
       ".output_html .nc { color: #0000FF; font-weight: bold } /* Name.Class */\n",
       ".output_html .no { color: #880000 } /* Name.Constant */\n",
       ".output_html .nd { color: #AA22FF } /* Name.Decorator */\n",
       ".output_html .ni { color: #717171; font-weight: bold } /* Name.Entity */\n",
       ".output_html .ne { color: #CB3F38; font-weight: bold } /* Name.Exception */\n",
       ".output_html .nf { color: #0000FF } /* Name.Function */\n",
       ".output_html .nl { color: #767600 } /* Name.Label */\n",
       ".output_html .nn { color: #0000FF; font-weight: bold } /* Name.Namespace */\n",
       ".output_html .nt { color: #008000; font-weight: bold } /* Name.Tag */\n",
       ".output_html .nv { color: #19177C } /* Name.Variable */\n",
       ".output_html .ow { color: #AA22FF; font-weight: bold } /* Operator.Word */\n",
       ".output_html .w { color: #bbbbbb } /* Text.Whitespace */\n",
       ".output_html .mb { color: #666666 } /* Literal.Number.Bin */\n",
       ".output_html .mf { color: #666666 } /* Literal.Number.Float */\n",
       ".output_html .mh { color: #666666 } /* Literal.Number.Hex */\n",
       ".output_html .mi { color: #666666 } /* Literal.Number.Integer */\n",
       ".output_html .mo { color: #666666 } /* Literal.Number.Oct */\n",
       ".output_html .sa { color: #BA2121 } /* Literal.String.Affix */\n",
       ".output_html .sb { color: #BA2121 } /* Literal.String.Backtick */\n",
       ".output_html .sc { color: #BA2121 } /* Literal.String.Char */\n",
       ".output_html .dl { color: #BA2121 } /* Literal.String.Delimiter */\n",
       ".output_html .sd { color: #BA2121; font-style: italic } /* Literal.String.Doc */\n",
       ".output_html .s2 { color: #BA2121 } /* Literal.String.Double */\n",
       ".output_html .se { color: #AA5D1F; font-weight: bold } /* Literal.String.Escape */\n",
       ".output_html .sh { color: #BA2121 } /* Literal.String.Heredoc */\n",
       ".output_html .si { color: #A45A77; font-weight: bold } /* Literal.String.Interpol */\n",
       ".output_html .sx { color: #008000 } /* Literal.String.Other */\n",
       ".output_html .sr { color: #A45A77 } /* Literal.String.Regex */\n",
       ".output_html .s1 { color: #BA2121 } /* Literal.String.Single */\n",
       ".output_html .ss { color: #19177C } /* Literal.String.Symbol */\n",
       ".output_html .bp { color: #008000 } /* Name.Builtin.Pseudo */\n",
       ".output_html .fm { color: #0000FF } /* Name.Function.Magic */\n",
       ".output_html .vc { color: #19177C } /* Name.Variable.Class */\n",
       ".output_html .vg { color: #19177C } /* Name.Variable.Global */\n",
       ".output_html .vi { color: #19177C } /* Name.Variable.Instance */\n",
       ".output_html .vm { color: #19177C } /* Name.Variable.Magic */\n",
       ".output_html .il { color: #666666 } /* Literal.Number.Integer.Long */</style><div class=\"highlight\"><pre><span></span><span class=\"ch\">#!/bin/bash</span>\n",
       "<span class=\"c1\">#FLUX: --nodes=2</span>\n",
       "<span class=\"c1\">#FLUX: --nslots=2</span>\n",
       "<span class=\"c1\">#FLUX: --cores-per-slot=1</span>\n",
       "\n",
       "<span class=\"nb\">echo</span><span class=\"w\"> </span><span class=\"s2\">&quot;Starting my batch job&quot;</span>\n",
       "<span class=\"nb\">echo</span><span class=\"w\"> </span><span class=\"s2\">&quot;Print the resources allocated to this batch job&quot;</span>\n",
       "flux<span class=\"w\"> </span>resource<span class=\"w\"> </span>list\n",
       "\n",
       "<span class=\"nb\">echo</span><span class=\"w\"> </span><span class=\"s2\">&quot;Use sleep to emulate a parallel program&quot;</span>\n",
       "<span class=\"nb\">echo</span><span class=\"w\"> </span><span class=\"s2\">&quot;Run the program at a total of 2 processes each requiring&quot;</span>\n",
       "<span class=\"nb\">echo</span><span class=\"w\"> </span><span class=\"s2\">&quot;1 core. These processes are equally spread across 2 nodes.&quot;</span>\n",
       "flux<span class=\"w\"> </span>run<span class=\"w\"> </span>-N<span class=\"w\"> </span><span class=\"m\">2</span><span class=\"w\"> </span>-n<span class=\"w\"> </span><span class=\"m\">2</span><span class=\"w\"> </span>sleep<span class=\"w\"> </span><span class=\"m\">30</span>\n",
       "flux<span class=\"w\"> </span>run<span class=\"w\"> </span>-N<span class=\"w\"> </span><span class=\"m\">2</span><span class=\"w\"> </span>-n<span class=\"w\"> </span><span class=\"m\">2</span><span class=\"w\"> </span>sleep<span class=\"w\"> </span><span class=\"m\">30</span>\n",
       "</pre></div>\n"
      ],
      "text/latex": [
       "\\begin{Verbatim}[commandchars=\\\\\\{\\}]\n",
       "\\PY{c+ch}{\\PYZsh{}!/bin/bash}\n",
       "\\PY{c+c1}{\\PYZsh{}FLUX: \\PYZhy{}\\PYZhy{}nodes=2}\n",
       "\\PY{c+c1}{\\PYZsh{}FLUX: \\PYZhy{}\\PYZhy{}nslots=2}\n",
       "\\PY{c+c1}{\\PYZsh{}FLUX: \\PYZhy{}\\PYZhy{}cores\\PYZhy{}per\\PYZhy{}slot=1}\n",
       "\n",
       "\\PY{n+nb}{echo}\\PY{+w}{ }\\PY{l+s+s2}{\\PYZdq{}Starting my batch job\\PYZdq{}}\n",
       "\\PY{n+nb}{echo}\\PY{+w}{ }\\PY{l+s+s2}{\\PYZdq{}Print the resources allocated to this batch job\\PYZdq{}}\n",
       "flux\\PY{+w}{ }resource\\PY{+w}{ }list\n",
       "\n",
       "\\PY{n+nb}{echo}\\PY{+w}{ }\\PY{l+s+s2}{\\PYZdq{}Use sleep to emulate a parallel program\\PYZdq{}}\n",
       "\\PY{n+nb}{echo}\\PY{+w}{ }\\PY{l+s+s2}{\\PYZdq{}Run the program at a total of 2 processes each requiring\\PYZdq{}}\n",
       "\\PY{n+nb}{echo}\\PY{+w}{ }\\PY{l+s+s2}{\\PYZdq{}1 core. These processes are equally spread across 2 nodes.\\PYZdq{}}\n",
       "flux\\PY{+w}{ }run\\PY{+w}{ }\\PYZhy{}N\\PY{+w}{ }\\PY{l+m}{2}\\PY{+w}{ }\\PYZhy{}n\\PY{+w}{ }\\PY{l+m}{2}\\PY{+w}{ }sleep\\PY{+w}{ }\\PY{l+m}{30}\n",
       "flux\\PY{+w}{ }run\\PY{+w}{ }\\PYZhy{}N\\PY{+w}{ }\\PY{l+m}{2}\\PY{+w}{ }\\PYZhy{}n\\PY{+w}{ }\\PY{l+m}{2}\\PY{+w}{ }sleep\\PY{+w}{ }\\PY{l+m}{30}\n",
       "\\end{Verbatim}\n"
      ],
      "text/plain": [
       "#!/bin/bash\n",
       "#FLUX: --nodes=2\n",
       "#FLUX: --nslots=2\n",
       "#FLUX: --cores-per-slot=1\n",
       "\n",
       "echo \"Starting my batch job\"\n",
       "echo \"Print the resources allocated to this batch job\"\n",
       "flux resource list\n",
       "\n",
       "echo \"Use sleep to emulate a parallel program\"\n",
       "echo \"Run the program at a total of 2 processes each requiring\"\n",
       "echo \"1 core. These processes are equally spread across 2 nodes.\"\n",
       "flux run -N 2 -n 2 sleep 30\n",
       "flux run -N 2 -n 2 sleep 30\n"
      ]
     },
     "execution_count": 15,
     "metadata": {},
     "output_type": "execute_result"
    }
   ],
   "source": [
    "from IPython.display import Code\n",
    "Code(filename='sleep_batch.sh', language='bash')"
   ]
  },
  {
   "cell_type": "code",
   "execution_count": 16,
   "id": "edff8993-3c39-4f46-939d-4c8be5739fbc",
   "metadata": {},
   "outputs": [
    {
     "name": "stdout",
     "output_type": "stream",
     "text": [
      "ƒU5u1XQcf\n",
      "       JOBID USER     NAME       ST NTASKS NNODES     TIME INFO\n",
      "\u001b[01;34m   ƒThRLkwsm jovyan   ./sleep_b+  R      2      2   51.17s 399f5da372b[0,0]\n",
      "\u001b[0;0m\u001b[01;34m   ƒThKfdhKD jovyan   ./sleep_b+  R      2      2   51.39s 399f5da372b[0,0]\n",
      "\u001b[0;0m       JOBID USER     NAME       ST NTASKS NNODES     TIME INFO\n",
      "\u001b[01;34m   ƒThRLkwsm jovyan   ./sleep_b+  R      2      2   51.34s 399f5da372b[0,0]\n",
      "\u001b[0;0m\u001b[01;34m   ƒThKfdhKD jovyan   ./sleep_b+  R      2      2   51.56s 399f5da372b[0,0]\n",
      "\u001b[0;0m\n",
      "ƒThRLkwsm:\n",
      "    ƒEgNEfjm jovyan   sleep       R      2      2   20.11s 399f5da372b[0,0]\n",
      "\n",
      "ƒThKfdhKD:\n",
      "    ƒEga6ZzX jovyan   sleep       R      2      2   20.32s 399f5da372b[0,0]\n",
      "{\"version\": 1, \"execution\": {\"R_lite\": [{\"rank\": \"3\", \"children\": {\"core\": \"7\"}}], \"nodelist\": [\"399f5da372b0\"], \"starttime\": 1721424338, \"expiration\": 4875020774}}\n",
      "0: stdout redirected to /tmp/cheese.txt\n",
      "0: stderr redirected to /tmp/cheese.txt\n"
     ]
    },
    {
     "data": {
      "text/html": [
       "<style>pre { line-height: 125%; }\n",
       "td.linenos .normal { color: inherit; background-color: transparent; padding-left: 5px; padding-right: 5px; }\n",
       "span.linenos { color: inherit; background-color: transparent; padding-left: 5px; padding-right: 5px; }\n",
       "td.linenos .special { color: #000000; background-color: #ffffc0; padding-left: 5px; padding-right: 5px; }\n",
       "span.linenos.special { color: #000000; background-color: #ffffc0; padding-left: 5px; padding-right: 5px; }\n",
       ".output_html .hll { background-color: #ffffcc }\n",
       ".output_html { background: #f8f8f8; }\n",
       ".output_html .c { color: #3D7B7B; font-style: italic } /* Comment */\n",
       ".output_html .err { border: 1px solid #FF0000 } /* Error */\n",
       ".output_html .k { color: #008000; font-weight: bold } /* Keyword */\n",
       ".output_html .o { color: #666666 } /* Operator */\n",
       ".output_html .ch { color: #3D7B7B; font-style: italic } /* Comment.Hashbang */\n",
       ".output_html .cm { color: #3D7B7B; font-style: italic } /* Comment.Multiline */\n",
       ".output_html .cp { color: #9C6500 } /* Comment.Preproc */\n",
       ".output_html .cpf { color: #3D7B7B; font-style: italic } /* Comment.PreprocFile */\n",
       ".output_html .c1 { color: #3D7B7B; font-style: italic } /* Comment.Single */\n",
       ".output_html .cs { color: #3D7B7B; font-style: italic } /* Comment.Special */\n",
       ".output_html .gd { color: #A00000 } /* Generic.Deleted */\n",
       ".output_html .ge { font-style: italic } /* Generic.Emph */\n",
       ".output_html .ges { font-weight: bold; font-style: italic } /* Generic.EmphStrong */\n",
       ".output_html .gr { color: #E40000 } /* Generic.Error */\n",
       ".output_html .gh { color: #000080; font-weight: bold } /* Generic.Heading */\n",
       ".output_html .gi { color: #008400 } /* Generic.Inserted */\n",
       ".output_html .go { color: #717171 } /* Generic.Output */\n",
       ".output_html .gp { color: #000080; font-weight: bold } /* Generic.Prompt */\n",
       ".output_html .gs { font-weight: bold } /* Generic.Strong */\n",
       ".output_html .gu { color: #800080; font-weight: bold } /* Generic.Subheading */\n",
       ".output_html .gt { color: #0044DD } /* Generic.Traceback */\n",
       ".output_html .kc { color: #008000; font-weight: bold } /* Keyword.Constant */\n",
       ".output_html .kd { color: #008000; font-weight: bold } /* Keyword.Declaration */\n",
       ".output_html .kn { color: #008000; font-weight: bold } /* Keyword.Namespace */\n",
       ".output_html .kp { color: #008000 } /* Keyword.Pseudo */\n",
       ".output_html .kr { color: #008000; font-weight: bold } /* Keyword.Reserved */\n",
       ".output_html .kt { color: #B00040 } /* Keyword.Type */\n",
       ".output_html .m { color: #666666 } /* Literal.Number */\n",
       ".output_html .s { color: #BA2121 } /* Literal.String */\n",
       ".output_html .na { color: #687822 } /* Name.Attribute */\n",
       ".output_html .nb { color: #008000 } /* Name.Builtin */\n",
       ".output_html .nc { color: #0000FF; font-weight: bold } /* Name.Class */\n",
       ".output_html .no { color: #880000 } /* Name.Constant */\n",
       ".output_html .nd { color: #AA22FF } /* Name.Decorator */\n",
       ".output_html .ni { color: #717171; font-weight: bold } /* Name.Entity */\n",
       ".output_html .ne { color: #CB3F38; font-weight: bold } /* Name.Exception */\n",
       ".output_html .nf { color: #0000FF } /* Name.Function */\n",
       ".output_html .nl { color: #767600 } /* Name.Label */\n",
       ".output_html .nn { color: #0000FF; font-weight: bold } /* Name.Namespace */\n",
       ".output_html .nt { color: #008000; font-weight: bold } /* Name.Tag */\n",
       ".output_html .nv { color: #19177C } /* Name.Variable */\n",
       ".output_html .ow { color: #AA22FF; font-weight: bold } /* Operator.Word */\n",
       ".output_html .w { color: #bbbbbb } /* Text.Whitespace */\n",
       ".output_html .mb { color: #666666 } /* Literal.Number.Bin */\n",
       ".output_html .mf { color: #666666 } /* Literal.Number.Float */\n",
       ".output_html .mh { color: #666666 } /* Literal.Number.Hex */\n",
       ".output_html .mi { color: #666666 } /* Literal.Number.Integer */\n",
       ".output_html .mo { color: #666666 } /* Literal.Number.Oct */\n",
       ".output_html .sa { color: #BA2121 } /* Literal.String.Affix */\n",
       ".output_html .sb { color: #BA2121 } /* Literal.String.Backtick */\n",
       ".output_html .sc { color: #BA2121 } /* Literal.String.Char */\n",
       ".output_html .dl { color: #BA2121 } /* Literal.String.Delimiter */\n",
       ".output_html .sd { color: #BA2121; font-style: italic } /* Literal.String.Doc */\n",
       ".output_html .s2 { color: #BA2121 } /* Literal.String.Double */\n",
       ".output_html .se { color: #AA5D1F; font-weight: bold } /* Literal.String.Escape */\n",
       ".output_html .sh { color: #BA2121 } /* Literal.String.Heredoc */\n",
       ".output_html .si { color: #A45A77; font-weight: bold } /* Literal.String.Interpol */\n",
       ".output_html .sx { color: #008000 } /* Literal.String.Other */\n",
       ".output_html .sr { color: #A45A77 } /* Literal.String.Regex */\n",
       ".output_html .s1 { color: #BA2121 } /* Literal.String.Single */\n",
       ".output_html .ss { color: #19177C } /* Literal.String.Symbol */\n",
       ".output_html .bp { color: #008000 } /* Name.Builtin.Pseudo */\n",
       ".output_html .fm { color: #0000FF } /* Name.Function.Magic */\n",
       ".output_html .vc { color: #19177C } /* Name.Variable.Class */\n",
       ".output_html .vg { color: #19177C } /* Name.Variable.Global */\n",
       ".output_html .vi { color: #19177C } /* Name.Variable.Instance */\n",
       ".output_html .vm { color: #19177C } /* Name.Variable.Magic */\n",
       ".output_html .il { color: #666666 } /* Literal.Number.Integer.Long */</style><div class=\"highlight\"><pre><span></span>Sweet dreams 🌚️ are made of cheese, who am I to diss a brie? 🧀️\n",
       "</pre></div>\n"
      ],
      "text/latex": [
       "\\begin{Verbatim}[commandchars=\\\\\\{\\}]\n",
       "Sweet dreams 🌚️ are made of cheese, who am I to diss a brie? 🧀️\n",
       "\\end{Verbatim}\n"
      ],
      "text/plain": [
       "Sweet dreams 🌚️ are made of cheese, who am I to diss a brie? 🧀️"
      ]
     },
     "execution_count": 16,
     "metadata": {},
     "output_type": "execute_result"
    }
   ],
   "source": [
    "# Here we are submitting a job that generates output, and asking to write it to /tmp/cheese.txt\n",
    "!flux submit --out /tmp/cheese.txt echo \"Sweet dreams 🌚️ are made of cheese, who am I to diss a brie? 🧀️\"\n",
    "\n",
    "# This will show us JOBIDs\n",
    "!flux jobs\n",
    "\n",
    "# We can even see jobs in sub-instances with \"-R\" (for recursive)\n",
    "!flux jobs -R\n",
    "\n",
    "# You could copy a JOBID from above and paste it in the line below to examine the job's resources and output\n",
    "# or get the last jobid with \"flux job last\" (this is what we will do here)\n",
    "# JOBID=\"ƒFoRYVpt7\"\n",
    "\n",
    "# Note here we are using flux job last to see the last one\n",
    "# The \"R\" here asks for the resource spec\n",
    "!flux job info $(flux job last) R\n",
    "\n",
    "# When we attach it will direct us to our output file\n",
    "!flux job attach $(flux job last)\n",
    "\n",
    "# And we can look at the output file to see our expected output!\n",
    "from IPython.display import Code\n",
    "Code(filename='/tmp/cheese.txt', language='text')"
   ]
  },
  {
   "cell_type": "markdown",
   "id": "f4e525e2-6c89-4c14-9fae-d87a0d4fc574",
   "metadata": {},
   "source": [
    "We can again see a list all completed jobs with `flux jobs -a`:"
   ]
  },
  {
   "cell_type": "code",
   "execution_count": null,
   "id": "df8a8b7c-f475-4a51-8bc6-9983dc9d78ab",
   "metadata": {},
   "outputs": [],
   "source": [
    "!flux jobs -a"
   ]
  },
  {
   "cell_type": "markdown",
   "id": "3e415ecc-f451-4909-a2bf-351a639cd7fa",
   "metadata": {},
   "source": [
    "To restrict the output to failed (i.e., jobs that exit with nonzero exit code, time out, or are canceled or killed) jobs, run:"
   ]
  },
  {
   "cell_type": "code",
   "execution_count": 18,
   "id": "032597d2-4b02-47ea-a5e5-915313cdd7f9",
   "metadata": {},
   "outputs": [
    {
     "name": "stdout",
     "output_type": "stream",
     "text": [
      "       JOBID USER     NAME       ST NTASKS NNODES     TIME INFO\n",
      "\u001b[01;31m   ƒSixhuHXu jovyan   false       F      1      1   0.070s 399f5da372b0\n",
      "\u001b[0;0m"
     ]
    }
   ],
   "source": [
    "!flux jobs -f failed"
   ]
  },
  {
   "cell_type": "markdown",
   "id": "2d3e314e-98eb-487a-ad8e-1442840e37d8",
   "metadata": {},
   "source": [
    "## flux alloc\n",
    "\n",
    "<div class=\"alert alert-block\" style=\"background-color:skyblue\">\n",
    "<span style=\"font-weight:600\">Description:</span> Allocation for an interactive instance\n",
    "</div>\n",
    "\n",
    "You might want to request an allocation for a set of resources (an allocation) and then attach to the interactively. This is the goal of flux alloc. Since we can't easily do that in a cell, try opening up the <button data-commandLinker-command=\"terminal:open\" data-name=\"flux\" href=\"#\">JupyterLab terminal</button> and doing: \n",
    "\n",
    "```bash\n",
    "# Look at the resources you have outside of the allocation\n",
    "flux resource list\n",
    "\n",
    "# Request an allocation with 2 \"nodes\" - a subset of what you have in total\n",
    "flux alloc -N 2\n",
    "\n",
    "# See the resources you are given\n",
    "flux resource list\n",
    "\n",
    "# You can exit from the allocation like this!\n",
    "exit\n",
    "```"
   ]
  },
  {
   "cell_type": "markdown",
   "id": "04b405b1-219f-489c-abfc-e2983e82124a",
   "metadata": {},
   "source": [
    "# The Flux Hierarchy 🍇️\n",
    "\n",
    "One feature of the Flux Framework scheduler that is unique is its ability to submit jobs within instances, where an instance can be thought of as a level in a graph. Let's start with a basic image - this is what it might look like to submit to a scheduler that is not graph-based,\n",
    "where all jobs go to a central job queue or database. Note that our maximum job throughput is one job per second.\n",
    "\n",
    "![img/single-submit.png](img/single-submit.png)\n",
    "\n",
    "The throughput is limited by the workload manager's ability to process a single job. We can improve upon this by simply adding another level, perhaps with three instances. For example, let's say we create a flux allocation or batch that has control of some number of child nodes. We might launch three new instances (each with its own scheduler and queue) at that level two, and all of a sudden, we get a throughput of 1x3, or three jobs per second. \n",
    "\n",
    "![img/instance-submit.png](img/instance-submit.png)\n",
    "\n",
    "\n",
    "All of a sudden, the throughout can increase exponentially because we are essentially submitting to different schedulers. The example above is not impressive, but our [learning guide](https://flux-framework.readthedocs.io/en/latest/guides/learning_guide.html#fully-hierarchical-resource-management-techniques) (Figure 10) has a beautiful example of how it can scale, done via an actual experiment. We were able to submit 500 jobs/second using only three levels, vs. close to 1 job/second with one level. \n",
    "\n",
    "![img/scaled-submit.png](img/scaled-submit.png)\n",
    "\n",
    "And for an interesting detail, you can vary the scheduler algorithm or topology within each sub-instance, meaning that you can do some fairly interesting things with scheduling work, and all without stressing the top level system instance. Next, let's look at a prototype tool called `flux-tree` that you can use to see how this works.\n",
    "\n",
    "## flux tree\n",
    "\n",
    "Flux tree is a prototype tool that allows you to easily submit work to different levels of your flux instance, or more specifically, creating a nested hierarchy of jobs that scale out. Let's run the command, look at the output, and talk about it."
   ]
  },
  {
   "cell_type": "code",
   "execution_count": 1,
   "id": "2735b1ca-e761-46be-b509-a86b771628fc",
   "metadata": {},
   "outputs": [
    {
     "name": "stdout",
     "output_type": "stream",
     "text": [
      "flux-job: task(s) exited with exit code 1\n",
      "flux-job: task(s) exited with exit code 1\n",
      "awk: line 1: syntax error at or near :\n",
      "e8cfed35f636\n",
      "flux-tree-helper: ERROR: Expecting value: line 1 column 160 (char 159)\n",
      "Jul 05 05:20:32.333883 UTC broker.err[0]: rc2.0: flux tree -N1 -c1 --leaf --prefix=tree.1.1 --njobs=1 -- hostname Exited (rc=1) 0.6s\n",
      "awk: line 1: syntax error at or near :\n",
      "flux-tree-helper: ERROR: Expecting value: line 1 column 156 (char 155)\n",
      "Jul 05 05:20:33.523886 UTC broker.err[0]: rc2.0: flux tree -N1 -c2 --topology=2 --queue-policy=fcfs --prefix=tree.1 --njobs=2 -- hostname Exited (rc=1) 2.4s\n",
      "awk: line 1: syntax error at or near :\n",
      "flux-tree-helper: ERROR: Expecting value: line 1 column 155 (char 154)\n",
      "cat: ./tree.out: No such file or directory\n"
     ]
    }
   ],
   "source": [
    "!flux tree -T2x2 -J 4 -N 1 -c 4 -o ./tree.out -Q easy:fcfs hostname\n",
    "! cat ./tree.out"
   ]
  },
  {
   "cell_type": "markdown",
   "id": "9d5fe7a0-af54-4c90-be6f-75f50c918dea",
   "metadata": {},
   "source": [
    "In the above, we are running `flux-tree` and looking at the output file. What is happening is that the `flux tree` command is creating a hierarchy of instances. Based on their names you can tell that:\n",
    "\n",
    " - `2x2` in the command is the topology\n",
    " - It says to create two flux instances, and make them each spawn two more.\n",
    " - `tree` is the root\n",
    " - `tree.1` is the first instance\n",
    " - `tree.2` is the second instance\n",
    " - `tree.1.1` and `tree.1.2` refer to the nested instances under `tree.1`\n",
    " - `tree.2.1` and `tree.2.2` refer to the nested instances under `tree.2`\n",
    " \n",
    "And we provided the command `hostname` to this script, but a more complex example would generate more interested hierarchies,\n",
    "and with differet functionality for each. Note that although this is just a dummy prototype, you could use `flux-tree` for actual work,\n",
    "or more likely, you would want to use `flux batch` to submit multiple commands within a single flux instance to take advantage of the same\n",
    "hierarchy. \n",
    "\n",
    "## flux batch\n",
    "\n",
    "Let's return to flux batch, but now with our new knowledge about flux instances! Flux tree is actually an experimental command that you won't encounter in the wild. Instead, you will likely interact with your nested flux instances with `flux batch`. Let's start with a batch script `hello-batch.sh`.\n",
    "\n",
    "### hello-batch.sh\n"
   ]
  },
  {
   "cell_type": "code",
   "execution_count": 19,
   "id": "e82863e5-b2a1-456b-9ff1-f669b3525fa1",
   "metadata": {},
   "outputs": [
    {
     "data": {
      "text/html": [
       "<style>pre { line-height: 125%; }\n",
       "td.linenos .normal { color: inherit; background-color: transparent; padding-left: 5px; padding-right: 5px; }\n",
       "span.linenos { color: inherit; background-color: transparent; padding-left: 5px; padding-right: 5px; }\n",
       "td.linenos .special { color: #000000; background-color: #ffffc0; padding-left: 5px; padding-right: 5px; }\n",
       "span.linenos.special { color: #000000; background-color: #ffffc0; padding-left: 5px; padding-right: 5px; }\n",
       ".output_html .hll { background-color: #ffffcc }\n",
       ".output_html { background: #f8f8f8; }\n",
       ".output_html .c { color: #3D7B7B; font-style: italic } /* Comment */\n",
       ".output_html .err { border: 1px solid #FF0000 } /* Error */\n",
       ".output_html .k { color: #008000; font-weight: bold } /* Keyword */\n",
       ".output_html .o { color: #666666 } /* Operator */\n",
       ".output_html .ch { color: #3D7B7B; font-style: italic } /* Comment.Hashbang */\n",
       ".output_html .cm { color: #3D7B7B; font-style: italic } /* Comment.Multiline */\n",
       ".output_html .cp { color: #9C6500 } /* Comment.Preproc */\n",
       ".output_html .cpf { color: #3D7B7B; font-style: italic } /* Comment.PreprocFile */\n",
       ".output_html .c1 { color: #3D7B7B; font-style: italic } /* Comment.Single */\n",
       ".output_html .cs { color: #3D7B7B; font-style: italic } /* Comment.Special */\n",
       ".output_html .gd { color: #A00000 } /* Generic.Deleted */\n",
       ".output_html .ge { font-style: italic } /* Generic.Emph */\n",
       ".output_html .ges { font-weight: bold; font-style: italic } /* Generic.EmphStrong */\n",
       ".output_html .gr { color: #E40000 } /* Generic.Error */\n",
       ".output_html .gh { color: #000080; font-weight: bold } /* Generic.Heading */\n",
       ".output_html .gi { color: #008400 } /* Generic.Inserted */\n",
       ".output_html .go { color: #717171 } /* Generic.Output */\n",
       ".output_html .gp { color: #000080; font-weight: bold } /* Generic.Prompt */\n",
       ".output_html .gs { font-weight: bold } /* Generic.Strong */\n",
       ".output_html .gu { color: #800080; font-weight: bold } /* Generic.Subheading */\n",
       ".output_html .gt { color: #0044DD } /* Generic.Traceback */\n",
       ".output_html .kc { color: #008000; font-weight: bold } /* Keyword.Constant */\n",
       ".output_html .kd { color: #008000; font-weight: bold } /* Keyword.Declaration */\n",
       ".output_html .kn { color: #008000; font-weight: bold } /* Keyword.Namespace */\n",
       ".output_html .kp { color: #008000 } /* Keyword.Pseudo */\n",
       ".output_html .kr { color: #008000; font-weight: bold } /* Keyword.Reserved */\n",
       ".output_html .kt { color: #B00040 } /* Keyword.Type */\n",
       ".output_html .m { color: #666666 } /* Literal.Number */\n",
       ".output_html .s { color: #BA2121 } /* Literal.String */\n",
       ".output_html .na { color: #687822 } /* Name.Attribute */\n",
       ".output_html .nb { color: #008000 } /* Name.Builtin */\n",
       ".output_html .nc { color: #0000FF; font-weight: bold } /* Name.Class */\n",
       ".output_html .no { color: #880000 } /* Name.Constant */\n",
       ".output_html .nd { color: #AA22FF } /* Name.Decorator */\n",
       ".output_html .ni { color: #717171; font-weight: bold } /* Name.Entity */\n",
       ".output_html .ne { color: #CB3F38; font-weight: bold } /* Name.Exception */\n",
       ".output_html .nf { color: #0000FF } /* Name.Function */\n",
       ".output_html .nl { color: #767600 } /* Name.Label */\n",
       ".output_html .nn { color: #0000FF; font-weight: bold } /* Name.Namespace */\n",
       ".output_html .nt { color: #008000; font-weight: bold } /* Name.Tag */\n",
       ".output_html .nv { color: #19177C } /* Name.Variable */\n",
       ".output_html .ow { color: #AA22FF; font-weight: bold } /* Operator.Word */\n",
       ".output_html .w { color: #bbbbbb } /* Text.Whitespace */\n",
       ".output_html .mb { color: #666666 } /* Literal.Number.Bin */\n",
       ".output_html .mf { color: #666666 } /* Literal.Number.Float */\n",
       ".output_html .mh { color: #666666 } /* Literal.Number.Hex */\n",
       ".output_html .mi { color: #666666 } /* Literal.Number.Integer */\n",
       ".output_html .mo { color: #666666 } /* Literal.Number.Oct */\n",
       ".output_html .sa { color: #BA2121 } /* Literal.String.Affix */\n",
       ".output_html .sb { color: #BA2121 } /* Literal.String.Backtick */\n",
       ".output_html .sc { color: #BA2121 } /* Literal.String.Char */\n",
       ".output_html .dl { color: #BA2121 } /* Literal.String.Delimiter */\n",
       ".output_html .sd { color: #BA2121; font-style: italic } /* Literal.String.Doc */\n",
       ".output_html .s2 { color: #BA2121 } /* Literal.String.Double */\n",
       ".output_html .se { color: #AA5D1F; font-weight: bold } /* Literal.String.Escape */\n",
       ".output_html .sh { color: #BA2121 } /* Literal.String.Heredoc */\n",
       ".output_html .si { color: #A45A77; font-weight: bold } /* Literal.String.Interpol */\n",
       ".output_html .sx { color: #008000 } /* Literal.String.Other */\n",
       ".output_html .sr { color: #A45A77 } /* Literal.String.Regex */\n",
       ".output_html .s1 { color: #BA2121 } /* Literal.String.Single */\n",
       ".output_html .ss { color: #19177C } /* Literal.String.Symbol */\n",
       ".output_html .bp { color: #008000 } /* Name.Builtin.Pseudo */\n",
       ".output_html .fm { color: #0000FF } /* Name.Function.Magic */\n",
       ".output_html .vc { color: #19177C } /* Name.Variable.Class */\n",
       ".output_html .vg { color: #19177C } /* Name.Variable.Global */\n",
       ".output_html .vi { color: #19177C } /* Name.Variable.Instance */\n",
       ".output_html .vm { color: #19177C } /* Name.Variable.Magic */\n",
       ".output_html .il { color: #666666 } /* Literal.Number.Integer.Long */</style><div class=\"highlight\"><pre><span></span><span class=\"ch\">#!/bin/bash</span>\n",
       "\n",
       "flux<span class=\"w\"> </span>submit<span class=\"w\"> </span>--flags<span class=\"o\">=</span>waitable<span class=\"w\"> </span>-N1<span class=\"w\"> </span>--output<span class=\"o\">=</span>/tmp/hello-batch-1.out<span class=\"w\"> </span><span class=\"nb\">echo</span><span class=\"w\"> </span><span class=\"s2\">&quot;Hello job 1 from </span><span class=\"k\">$(</span>hostname<span class=\"k\">)</span><span class=\"s2\"> 💛️&quot;</span>\n",
       "flux<span class=\"w\"> </span>submit<span class=\"w\"> </span>--flags<span class=\"o\">=</span>waitable<span class=\"w\"> </span>-N1<span class=\"w\"> </span>--output<span class=\"o\">=</span>/tmp/hello-batch-2.out<span class=\"w\"> </span><span class=\"nb\">echo</span><span class=\"w\"> </span><span class=\"s2\">&quot;Hello job 2 from </span><span class=\"k\">$(</span>hostname<span class=\"k\">)</span><span class=\"s2\"> 💚️&quot;</span>\n",
       "flux<span class=\"w\"> </span>submit<span class=\"w\"> </span>--flags<span class=\"o\">=</span>waitable<span class=\"w\"> </span>-N1<span class=\"w\"> </span>--output<span class=\"o\">=</span>/tmp/hello-batch-3.out<span class=\"w\"> </span><span class=\"nb\">echo</span><span class=\"w\"> </span><span class=\"s2\">&quot;Hello job 3 from </span><span class=\"k\">$(</span>hostname<span class=\"k\">)</span><span class=\"s2\"> 💙️&quot;</span>\n",
       "flux<span class=\"w\"> </span>submit<span class=\"w\"> </span>--flags<span class=\"o\">=</span>waitable<span class=\"w\"> </span>-N1<span class=\"w\"> </span>--output<span class=\"o\">=</span>/tmp/hello-batch-4.out<span class=\"w\"> </span><span class=\"nb\">echo</span><span class=\"w\"> </span><span class=\"s2\">&quot;Hello job 4 from </span><span class=\"k\">$(</span>hostname<span class=\"k\">)</span><span class=\"s2\"> 💜️&quot;</span>\n",
       "<span class=\"c1\"># Wait for the jobs to finish</span>\n",
       "flux<span class=\"w\"> </span>job<span class=\"w\"> </span><span class=\"nb\">wait</span><span class=\"w\"> </span>--all\n",
       "</pre></div>\n"
      ],
      "text/latex": [
       "\\begin{Verbatim}[commandchars=\\\\\\{\\}]\n",
       "\\PY{c+ch}{\\PYZsh{}!/bin/bash}\n",
       "\n",
       "flux\\PY{+w}{ }submit\\PY{+w}{ }\\PYZhy{}\\PYZhy{}flags\\PY{o}{=}waitable\\PY{+w}{ }\\PYZhy{}N1\\PY{+w}{ }\\PYZhy{}\\PYZhy{}output\\PY{o}{=}/tmp/hello\\PYZhy{}batch\\PYZhy{}1.out\\PY{+w}{ }\\PY{n+nb}{echo}\\PY{+w}{ }\\PY{l+s+s2}{\\PYZdq{}}\\PY{l+s+s2}{Hello job 1 from }\\PY{k}{\\PYZdl{}(}hostname\\PY{k}{)}\\PY{l+s+s2}{ 💛️}\\PY{l+s+s2}{\\PYZdq{}}\n",
       "flux\\PY{+w}{ }submit\\PY{+w}{ }\\PYZhy{}\\PYZhy{}flags\\PY{o}{=}waitable\\PY{+w}{ }\\PYZhy{}N1\\PY{+w}{ }\\PYZhy{}\\PYZhy{}output\\PY{o}{=}/tmp/hello\\PYZhy{}batch\\PYZhy{}2.out\\PY{+w}{ }\\PY{n+nb}{echo}\\PY{+w}{ }\\PY{l+s+s2}{\\PYZdq{}}\\PY{l+s+s2}{Hello job 2 from }\\PY{k}{\\PYZdl{}(}hostname\\PY{k}{)}\\PY{l+s+s2}{ 💚️}\\PY{l+s+s2}{\\PYZdq{}}\n",
       "flux\\PY{+w}{ }submit\\PY{+w}{ }\\PYZhy{}\\PYZhy{}flags\\PY{o}{=}waitable\\PY{+w}{ }\\PYZhy{}N1\\PY{+w}{ }\\PYZhy{}\\PYZhy{}output\\PY{o}{=}/tmp/hello\\PYZhy{}batch\\PYZhy{}3.out\\PY{+w}{ }\\PY{n+nb}{echo}\\PY{+w}{ }\\PY{l+s+s2}{\\PYZdq{}}\\PY{l+s+s2}{Hello job 3 from }\\PY{k}{\\PYZdl{}(}hostname\\PY{k}{)}\\PY{l+s+s2}{ 💙️}\\PY{l+s+s2}{\\PYZdq{}}\n",
       "flux\\PY{+w}{ }submit\\PY{+w}{ }\\PYZhy{}\\PYZhy{}flags\\PY{o}{=}waitable\\PY{+w}{ }\\PYZhy{}N1\\PY{+w}{ }\\PYZhy{}\\PYZhy{}output\\PY{o}{=}/tmp/hello\\PYZhy{}batch\\PYZhy{}4.out\\PY{+w}{ }\\PY{n+nb}{echo}\\PY{+w}{ }\\PY{l+s+s2}{\\PYZdq{}}\\PY{l+s+s2}{Hello job 4 from }\\PY{k}{\\PYZdl{}(}hostname\\PY{k}{)}\\PY{l+s+s2}{ 💜️}\\PY{l+s+s2}{\\PYZdq{}}\n",
       "\\PY{c+c1}{\\PYZsh{} Wait for the jobs to finish}\n",
       "flux\\PY{+w}{ }job\\PY{+w}{ }\\PY{n+nb}{wait}\\PY{+w}{ }\\PYZhy{}\\PYZhy{}all\n",
       "\\end{Verbatim}\n"
      ],
      "text/plain": [
       "#!/bin/bash\n",
       "\n",
       "flux submit --flags=waitable -N1 --output=/tmp/hello-batch-1.out echo \"Hello job 1 from $(hostname) 💛️\"\n",
       "flux submit --flags=waitable -N1 --output=/tmp/hello-batch-2.out echo \"Hello job 2 from $(hostname) 💚️\"\n",
       "flux submit --flags=waitable -N1 --output=/tmp/hello-batch-3.out echo \"Hello job 3 from $(hostname) 💙️\"\n",
       "flux submit --flags=waitable -N1 --output=/tmp/hello-batch-4.out echo \"Hello job 4 from $(hostname) 💜️\"\n",
       "# Wait for the jobs to finish\n",
       "flux job wait --all"
      ]
     },
     "execution_count": 19,
     "metadata": {},
     "output_type": "execute_result"
    }
   ],
   "source": [
    "from IPython.display import Code\n",
    "Code(filename='hello-batch.sh', language='bash')"
   ]
  },
  {
   "cell_type": "markdown",
   "id": "6bc17bac-2fc4-4418-8939-e930f9929976",
   "metadata": {},
   "source": [
    "We would provide this script to run with `flux batch` that is going to:\n",
    "\n",
    "1. Create a flux instance with the top level resources you specify\n",
    "2. Submit jobs to the scheduler controlled by the broker of that sub-instance\n",
    "3. Run the four jobs, with `--flags=waitable` and `flux job wait --all` to wait for the output file\n",
    "4. Within the batch script, you can add `--wait` or `--flags=waitable` to individual jobs, and use `flux queue drain` to wait for the queue to drain, _or_ `flux job wait --all` to wait for the jobs you flagged to finish. \n",
    "\n",
    "Note that when you submit a batch job, you'll get a job id back for the _batch job_, and usually when you look at the output of that with `flux job attach $jobid` you will see the output file(s) where the internal contents are written. Since we want to print the output file easily to the terminal, we are waiting for the batch job by adding the `--flags=waitable` and then waiting for it. Let's try to run our batch job now."
   ]
  },
  {
   "cell_type": "code",
   "execution_count": 20,
   "id": "72358a03-6f1f-4c5e-91eb-cab71883a232",
   "metadata": {},
   "outputs": [
    {
     "name": "stdout",
     "output_type": "stream",
     "text": [
      "ƒY424FfiX\n",
      "ƒY424FfiX\n",
      "Hello job 1 from 399f5da372b0 💛️\n",
      "Hello job 2 from 399f5da372b0 💚️\n",
      "Hello job 3 from 399f5da372b0 💙️\n",
      "Hello job 4 from 399f5da372b0 💜️\n"
     ]
    }
   ],
   "source": [
    "! flux batch --flags=waitable --out /tmp/flux-batch.out -N2 ./hello-batch.sh\n",
    "! flux job wait\n",
    "! cat /tmp/hello-batch-1.out\n",
    "! cat /tmp/hello-batch-2.out\n",
    "! cat /tmp/hello-batch-3.out\n",
    "! cat /tmp/hello-batch-4.out"
   ]
  },
  {
   "cell_type": "markdown",
   "id": "75c0ae3f-2813-4ae8-83be-00be3df92a4b",
   "metadata": {},
   "source": [
    "Excellent! Now let's look at another batch example. Here we have two job scripts:\n",
    "\n",
    "- sub_job1.sh: Is going to be run with `flux batch` and submit sub_job2.sh\n",
    "- sub_job2.sh: Is going to be submit by sub_job1.sh.\n",
    "\n",
    "You can see that below."
   ]
  },
  {
   "cell_type": "code",
   "execution_count": 31,
   "id": "2e6976f8-dbb6-405e-a06b-47c571aa1cdf",
   "metadata": {},
   "outputs": [
    {
     "data": {
      "text/html": [
       "<style>pre { line-height: 125%; }\n",
       "td.linenos .normal { color: inherit; background-color: transparent; padding-left: 5px; padding-right: 5px; }\n",
       "span.linenos { color: inherit; background-color: transparent; padding-left: 5px; padding-right: 5px; }\n",
       "td.linenos .special { color: #000000; background-color: #ffffc0; padding-left: 5px; padding-right: 5px; }\n",
       "span.linenos.special { color: #000000; background-color: #ffffc0; padding-left: 5px; padding-right: 5px; }\n",
       ".output_html .hll { background-color: #ffffcc }\n",
       ".output_html { background: #f8f8f8; }\n",
       ".output_html .c { color: #3D7B7B; font-style: italic } /* Comment */\n",
       ".output_html .err { border: 1px solid #FF0000 } /* Error */\n",
       ".output_html .k { color: #008000; font-weight: bold } /* Keyword */\n",
       ".output_html .o { color: #666666 } /* Operator */\n",
       ".output_html .ch { color: #3D7B7B; font-style: italic } /* Comment.Hashbang */\n",
       ".output_html .cm { color: #3D7B7B; font-style: italic } /* Comment.Multiline */\n",
       ".output_html .cp { color: #9C6500 } /* Comment.Preproc */\n",
       ".output_html .cpf { color: #3D7B7B; font-style: italic } /* Comment.PreprocFile */\n",
       ".output_html .c1 { color: #3D7B7B; font-style: italic } /* Comment.Single */\n",
       ".output_html .cs { color: #3D7B7B; font-style: italic } /* Comment.Special */\n",
       ".output_html .gd { color: #A00000 } /* Generic.Deleted */\n",
       ".output_html .ge { font-style: italic } /* Generic.Emph */\n",
       ".output_html .ges { font-weight: bold; font-style: italic } /* Generic.EmphStrong */\n",
       ".output_html .gr { color: #E40000 } /* Generic.Error */\n",
       ".output_html .gh { color: #000080; font-weight: bold } /* Generic.Heading */\n",
       ".output_html .gi { color: #008400 } /* Generic.Inserted */\n",
       ".output_html .go { color: #717171 } /* Generic.Output */\n",
       ".output_html .gp { color: #000080; font-weight: bold } /* Generic.Prompt */\n",
       ".output_html .gs { font-weight: bold } /* Generic.Strong */\n",
       ".output_html .gu { color: #800080; font-weight: bold } /* Generic.Subheading */\n",
       ".output_html .gt { color: #0044DD } /* Generic.Traceback */\n",
       ".output_html .kc { color: #008000; font-weight: bold } /* Keyword.Constant */\n",
       ".output_html .kd { color: #008000; font-weight: bold } /* Keyword.Declaration */\n",
       ".output_html .kn { color: #008000; font-weight: bold } /* Keyword.Namespace */\n",
       ".output_html .kp { color: #008000 } /* Keyword.Pseudo */\n",
       ".output_html .kr { color: #008000; font-weight: bold } /* Keyword.Reserved */\n",
       ".output_html .kt { color: #B00040 } /* Keyword.Type */\n",
       ".output_html .m { color: #666666 } /* Literal.Number */\n",
       ".output_html .s { color: #BA2121 } /* Literal.String */\n",
       ".output_html .na { color: #687822 } /* Name.Attribute */\n",
       ".output_html .nb { color: #008000 } /* Name.Builtin */\n",
       ".output_html .nc { color: #0000FF; font-weight: bold } /* Name.Class */\n",
       ".output_html .no { color: #880000 } /* Name.Constant */\n",
       ".output_html .nd { color: #AA22FF } /* Name.Decorator */\n",
       ".output_html .ni { color: #717171; font-weight: bold } /* Name.Entity */\n",
       ".output_html .ne { color: #CB3F38; font-weight: bold } /* Name.Exception */\n",
       ".output_html .nf { color: #0000FF } /* Name.Function */\n",
       ".output_html .nl { color: #767600 } /* Name.Label */\n",
       ".output_html .nn { color: #0000FF; font-weight: bold } /* Name.Namespace */\n",
       ".output_html .nt { color: #008000; font-weight: bold } /* Name.Tag */\n",
       ".output_html .nv { color: #19177C } /* Name.Variable */\n",
       ".output_html .ow { color: #AA22FF; font-weight: bold } /* Operator.Word */\n",
       ".output_html .w { color: #bbbbbb } /* Text.Whitespace */\n",
       ".output_html .mb { color: #666666 } /* Literal.Number.Bin */\n",
       ".output_html .mf { color: #666666 } /* Literal.Number.Float */\n",
       ".output_html .mh { color: #666666 } /* Literal.Number.Hex */\n",
       ".output_html .mi { color: #666666 } /* Literal.Number.Integer */\n",
       ".output_html .mo { color: #666666 } /* Literal.Number.Oct */\n",
       ".output_html .sa { color: #BA2121 } /* Literal.String.Affix */\n",
       ".output_html .sb { color: #BA2121 } /* Literal.String.Backtick */\n",
       ".output_html .sc { color: #BA2121 } /* Literal.String.Char */\n",
       ".output_html .dl { color: #BA2121 } /* Literal.String.Delimiter */\n",
       ".output_html .sd { color: #BA2121; font-style: italic } /* Literal.String.Doc */\n",
       ".output_html .s2 { color: #BA2121 } /* Literal.String.Double */\n",
       ".output_html .se { color: #AA5D1F; font-weight: bold } /* Literal.String.Escape */\n",
       ".output_html .sh { color: #BA2121 } /* Literal.String.Heredoc */\n",
       ".output_html .si { color: #A45A77; font-weight: bold } /* Literal.String.Interpol */\n",
       ".output_html .sx { color: #008000 } /* Literal.String.Other */\n",
       ".output_html .sr { color: #A45A77 } /* Literal.String.Regex */\n",
       ".output_html .s1 { color: #BA2121 } /* Literal.String.Single */\n",
       ".output_html .ss { color: #19177C } /* Literal.String.Symbol */\n",
       ".output_html .bp { color: #008000 } /* Name.Builtin.Pseudo */\n",
       ".output_html .fm { color: #0000FF } /* Name.Function.Magic */\n",
       ".output_html .vc { color: #19177C } /* Name.Variable.Class */\n",
       ".output_html .vg { color: #19177C } /* Name.Variable.Global */\n",
       ".output_html .vi { color: #19177C } /* Name.Variable.Instance */\n",
       ".output_html .vm { color: #19177C } /* Name.Variable.Magic */\n",
       ".output_html .il { color: #666666 } /* Literal.Number.Integer.Long */</style><div class=\"highlight\"><pre><span></span><span class=\"ch\">#!/bin/bash</span>\n",
       "\n",
       "flux<span class=\"w\"> </span>batch<span class=\"w\"> </span>-N1<span class=\"w\"> </span>./sub_job2.sh\n",
       "flux<span class=\"w\"> </span>queue<span class=\"w\"> </span>drain\n",
       "</pre></div>\n"
      ],
      "text/latex": [
       "\\begin{Verbatim}[commandchars=\\\\\\{\\}]\n",
       "\\PY{c+ch}{\\PYZsh{}!/bin/bash}\n",
       "\n",
       "flux\\PY{+w}{ }batch\\PY{+w}{ }\\PYZhy{}N1\\PY{+w}{ }./sub\\PYZus{}job2.sh\n",
       "flux\\PY{+w}{ }queue\\PY{+w}{ }drain\n",
       "\\end{Verbatim}\n"
      ],
      "text/plain": [
       "#!/bin/bash\n",
       "\n",
       "flux batch -N1 ./sub_job2.sh\n",
       "flux queue drain\n"
      ]
     },
     "execution_count": 31,
     "metadata": {},
     "output_type": "execute_result"
    }
   ],
   "source": [
    "Code(filename='sub_job1.sh', language='bash')"
   ]
  },
  {
   "cell_type": "code",
   "execution_count": 32,
   "id": "a0719cc9-6bf2-4285-b5d7-6cc534fc364c",
   "metadata": {},
   "outputs": [
    {
     "data": {
      "text/html": [
       "<style>pre { line-height: 125%; }\n",
       "td.linenos .normal { color: inherit; background-color: transparent; padding-left: 5px; padding-right: 5px; }\n",
       "span.linenos { color: inherit; background-color: transparent; padding-left: 5px; padding-right: 5px; }\n",
       "td.linenos .special { color: #000000; background-color: #ffffc0; padding-left: 5px; padding-right: 5px; }\n",
       "span.linenos.special { color: #000000; background-color: #ffffc0; padding-left: 5px; padding-right: 5px; }\n",
       ".output_html .hll { background-color: #ffffcc }\n",
       ".output_html { background: #f8f8f8; }\n",
       ".output_html .c { color: #3D7B7B; font-style: italic } /* Comment */\n",
       ".output_html .err { border: 1px solid #FF0000 } /* Error */\n",
       ".output_html .k { color: #008000; font-weight: bold } /* Keyword */\n",
       ".output_html .o { color: #666666 } /* Operator */\n",
       ".output_html .ch { color: #3D7B7B; font-style: italic } /* Comment.Hashbang */\n",
       ".output_html .cm { color: #3D7B7B; font-style: italic } /* Comment.Multiline */\n",
       ".output_html .cp { color: #9C6500 } /* Comment.Preproc */\n",
       ".output_html .cpf { color: #3D7B7B; font-style: italic } /* Comment.PreprocFile */\n",
       ".output_html .c1 { color: #3D7B7B; font-style: italic } /* Comment.Single */\n",
       ".output_html .cs { color: #3D7B7B; font-style: italic } /* Comment.Special */\n",
       ".output_html .gd { color: #A00000 } /* Generic.Deleted */\n",
       ".output_html .ge { font-style: italic } /* Generic.Emph */\n",
       ".output_html .ges { font-weight: bold; font-style: italic } /* Generic.EmphStrong */\n",
       ".output_html .gr { color: #E40000 } /* Generic.Error */\n",
       ".output_html .gh { color: #000080; font-weight: bold } /* Generic.Heading */\n",
       ".output_html .gi { color: #008400 } /* Generic.Inserted */\n",
       ".output_html .go { color: #717171 } /* Generic.Output */\n",
       ".output_html .gp { color: #000080; font-weight: bold } /* Generic.Prompt */\n",
       ".output_html .gs { font-weight: bold } /* Generic.Strong */\n",
       ".output_html .gu { color: #800080; font-weight: bold } /* Generic.Subheading */\n",
       ".output_html .gt { color: #0044DD } /* Generic.Traceback */\n",
       ".output_html .kc { color: #008000; font-weight: bold } /* Keyword.Constant */\n",
       ".output_html .kd { color: #008000; font-weight: bold } /* Keyword.Declaration */\n",
       ".output_html .kn { color: #008000; font-weight: bold } /* Keyword.Namespace */\n",
       ".output_html .kp { color: #008000 } /* Keyword.Pseudo */\n",
       ".output_html .kr { color: #008000; font-weight: bold } /* Keyword.Reserved */\n",
       ".output_html .kt { color: #B00040 } /* Keyword.Type */\n",
       ".output_html .m { color: #666666 } /* Literal.Number */\n",
       ".output_html .s { color: #BA2121 } /* Literal.String */\n",
       ".output_html .na { color: #687822 } /* Name.Attribute */\n",
       ".output_html .nb { color: #008000 } /* Name.Builtin */\n",
       ".output_html .nc { color: #0000FF; font-weight: bold } /* Name.Class */\n",
       ".output_html .no { color: #880000 } /* Name.Constant */\n",
       ".output_html .nd { color: #AA22FF } /* Name.Decorator */\n",
       ".output_html .ni { color: #717171; font-weight: bold } /* Name.Entity */\n",
       ".output_html .ne { color: #CB3F38; font-weight: bold } /* Name.Exception */\n",
       ".output_html .nf { color: #0000FF } /* Name.Function */\n",
       ".output_html .nl { color: #767600 } /* Name.Label */\n",
       ".output_html .nn { color: #0000FF; font-weight: bold } /* Name.Namespace */\n",
       ".output_html .nt { color: #008000; font-weight: bold } /* Name.Tag */\n",
       ".output_html .nv { color: #19177C } /* Name.Variable */\n",
       ".output_html .ow { color: #AA22FF; font-weight: bold } /* Operator.Word */\n",
       ".output_html .w { color: #bbbbbb } /* Text.Whitespace */\n",
       ".output_html .mb { color: #666666 } /* Literal.Number.Bin */\n",
       ".output_html .mf { color: #666666 } /* Literal.Number.Float */\n",
       ".output_html .mh { color: #666666 } /* Literal.Number.Hex */\n",
       ".output_html .mi { color: #666666 } /* Literal.Number.Integer */\n",
       ".output_html .mo { color: #666666 } /* Literal.Number.Oct */\n",
       ".output_html .sa { color: #BA2121 } /* Literal.String.Affix */\n",
       ".output_html .sb { color: #BA2121 } /* Literal.String.Backtick */\n",
       ".output_html .sc { color: #BA2121 } /* Literal.String.Char */\n",
       ".output_html .dl { color: #BA2121 } /* Literal.String.Delimiter */\n",
       ".output_html .sd { color: #BA2121; font-style: italic } /* Literal.String.Doc */\n",
       ".output_html .s2 { color: #BA2121 } /* Literal.String.Double */\n",
       ".output_html .se { color: #AA5D1F; font-weight: bold } /* Literal.String.Escape */\n",
       ".output_html .sh { color: #BA2121 } /* Literal.String.Heredoc */\n",
       ".output_html .si { color: #A45A77; font-weight: bold } /* Literal.String.Interpol */\n",
       ".output_html .sx { color: #008000 } /* Literal.String.Other */\n",
       ".output_html .sr { color: #A45A77 } /* Literal.String.Regex */\n",
       ".output_html .s1 { color: #BA2121 } /* Literal.String.Single */\n",
       ".output_html .ss { color: #19177C } /* Literal.String.Symbol */\n",
       ".output_html .bp { color: #008000 } /* Name.Builtin.Pseudo */\n",
       ".output_html .fm { color: #0000FF } /* Name.Function.Magic */\n",
       ".output_html .vc { color: #19177C } /* Name.Variable.Class */\n",
       ".output_html .vg { color: #19177C } /* Name.Variable.Global */\n",
       ".output_html .vi { color: #19177C } /* Name.Variable.Instance */\n",
       ".output_html .vm { color: #19177C } /* Name.Variable.Magic */\n",
       ".output_html .il { color: #666666 } /* Literal.Number.Integer.Long */</style><div class=\"highlight\"><pre><span></span><span class=\"ch\">#!/bin/bash</span>\n",
       "\n",
       "flux<span class=\"w\"> </span>run<span class=\"w\"> </span>-N1<span class=\"w\"> </span>sleep<span class=\"w\"> </span><span class=\"m\">30</span>\n",
       "</pre></div>\n"
      ],
      "text/latex": [
       "\\begin{Verbatim}[commandchars=\\\\\\{\\}]\n",
       "\\PY{c+ch}{\\PYZsh{}!/bin/bash}\n",
       "\n",
       "flux\\PY{+w}{ }run\\PY{+w}{ }\\PYZhy{}N1\\PY{+w}{ }sleep\\PY{+w}{ }\\PY{l+m}{30}\n",
       "\\end{Verbatim}\n"
      ],
      "text/plain": [
       "#!/bin/bash\n",
       "\n",
       "flux run -N1 sleep 30\n"
      ]
     },
     "execution_count": 32,
     "metadata": {},
     "output_type": "execute_result"
    }
   ],
   "source": [
    "Code(filename='sub_job2.sh', language='bash')"
   ]
  },
  {
   "cell_type": "code",
   "execution_count": 22,
   "id": "8640a611-38e4-42b1-a913-89e0c76c8014",
   "metadata": {},
   "outputs": [
    {
     "name": "stdout",
     "output_type": "stream",
     "text": [
      "ƒYRzZSFuy\n"
     ]
    }
   ],
   "source": [
    "# Submit it!\n",
    "!flux batch -N1 ./sub_job1.sh"
   ]
  },
  {
   "cell_type": "markdown",
   "id": "b29c3a4a-2b77-4ab9-8e0c-9f5228e61016",
   "metadata": {},
   "source": [
    "And now that we've submit, let's look at the hierarchy for all the jobs we just ran. Here is how to try flux pstree, which normally can show jobs in an instance, but it has limited functionality given we are in a notebook! So instead of just running the single command, let's add \"-a\" to indicate \"show me ALL jobs.\"\n",
    "More complex jobs and in a different environment would have deeper nesting. You can [see examples here](https://flux-framework.readthedocs.io/en/latest/jobs/hierarchies.html?h=pstree#flux-pstree-command)."
   ]
  },
  {
   "cell_type": "code",
   "execution_count": 23,
   "id": "2d2b1f0b-e6c2-4583-8068-7c76fa341884",
   "metadata": {},
   "outputs": [
    {
     "name": "stdout",
     "output_type": "stream",
     "text": [
      ".\n",
      "├── ./sub_job1.sh\n",
      "│   └── ./sub_job2.sh\n",
      "│       └── sleep:R\n",
      "├── ./hello-batch.sh:CD\n",
      "├── 2*[./sleep_batch.sh:CD]\n",
      "├── 4*[echo:CD]\n",
      "├── sleep:CA\n",
      "├── simulation:CA\n",
      "├── analysis:CA\n",
      "├── job-watch.sh:CD\n",
      "├── 13*[hostname:CD]\n",
      "└── false:F\n"
     ]
    }
   ],
   "source": [
    "!flux pstree -a"
   ]
  },
  {
   "cell_type": "markdown",
   "id": "7724130f-b0db-4ccf-a01e-98907b9a27ca",
   "metadata": {},
   "source": [
    "You can also try a more detailed view with `flux pstree -a -X`!"
   ]
  },
  {
   "cell_type": "markdown",
   "id": "eda1a33c-9f9e-4ba0-a013-e97601f79e41",
   "metadata": {},
   "source": [
    "# Process and Job Utilities ⚙️\n",
    "\n",
    "## Flux uptime\n",
    "\n",
    "Did someone say... [uptime](https://youtu.be/SYRlTISvjww?si=zDlvpWbBljUmZw_Q)? ☝️🕑️🕺️\n",
    "\n",
    "Flux provides an `uptime` utility to display properties of the Flux instance such as state of the current instance, how long it has been running, its size and if scheduling is disabled or stopped. The output shows how long the instance has been up, the instance owner, the instance depth (depth in the Flux hierarchy), and the size of the instance (number of brokers)."
   ]
  },
  {
   "cell_type": "code",
   "execution_count": 31,
   "id": "095f2ac3-145b-4cda-8350-7c281f2b2b45",
   "metadata": {},
   "outputs": [
    {
     "name": "stdout",
     "output_type": "stream",
     "text": [
      " 22:16:17 run 1.8h,  owner jovyan,  depth 0,  size 4\n"
     ]
    }
   ],
   "source": [
    "!flux uptime"
   ]
  },
  {
   "cell_type": "markdown",
   "id": "03e2ae62-3e3b-4c82-a0c7-4c97ff1376d2",
   "metadata": {
    "jp-MarkdownHeadingCollapsed": true
   },
   "source": [
    "## Flux top \n",
    "Flux provides a feature-full version of `top` for nested Flux instances and jobs. In the JupyterLab terminal, invoke `flux top` to see the \"sleep\" jobs. If they have already completed you can resubmit them. \n",
    "\n",
    "We recommend not running `flux top` in the notebook as it is not designed to display output from a command that runs continuously.\n",
    "\n",
    "## Flux pstree \n",
    "In analogy to `top`, Flux provides `flux pstree`. Try it out in the <button data-commandLinker-command=\"terminal:open\" data-name=\"flux\" href=\"#\">JupyterLab terminal</button> or here in the notebook.\n",
    "\n",
    "## Flux proxy\n",
    "\n",
    "### flux proxy\n",
    "\n",
    "> To interact with a job hierarchy\n",
    "\n",
    "Flux proxy is used to route messages to and from a Flux instance. We can use `flux proxy` to connect to a running Flux instance and then submit more nested jobs inside it. You may want to edit `sleep_batch.sh` with the JupyterLab text editor (double click the file in the window on the left) to sleep for `60` or `120` seconds. Then from the <button data-commandLinker-command=\"terminal:open\" data-name=\"flux\" href=\"#\">JupyterLab terminal</button> run the commands below!"
   ]
  },
  {
   "cell_type": "markdown",
   "id": "a609b2f8-e24d-40c7-b022-ce02e91a49f8",
   "metadata": {},
   "source": [
    "```bash\n",
    "# The terminal will start at the root, ensure you are in the right spot!\n",
    "# jovyan - that's you! \n",
    "cd /home/jovyan/flux-radiuss-tutorial-2023/notebook/\n",
    "\n",
    "# Outputs the JOBID\n",
    "flux batch --nslots=2 --cores-per-slot=1 --nodes=2 ./sleep_batch.sh\n",
    "\n",
    "# Put the JOBID into an environment variable\n",
    "JOBID=$(flux job last)\n",
    "\n",
    "# See the flux process tree\n",
    "flux pstree -a\n",
    "\n",
    "# Connect to the Flux instance corresponding to JOBID above\n",
    "flux proxy ${JOBID}\n",
    "\n",
    "# Note the depth is now 1 and the size is 2: we're one level deeper in a Flux hierarchy and we have only 2 brokers now.\n",
    "flux uptime\n",
    "\n",
    "# This instance has 2 \"nodes\" and 2 cores allocated to it\n",
    "flux resource list\n",
    "\n",
    "# Have you used the top command in your terminal? We have one for flux!\n",
    "flux top\n",
    "```\n",
    "\n",
    "`flux top` was pretty cool, right? 😎️"
   ]
  },
  {
   "cell_type": "markdown",
   "id": "997faffc",
   "metadata": {},
   "source": [
    "# Python Submission API 🐍️\n",
    "Flux also provides first-class python bindings which can be used to submit jobs programmatically. The following script shows this with the `flux.job.submit()` call:"
   ]
  },
  {
   "cell_type": "code",
   "execution_count": 24,
   "id": "third-comment",
   "metadata": {},
   "outputs": [],
   "source": [
    "import os\n",
    "import json\n",
    "import flux\n",
    "from flux.job import JobspecV1\n",
    "from flux.job.JobID import JobID"
   ]
  },
  {
   "cell_type": "code",
   "execution_count": 25,
   "id": "selective-uganda",
   "metadata": {},
   "outputs": [
    {
     "name": "stdout",
     "output_type": "stream",
     "text": [
      "ƒZoXw7Pdq\n"
     ]
    }
   ],
   "source": [
    "f = flux.Flux() # connect to the running Flux instance\n",
    "compute_jobreq = JobspecV1.from_command(\n",
    "    command=[\"./compute.py\", \"120\"], num_tasks=1, num_nodes=1, cores_per_task=1\n",
    ") # construct a jobspec\n",
    "compute_jobreq.cwd = os.path.expanduser(\"~/flux-tutorial/flux-workflow-examples/job-submit-api/\") # set the CWD\n",
    "print(JobID(flux.job.submit(f,compute_jobreq)).f58) # submit and print out the jobid (in f58 format)"
   ]
  },
  {
   "cell_type": "markdown",
   "id": "0c4b260f-f08a-46ae-ad66-805911a857a7",
   "metadata": {},
   "source": [
    "### `flux.job.get_job(handle, jobid)` to get job info"
   ]
  },
  {
   "cell_type": "code",
   "execution_count": 26,
   "id": "ed65cb46-8d8a-41f0-bec1-92b9a89e6db2",
   "metadata": {},
   "outputs": [
    {
     "name": "stdout",
     "output_type": "stream",
     "text": [
      "🎉️ Hooray, we just submitted ƒZrqPNeNb!\n",
      "{\n",
      "    \"t_depend\": 1721425098.682836,\n",
      "    \"t_run\": 0.0,\n",
      "    \"t_cleanup\": 0.0,\n",
      "    \"t_inactive\": 0.0,\n",
      "    \"duration\": 0.0,\n",
      "    \"expiration\": 0.0,\n",
      "    \"name\": \"compute.py\",\n",
      "    \"cwd\": \"/home/jovyan/flux-tutorial/flux-workflow-examples/job-submit-api/\",\n",
      "    \"queue\": \"\",\n",
      "    \"project\": \"\",\n",
      "    \"bank\": \"\",\n",
      "    \"ntasks\": 1,\n",
      "    \"ncores\": 1,\n",
      "    \"nnodes\": 1,\n",
      "    \"priority\": 16,\n",
      "    \"ranks\": \"\",\n",
      "    \"nodelist\": \"\",\n",
      "    \"success\": \"\",\n",
      "    \"result\": \"\",\n",
      "    \"waitstatus\": \"\",\n",
      "    \"id\": 72552617607168,\n",
      "    \"t_submit\": 1721425098.6718118,\n",
      "    \"t_remaining\": 0.0,\n",
      "    \"state\": \"SCHED\",\n",
      "    \"username\": \"jovyan\",\n",
      "    \"userid\": 1000,\n",
      "    \"urgency\": 16,\n",
      "    \"runtime\": 0.0,\n",
      "    \"status\": \"SCHED\",\n",
      "    \"returncode\": \"\",\n",
      "    \"dependencies\": [],\n",
      "    \"annotations\": {},\n",
      "    \"exception\": {\n",
      "        \"occurred\": \"\",\n",
      "        \"severity\": \"\",\n",
      "        \"type\": \"\",\n",
      "        \"note\": \"\"\n",
      "    }\n",
      "}\n"
     ]
    }
   ],
   "source": [
    "# This is a new command to get info about your job from the id!\n",
    "fluxjob = flux.job.submit(f,compute_jobreq)\n",
    "fluxjobid = JobID(fluxjob.f58)\n",
    "print(f\"🎉️ Hooray, we just submitted {fluxjobid}!\")\n",
    "\n",
    "# Here is how to get your info. The first argument is the flux handle, then the jobid\n",
    "jobinfo = flux.job.get_job(f, fluxjobid)\n",
    "print(json.dumps(jobinfo, indent=4))"
   ]
  },
  {
   "cell_type": "code",
   "execution_count": 27,
   "id": "5d679897-7054-4f96-b340-7f39245aca89",
   "metadata": {},
   "outputs": [
    {
     "name": "stdout",
     "output_type": "stream",
     "text": [
      "   ƒZrqPNeNb jovyan   compute.py  F      1      1   0.009s 399f5da372b0\n",
      "   ƒZoXw7Pdq jovyan   compute.py  F      1      1   0.011s 399f5da372b0\n"
     ]
    }
   ],
   "source": [
    "!flux jobs -a | grep compute"
   ]
  },
  {
   "cell_type": "markdown",
   "id": "d332f9c9",
   "metadata": {},
   "source": [
    "Under the hood, the `Jobspec` class is creating a YAML document that ultimately gets serialized as JSON and sent to Flux for ingestion, validation, queueing, scheduling, and eventually execution.  We can dump the raw JSON jobspec that is submitted, where we can see the exact resources requested and the task set to be executed on those resources."
   ]
  },
  {
   "cell_type": "code",
   "execution_count": 28,
   "id": "efa06478",
   "metadata": {},
   "outputs": [
    {
     "name": "stdout",
     "output_type": "stream",
     "text": [
      "{\n",
      "  \"resources\": [\n",
      "    {\n",
      "      \"type\": \"node\",\n",
      "      \"count\": 1,\n",
      "      \"with\": [\n",
      "        {\n",
      "          \"type\": \"slot\",\n",
      "          \"count\": 1,\n",
      "          \"with\": [\n",
      "            {\n",
      "              \"type\": \"core\",\n",
      "              \"count\": 1\n",
      "            }\n",
      "          ],\n",
      "          \"label\": \"task\"\n",
      "        }\n",
      "      ]\n",
      "    }\n",
      "  ],\n",
      "  \"tasks\": [\n",
      "    {\n",
      "      \"command\": [\n",
      "        \"./compute.py\",\n",
      "        \"120\"\n",
      "      ],\n",
      "      \"slot\": \"task\",\n",
      "      \"count\": {\n",
      "        \"per_slot\": 1\n",
      "      }\n",
      "    }\n",
      "  ],\n",
      "  \"attributes\": {\n",
      "    \"system\": {\n",
      "      \"duration\": 0,\n",
      "      \"cwd\": \"/home/jovyan/flux-tutorial/flux-workflow-examples/job-submit-api/\"\n",
      "    }\n",
      "  },\n",
      "  \"version\": 1\n",
      "}\n"
     ]
    }
   ],
   "source": [
    "print(compute_jobreq.dumps(indent=2))"
   ]
  },
  {
   "cell_type": "markdown",
   "id": "73bbc90e",
   "metadata": {},
   "source": [
    "### `flux.job.JobspecV1` to create job specifications\n",
    "\n",
    "Flux represents work as a standard called the [Jobspec](https://flux-framework.readthedocs.io/projects/flux-rfc/en/latest/spec_25.html). While you could write YAML or JSON, it's much easier to use provided Python functions that take high level metadata (command, resources, etc) to generate them. We can then replicate our previous example of submitting multiple heterogeneous jobs using these Python helpers, and testing that Flux co-schedules them."
   ]
  },
  {
   "cell_type": "code",
   "execution_count": 40,
   "id": "industrial-privacy",
   "metadata": {},
   "outputs": [
    {
     "name": "stdout",
     "output_type": "stream",
     "text": [
      "ƒKf7Aiz4P\n",
      "ƒKf7rkefh\n"
     ]
    }
   ],
   "source": [
    "# Here we create our job specification from a command\n",
    "compute_jobreq = JobspecV1.from_command(\n",
    "    command=[\"./compute.py\", \"120\"], num_tasks=4, num_nodes=2, cores_per_task=2\n",
    ")\n",
    "\n",
    "# This is the \"current working directory\" (cwd)\n",
    "compute_jobreq.cwd = os.path.expanduser(\"~/flux-workflow-examples/job-submit-api/\")\n",
    "print(JobID(flux.job.submit(f, compute_jobreq)))\n",
    "\n",
    "# Here is a second I/O job\n",
    "io_jobreq = JobspecV1.from_command(\n",
    "    command=[\"./io-forwarding.py\", \"120\"], num_tasks=1, num_nodes=1, cores_per_task=1\n",
    ")\n",
    "io_jobreq.cwd = os.path.expanduser(\"~/flux-workflow-examples/job-submit-api/\")\n",
    "print(JobID(flux.job.submit(f, io_jobreq)))"
   ]
  },
  {
   "cell_type": "code",
   "execution_count": 41,
   "id": "pregnant-creativity",
   "metadata": {},
   "outputs": [
    {
     "name": "stdout",
     "output_type": "stream",
     "text": [
      "   ƒKf7Aiz4P jovyan   compute.py  R      4      2   2.727s 7db0bdd6f[967,967]\n",
      "   ƒKNequHnF jovyan   compute.py  F      4      2   0.012s 7db0bdd6f[967,967]\n",
      "   ƒKLZWG53M jovyan   compute.py  F      1      1   0.037s 7db0bdd6f967\n",
      "   ƒKKdeYAGo jovyan   compute.py  F      1      1   0.012s 7db0bdd6f967\n"
     ]
    }
   ],
   "source": [
    "!flux jobs -a | grep compute"
   ]
  },
  {
   "cell_type": "markdown",
   "id": "a8051640",
   "metadata": {},
   "source": [
    "### `FluxExecutor` for bulk submission\n",
    "\n",
    "We can use the FluxExecutor class to submit large numbers of jobs to Flux. This method uses python's `concurrent.futures` interface. Here is an example snippet from `~/flux-workflow-examples/async-bulk-job-submit/bulksubmit_executor.py`:"
   ]
  },
  {
   "cell_type": "markdown",
   "id": "binary-trace",
   "metadata": {},
   "source": [
    "``` python \n",
    "with FluxExecutor() as executor:\n",
    "        compute_jobspec = JobspecV1.from_command(args.command)\n",
    "        futures = [executor.submit(compute_jobspec) for _ in range(args.njobs)]\n",
    "        # wait for the jobid for each job, as a proxy for the job being submitted\n",
    "        for fut in futures:\n",
    "            fut.jobid()\n",
    "        # all jobs submitted - print timings\n",
    "```"
   ]
  },
  {
   "cell_type": "code",
   "execution_count": 29,
   "id": "cleared-lawsuit",
   "metadata": {},
   "outputs": [
    {
     "name": "stdout",
     "output_type": "stream",
     "text": [
      "bulksubmit_executor: submitted 200 jobs in 0.24s. 831.05job/s\n",
      "bulksubmit_executor: First job finished in about 0.254s\n",
      "|██████████████████████████████████████████████████████████| 100.0% (278.2 job/s)\n",
      "bulksubmit_executor: Ran 200 jobs in 0.9s. 221.8 job/s\n"
     ]
    }
   ],
   "source": [
    "# Submit a FluxExecutor based script.\n",
    "%run ./flux-workflow-examples/async-bulk-job-submit/bulksubmit_executor.py -n200 /bin/sleep 0"
   ]
  },
  {
   "cell_type": "markdown",
   "id": "5ee1c49d",
   "metadata": {},
   "source": [
    "# Deeper Dive into Flux Internals 🧐️\n",
    "\n",
    "## flux queue\n",
    "\n",
    "Flux has a command for controlling the queue within the `job-manager`: `flux queue`.  This includes disabling job submission, re-enabling it, waiting for the queue to become idle or empty, and checking the queue status:"
   ]
  },
  {
   "cell_type": "code",
   "execution_count": 46,
   "id": "800de4eb",
   "metadata": {},
   "outputs": [
    {
     "name": "stdout",
     "output_type": "stream",
     "text": [
      "Job submission is disabled: maintenance outage\n",
      "Job submission is enabled\n",
      "usage: flux-queue [-h] {status,list,enable,disable,start,stop,drain,idle} ...\n",
      "\n",
      "optional arguments:\n",
      "  -h, --help            show this help message and exit\n",
      "\n",
      "subcommands:\n",
      "\n",
      "  {status,list,enable,disable,start,stop,drain,idle}\n"
     ]
    }
   ],
   "source": [
    "!flux queue disable \"maintenance outage\"\n",
    "!flux queue enable\n",
    "!flux queue -h"
   ]
  },
  {
   "cell_type": "markdown",
   "id": "67aa7559",
   "metadata": {},
   "source": [
    "## flux getattr\n",
    "\n",
    "> Get attributes about your system and environment\n",
    "\n",
    "Each Flux instance has a set of attributes that are set at startup that affect the operation of Flux, such as `rank`, `size`, and `local-uri` (the Unix socket usable for communicating with Flux).  Many of these attributes can be modified at runtime, such as `log-stderr-level` (1 logs only critical messages to stderr while 7 logs everything, including debug messages). Here is an example set that you might be interested in looking at:"
   ]
  },
  {
   "cell_type": "code",
   "execution_count": 47,
   "id": "biblical-generic",
   "metadata": {},
   "outputs": [
    {
     "name": "stdout",
     "output_type": "stream",
     "text": [
      "0\n",
      "4\n",
      "local:///tmp/flux-rWMT6G/local-0\n",
      "broker.boot-method                      simple\n",
      "broker.critical-ranks                   0-1\n",
      "broker.mapping                          [[0,1,4,1]]\n",
      "broker.pid                              8\n",
      "broker.quorum                           4\n",
      "broker.quorum-timeout                   1m\n",
      "broker.rc1_path                         /etc/flux/rc1\n",
      "broker.rc3_path                         /etc/flux/rc3\n",
      "broker.starttime                        1712894811.07\n",
      "conf.shell_initrc                       /etc/flux/shell/initrc.lua\n",
      "conf.shell_pluginpath                   /usr/lib/flux/shell/plugins\n",
      "config.path                             -\n",
      "content.backing-module                  content-sqlite\n",
      "content.hash                            sha1\n",
      "hostlist                                993a4f[746854,746854,746854,746854]\n",
      "instance-level                          0\n",
      "jobid                                   -\n",
      "local-uri                               local:///tmp/flux-rWMT6G/local-0\n",
      "log-critical-level                      2\n",
      "log-filename                            -\n",
      "log-forward-level                       7\n",
      "log-level                               7\n",
      "log-ring-size                           1024\n",
      "log-stderr-level                        3\n",
      "log-stderr-mode                         leader\n",
      "parent-kvs-namespace                    -\n",
      "parent-uri                              -\n",
      "rank                                    0\n",
      "rundir                                  /tmp/flux-rWMT6G\n",
      "security.owner                          1000\n",
      "size                                    4\n",
      "statedir                                -\n",
      "tbon.connect_timeout                    30s\n",
      "tbon.descendants                        3\n",
      "tbon.endpoint                           ipc:///tmp/flux-rWMT6G/tbon-0\n",
      "tbon.level                              0\n",
      "tbon.maxlevel                           2\n",
      "tbon.parent-endpoint                    -\n",
      "tbon.prefertcp                          0\n",
      "tbon.tcp_user_timeout                   20s\n",
      "tbon.topo                               kary:2\n",
      "tbon.torpid_max                         30s\n",
      "tbon.torpid_min                         5s\n",
      "tbon.zmqdebug                           0\n",
      "version                                 0.61.1\n"
     ]
    }
   ],
   "source": [
    "!flux getattr rank\n",
    "!flux getattr size\n",
    "!flux getattr local-uri\n",
    "!flux setattr log-stderr-level 3\n",
    "!flux lsattr -v"
   ]
  },
  {
   "cell_type": "markdown",
   "id": "d74fdfcf",
   "metadata": {},
   "source": [
    "## flux module\n",
    "\n",
    "Services within a Flux instance are implemented by modules. To query and manage broker modules, use `flux module`.  Modules that we have already directly interacted with in this tutorial include `resource` (via `flux resource`), `job-ingest` (via `flux` and the Python API) `job-list` (via `flux jobs`) and `job-manager` (via `flux queue`), and we will interact with the `kvs` module in a few cells. For the most part, services are implemented by modules of the same name (e.g., `kvs` implements the `kvs` service and thus the `kvs.lookup` RPC).  In some circumstances, where multiple implementations for a service exist, a module of a different name implements a given service (e.g., in this instance, `sched-fluxion-qmanager` provides the `sched` service and thus `sched.alloc`, but in another instance `sched-simple` might provide the `sched` service)."
   ]
  },
  {
   "cell_type": "code",
   "execution_count": 48,
   "id": "spatial-maintenance",
   "metadata": {},
   "outputs": [
    {
     "name": "stdout",
     "output_type": "stream",
     "text": [
      "Module                   Idle  S Service\n",
      "job-info                    4  R \n",
      "sched-fluxion-resource      4  R \n",
      "heartbeat                   1  R \n",
      "job-manager                 1  R \n",
      "connector-local             0  R \n",
      "content-sqlite              2  R content-backing\n",
      "kvs                         2  R \n",
      "resource                    2  R \n",
      "kvs-watch                   4  R \n",
      "job-exec                    4  R \n",
      "barrier                  idle  R \n",
      "job-list                    4  R \n",
      "content                     2  R \n",
      "sched-fluxion-qmanager      4  R sched\n",
      "cron                     idle  R \n",
      "job-ingest                  4  R \n"
     ]
    }
   ],
   "source": [
    "!flux module list"
   ]
  },
  {
   "cell_type": "markdown",
   "id": "ad7090eb",
   "metadata": {},
   "source": [
    "See the [Flux Management Notebook](02_flux_framework.ipynb) for a small tutorial of unloading and reloading the Fluxion (flux scheduler) modules."
   ]
  },
  {
   "cell_type": "markdown",
   "id": "722c4ecf",
   "metadata": {},
   "source": [
    "## flux dmesg\n",
    "\n",
    "If you need some additional help debugging your Flux setup, you might be interested in `flux dmesg`, which is akin to the [Linux dmesg](https://man7.org/linux/man-pages/man1/dmesg.1.html) but delivers messages for Flux."
   ]
  },
  {
   "cell_type": "code",
   "execution_count": 7,
   "id": "c34899ba",
   "metadata": {},
   "outputs": [],
   "source": [
    "!flux dmesg"
   ]
  },
  {
   "cell_type": "markdown",
   "id": "c3920f9e",
   "metadata": {},
   "source": [
    "## flux exec\n",
    "\n",
    "Flux provides a built-in mechanism for executing commands on nodes without requiring a job or resource allocation: `flux exec`.  `flux exec` is typically used by sys admins to execute administrative commands and load/unload modules across multiple ranks simultaneously."
   ]
  },
  {
   "cell_type": "code",
   "execution_count": 52,
   "id": "e9507c7b-de5c-4129-9a99-c943614a9ba2",
   "metadata": {},
   "outputs": [
    {
     "name": "stdout",
     "output_type": "stream",
     "text": [
      "2\n"
     ]
    }
   ],
   "source": [
    "!flux exec -r 2 flux getattr rank # only execute on rank 2"
   ]
  },
  {
   "cell_type": "code",
   "execution_count": 53,
   "id": "6a9de119-abc4-4917-a339-2010ccc7b9b7",
   "metadata": {},
   "outputs": [
    {
     "name": "stdout",
     "output_type": "stream",
     "text": [
      "0\n",
      "1\n",
      "3\n",
      "2\n"
     ]
    }
   ],
   "source": [
    "!flux exec flux getattr rank # execute on all ranks"
   ]
  },
  {
   "cell_type": "markdown",
   "id": "c9c3e767-0459-4218-a8cf-0f98bd32d6bf",
   "metadata": {},
   "source": [
    "# This concludes Chapter 1! 📗️\n",
    "\n",
    "In this module, we covered:\n",
    "1. Submitting jobs with Flux\n",
    "2. The Flux Hierarchy\n",
    "3. Flux Process and Job Utilities\n",
    "4. Deeper Dive into Flux Internals\n",
    "\n",
    "To continue with the tutorial, open [Chapter 2](./02_flux_framework.ipynb)"
   ]
  }
 ],
 "metadata": {
  "kernelspec": {
   "display_name": "Python 3 (ipykernel)",
   "language": "python",
   "name": "python3"
  },
  "language_info": {
   "codemirror_mode": {
    "name": "ipython",
    "version": 3
   },
   "file_extension": ".py",
   "mimetype": "text/x-python",
   "name": "python",
   "nbconvert_exporter": "python",
   "pygments_lexer": "ipython3",
   "version": "3.10.12"
  }
 },
 "nbformat": 4,
 "nbformat_minor": 5
}
