{
 "cells": [
  {
   "cell_type": "code",
   "execution_count": 214,
   "id": "third-comment",
   "metadata": {},
   "outputs": [],
   "source": [
    "# Full code and examples can be found here: https://github.com/flux-framework/flux-workflow-examples.git\n",
    "\n",
    "import json\n",
    "import os\n",
    "import re\n",
    "import sys\n",
    "import flux\n",
    "from flux.job import JobspecV1"
   ]
  },
  {
   "cell_type": "code",
   "execution_count": null,
   "id": "sealed-discovery",
   "metadata": {},
   "outputs": [
    {
     "name": "stdout",
     "output_type": "stream",
     "text": [
      "\u001b]0;ecpuser@ip-172-31-59-124: ~\u0007\u001b[01;32mecpuser@ip-172-31-59-124\u001b[00m:\u001b[01;34m~\u001b[00m$ "
     ]
    }
   ],
   "source": [
    "# To start a Flux session with 4 brokers on the local node\n",
    "# Please stop this cell manually after you see output similar to\n",
    "# \"]0;ecpuser@ip-172-31-59-124: ~ecpuser@ip-172-31-59-124:~$\" \n",
    "# in order to proceed to the next cell.\n",
    "\n",
    "!flux start --size=4"
   ]
  },
  {
   "cell_type": "code",
   "execution_count": 189,
   "id": "scenic-chassis",
   "metadata": {},
   "outputs": [
    {
     "name": "stdout",
     "output_type": "stream",
     "text": [
      "4 Machines, 4 Cores, 8 PUs\r\n"
     ]
    }
   ],
   "source": [
    "# To view the total resources available to the current instance\n",
    "!flux hwloc info"
   ]
  },
  {
   "cell_type": "code",
   "execution_count": 190,
   "id": "prime-equilibrium",
   "metadata": {},
   "outputs": [
    {
     "name": "stdout",
     "output_type": "stream",
     "text": [
      "    STATUS NNODES RANKS           NODELIST\n",
      "     avail      4 0-3             ip-172-31-59-[124,124,124,124]\n",
      "     STATE NNODES   NCORES    NGPUS NODELIST\n",
      "      free      4        4        0 ip-172-31-59-[124,124,124,124]\n",
      " allocated      0        0        0 \n",
      "      down      0        0        0 \n",
      "flux-queue: Job submission is enabled\n",
      "flux-queue: Scheduling is enabled\n",
      "flux-queue: 0 alloc requests queued\n",
      "flux-queue: 0 alloc requests pending to scheduler\n",
      "flux-queue: 0 free requests pending to scheduler\n",
      "flux-queue: 0 running jobs\n"
     ]
    }
   ],
   "source": [
    "# To view status of resources\n",
    "!flux resource status\n",
    "# To view scheduler's perspective on resources (allocated, free, etc\n",
    "!flux resource list\n",
    "# To view the queue\n",
    "!flux queue status -v"
   ]
  },
  {
   "cell_type": "code",
   "execution_count": 191,
   "id": "biblical-generic",
   "metadata": {},
   "outputs": [
    {
     "name": "stdout",
     "output_type": "stream",
     "text": [
      "0\n",
      "4\n",
      "local:///tmp/flux-262769-fhXK0A/0/local\n",
      "broker.pid                              262770\n",
      "broker.quorum                           0-3\n",
      "broker.rc1_path                         /usr/local/etc/flux/rc1\n",
      "broker.rc3_path                         /usr/local/etc/flux/rc3\n",
      "broker.rundir                           /tmp/flux-262769-fhXK0A/0\n",
      "conf.connector_path                     /usr/local/lib/flux/connectors\n",
      "conf.exec_path                          /usr/local/libexec/flux/cmd\n",
      "conf.module_path                        /usr/local/lib/flux/modules\n",
      "conf.pmi_library_path                   /usr/local/lib/flux/libpmi.so\n",
      "conf.shell_initrc                       /usr/local/etc/flux/shell/initrc.lua\n",
      "conf.shell_pluginpath                   /usr/local/lib/flux/shell/plugins\n",
      "config.path                             -\n",
      "content.acct-dirty                      0\n",
      "content.acct-entries                    49209\n",
      "content.acct-size                       16771952\n",
      "content.acct-valid                      49209\n",
      "content.backing-module                  content-sqlite\n",
      "content.backing-path                    /tmp/flux-262769-fhXK0A/content.sqlite\n",
      "content.blob-size-limit                 1073741824\n",
      "content.flush-batch-count               0\n",
      "content.flush-batch-limit               256\n",
      "content.hash                            sha1\n",
      "content.purge-large-entry               256\n",
      "content.purge-old-entry                 10\n",
      "content.purge-target-entries            1048576\n",
      "content.purge-target-size               16777216\n",
      "instance-level                          0\n",
      "jobid                                   -\n",
      "local-uri                               local:///tmp/flux-262769-fhXK0A/0/local\n",
      "log-count                               3411\n",
      "log-critical-level                      2\n",
      "log-filename                            -\n",
      "log-forward-level                       7\n",
      "log-level                               7\n",
      "log-ring-size                           1024\n",
      "log-ring-used                           1024\n",
      "log-stderr-level                        3\n",
      "log-stderr-mode                         leader\n",
      "parent-kvs-namespace                    -\n",
      "parent-uri                              -\n",
      "rank                                    0\n",
      "rundir                                  /tmp/flux-262769-fhXK0A\n",
      "security.owner                          1002\n",
      "size                                    4\n",
      "tbon.arity                              2\n",
      "tbon.descendants                        3\n",
      "tbon.endpoint                           ipc:///tmp/flux-262769-fhXK0A/0/req\n",
      "tbon.level                              0\n",
      "tbon.maxlevel                           2\n",
      "tbon.parent-endpoint                    -\n",
      "version                                 0.24.0\n"
     ]
    }
   ],
   "source": [
    "# The size, current rank, comms URIs, logging levels, \n",
    "# as well as other instance parameters are termed “attributes” \n",
    "# and can be viewed and manipulated with the lsattr, getattr, and setattr commands, for example.\n",
    "!flux getattr rank\n",
    "!flux getattr size\n",
    "!flux getattr local-uri\n",
    "!flux lsattr -v"
   ]
  },
  {
   "cell_type": "code",
   "execution_count": 192,
   "id": "spatial-maintenance",
   "metadata": {},
   "outputs": [
    {
     "name": "stdout",
     "output_type": "stream",
     "text": [
      "Module                       Size Digest  Idle  S Service\r\n",
      "kvs                       1848984 E1DBB40 idle  R \r\n",
      "job-manager               1742384 787395B   11  R \r\n",
      "cron                      1417024 7DC39EF idle  R \r\n",
      "job-exec                  1523984 8C4FF58 idle  R \r\n",
      "sched-fluxion-qmanager    6368144 359C846   12  R sched\r\n",
      "kvs-watch                 1542048 0FBE270 idle  R \r\n",
      "job-list                  1720976 0E49D20 idle  R \r\n",
      "connector-local           1311960 43C0C1F    0  R \r\n",
      "sched-fluxion-resource   31140360 FE3A64C   12  R \r\n",
      "job-info                  1649272 54F3340 idle  R \r\n",
      "job-ingest                1462032 01130CA idle  R \r\n",
      "barrier                   1321776 157B0EA idle  R \r\n",
      "content-sqlite            1340296 02AB110 idle  R content-backing,kvs-checkpoint\r\n",
      "resource                  1714600 19E52CC   13  R \r\n",
      "heartbeat                 1301248 8F9B7A3    0  R \r\n"
     ]
    }
   ],
   "source": [
    "# Services within a Flux session are implemented by modules. \n",
    "# To query and manage broker modules, use flux module\n",
    "!flux module list"
   ]
  },
  {
   "cell_type": "code",
   "execution_count": 193,
   "id": "nervous-broadcast",
   "metadata": {},
   "outputs": [
    {
     "name": "stdout",
     "output_type": "stream",
     "text": [
      "job         resource\n",
      "R           eventlog\n",
      "{\"version\": 1, \"execution\": {\"R_lite\": [{\"rank\": \"0-3\", \"children\": {\"core\": \"0\"}}], \"starttime\": 0.0, \"expiration\": 0.0, \"nodelist\": [\"ip-172-31-59-[124,124,124,124]\"]}}\n"
     ]
    }
   ],
   "source": [
    "# The key-value store (kvs) is a core component of a Flux instance. \n",
    "# The flux kvs command provides a utility to list and manipulate values of the KVS. \n",
    "\n",
    "!flux kvs ls \n",
    "!flux kvs ls resource\n",
    "!flux kvs get resource.R"
   ]
  },
  {
   "cell_type": "code",
   "execution_count": 194,
   "id": "suitable-claim",
   "metadata": {},
   "outputs": [
    {
     "name": "stdout",
     "output_type": "stream",
     "text": [
      "0\n",
      "1\n",
      "2\n",
      "3\n",
      "2: ip-172-31-59-124\n",
      "3: ip-172-31-59-124\n",
      "1: ip-172-31-59-124\n",
      "0: ip-172-31-59-124\n"
     ]
    }
   ],
   "source": [
    "#Flux exec or mini can be used to launch jobs. Exec is primarily used for test purposes. \n",
    "!flux exec flux getattr rank\n",
    "#Flux mini provides severa l options, such as run, submit, bulksubmit and batch\n",
    "# !flux help mini\n",
    "!flux mini run -n4 --label-io hostname"
   ]
  },
  {
   "cell_type": "code",
   "execution_count": 195,
   "id": "brazilian-former",
   "metadata": {},
   "outputs": [
    {
     "name": "stdout",
     "output_type": "stream",
     "text": [
      "ƒ29v4KWfkb\n",
      "ƒ29vNeVnoq\n"
     ]
    }
   ],
   "source": [
    "#Partitioned as well as overalapping submission is supported with Flux. \n",
    "# For instance, in a 4 node allocation, multiple jobs can be submitted as follows in a non-overlapping way. \n",
    "!flux mini submit --nodes=2 --ntasks=2 --cores-per-task=1 ./flux-workflow-examples/job-submit-cli/compute.lua 30\n",
    "!flux mini submit --nodes=1 --ntasks=1 --cores-per-task=1 ./flux-workflow-examples/job-submit-cli/io-forwarding.lua 30"
   ]
  },
  {
   "cell_type": "code",
   "execution_count": 196,
   "id": "institutional-vocabulary",
   "metadata": {},
   "outputs": [
    {
     "name": "stdout",
     "output_type": "stream",
     "text": [
      "       JOBID USER     NAME       ST NTASKS NNODES  RUNTIME NODELIST\n",
      "  ƒ29vNeVnoq ecpuser  io-forward  R      1      1   5.543s ip-172-31-59-124\n",
      "  ƒ29v4KWfkb ecpuser  compute.lu  R      2      2   6.256s ip-172-31-59-[124,124]\n",
      "     STATE NNODES   NCORES    NGPUS NODELIST\n",
      "      free      1        1        0 ip-172-31-59-124\n",
      " allocated      3        3        0 ip-172-31-59-[124,124,124]\n",
      "      down      0        0        0 \n"
     ]
    }
   ],
   "source": [
    "!flux jobs\n",
    "!flux resource list"
   ]
  },
  {
   "cell_type": "code",
   "execution_count": 197,
   "id": "aggressive-democracy",
   "metadata": {},
   "outputs": [
    {
     "name": "stdout",
     "output_type": "stream",
     "text": [
      "       JOBID USER     NAME       ST NTASKS NNODES  RUNTIME NODELIST\n",
      "/bin/bash: job_id: No such file or directory\n"
     ]
    }
   ],
   "source": [
    "!flux jobs\n",
    "\n",
    "# Copy the Job ID here to examine the job's resources.\n",
    "!flux job info <job_id> R"
   ]
  },
  {
   "cell_type": "code",
   "execution_count": 198,
   "id": "domestic-occasions",
   "metadata": {},
   "outputs": [],
   "source": [
    "#For interactive submissions, we can use the flux mini batch. \n",
    "# Internally, Flux will create a nested Flux instance allocated to the requested resources \n",
    "# per batch job and run the batch script inside that nested instance. \n",
    "# While a batch script is expected to launch parallel jobs using flux mini run \n",
    "# or flux mini submit at this level, nothing prevents the script from further batching \n",
    "# other sub-batch-jobs using the flux mini batch interface, if desired."
   ]
  },
  {
   "cell_type": "markdown",
   "id": "pregnant-witch",
   "metadata": {},
   "source": [
    "``` bash \n",
    "    !/bin/bash\n",
    "  \n",
    "    echo \"Starting my batch job\"\n",
    "    echo \"Print the resources allocated to this batch job\"\n",
    "    flux hwloc info\n",
    "\n",
    "    echo \"Use sleep to emulate a parallel program\"\n",
    "    echo \"Run the program at a total of 2 processes each requiring\"\n",
    "    echo \"1 core. These processes are equally spread across 2 nodes.\"\n",
    "    flux mini run -N 2 -n 2 sleep 30\n",
    "    flux mini run -N 2 -n 2 sleep 30\n",
    "```"
   ]
  },
  {
   "cell_type": "code",
   "execution_count": 202,
   "id": "blank-carpet",
   "metadata": {},
   "outputs": [
    {
     "name": "stdout",
     "output_type": "stream",
     "text": [
      "ƒ2CEdvKPGb\n",
      "ƒ2CEzEwYJj\n"
     ]
    }
   ],
   "source": [
    "!flux mini batch --nslots=2 --cores-per-slot=1 --nodes=2 ./sleep_batch.sh\n",
    "!flux mini batch --nslots=2 --cores-per-slot=1 --nodes=2 ./sleep_batch.sh"
   ]
  },
  {
   "cell_type": "code",
   "execution_count": 205,
   "id": "empty-cemetery",
   "metadata": {},
   "outputs": [
    {
     "name": "stdout",
     "output_type": "stream",
     "text": [
      "       JOBID USER     NAME       ST NTASKS NNODES  RUNTIME NODELIST\n",
      "  ƒ2CEdvKPGb ecpuser  sleep_batc PD      2      -        - -\n",
      "  ƒ2CEzEwYJj ecpuser  sleep_batc PD      2      -        - -\n",
      "  ƒ2BFzPtzsq ecpuser  sleep_batc  R      2      2   2.448m ip-172-31-59-[124,124]\n",
      "  ƒ2BFbmqxUf ecpuser  sleep_batc  R      2      2   2.463m ip-172-31-59-[124,124]\n",
      "/bin/bash: job_id: No such file or directory\n"
     ]
    }
   ],
   "source": [
    "!flux jobs\n",
    "\n",
    "# Copy the Job ID here to examine the job's resources.\n",
    "!flux job info <job_id> R"
   ]
  },
  {
   "cell_type": "code",
   "execution_count": 206,
   "id": "selective-uganda",
   "metadata": {},
   "outputs": [
    {
     "name": "stdout",
     "output_type": "stream",
     "text": [
      "16327499688443904\n"
     ]
    }
   ],
   "source": [
    "# Job Submit API can be used to submit jobs through python. \n",
    "# The following script shows this with the \"flux.job.submit ()\" call\n",
    "\n",
    "f = flux.Flux(url=\"local:///tmp/flux-demo/0/local\")\n",
    "compute_jreq = JobspecV1.from_command(command=[\"./flux-workflow-examples/job-submit-api/compute.py\", \"120\"], num_tasks=1, num_nodes=1, cores_per_task=1)\n",
    "compute_jreq.cwd = os.getcwd()\n",
    "compute_jreq.environment = dict(os.environ)\n",
    "print(flux.job.submit(f,compute_jreq))"
   ]
  },
  {
   "cell_type": "code",
   "execution_count": 207,
   "id": "logical-anderson",
   "metadata": {},
   "outputs": [
    {
     "name": "stdout",
     "output_type": "stream",
     "text": [
      "       JOBID USER     NAME       ST NTASKS NNODES  RUNTIME NODELIST\r\n",
      "  ƒ2CEdvKPGb ecpuser  sleep_batc PD      2      -        - -\r\n",
      "  ƒ2CEzEwYJj ecpuser  sleep_batc PD      2      -        - -\r\n",
      "  ƒ2BFzPtzsq ecpuser  sleep_batc  R      2      2   2.605m ip-172-31-59-[124,124]\r\n",
      "  ƒ2BFbmqxUf ecpuser  sleep_batc  R      2      2    2.62m ip-172-31-59-[124,124]\r\n"
     ]
    }
   ],
   "source": [
    "!flux jobs"
   ]
  },
  {
   "cell_type": "code",
   "execution_count": 208,
   "id": "industrial-privacy",
   "metadata": {},
   "outputs": [
    {
     "name": "stdout",
     "output_type": "stream",
     "text": [
      "16327963595243520\n",
      "16327963863678976\n"
     ]
    }
   ],
   "source": [
    "f = flux.Flux(url=\"local:///tmp/flux-demo/0/local\")\n",
    "\n",
    "compute_jobreq = JobspecV1.from_command(\n",
    "    command=[\"./flux-workflow-examples/job-submit-api/compute.py\", \"120\"], num_tasks=4, num_nodes=2, cores_per_task=2\n",
    ")\n",
    "compute_jobreq.cwd = os.getcwd()\n",
    "compute_jobreq.environment = dict(os.environ)\n",
    "print(flux.job.submit(f, compute_jobreq))\n",
    "\n",
    "io_jobreq = JobspecV1.from_command(\n",
    "    command=[\"./flux-workflow-examples/job-submit-api/io-forwarding.py\", \"120\"], num_tasks=1, num_nodes=1, cores_per_task=1\n",
    ")\n",
    "io_jobreq.cwd = os.getcwd()\n",
    "io_jobreq.environment = dict(os.environ)\n",
    "print(flux.job.submit(f, io_jobreq))"
   ]
  },
  {
   "cell_type": "code",
   "execution_count": null,
   "id": "pregnant-creativity",
   "metadata": {},
   "outputs": [],
   "source": [
    "!flux jobs"
   ]
  },
  {
   "cell_type": "code",
   "execution_count": null,
   "id": "frozen-heating",
   "metadata": {},
   "outputs": [],
   "source": [
    "# We can use the FluxExecutor class to submit large numbers of jobs to Flux. \n",
    "# This can be done with usage of futures with python, similar to the snippet below."
   ]
  },
  {
   "cell_type": "markdown",
   "id": "binary-trace",
   "metadata": {},
   "source": [
    "``` python \n",
    "with FluxExecutor() as executor:\n",
    "        compute_jobspec = JobspecV1.from_command(args.command)\n",
    "        futures = [executor.submit(compute_jobspec) for _ in range(args.njobs)]\n",
    "        # wait for the jobid for each job, as a proxy for the job being submitted\n",
    "        for fut in futures:\n",
    "            fut.jobid()\n",
    "        # all jobs submitted - print timings\n",
    "```"
   ]
  },
  {
   "cell_type": "code",
   "execution_count": null,
   "id": "cleared-lawsuit",
   "metadata": {},
   "outputs": [
    {
     "name": "stdout",
     "output_type": "stream",
     "text": [
      "bulksubmit_executor: submitted 200 jobs in 0.72s. 279.43job/s\n"
     ]
    }
   ],
   "source": [
    "# Submit a FluxExecutor based script.\n",
    "%run ./flux-workflow-examples/async-bulk-job-submit/bulksubmit_executor.py -n200 /bin/sleep 0"
   ]
  },
  {
   "cell_type": "code",
   "execution_count": null,
   "id": "thrown-point",
   "metadata": {},
   "outputs": [],
   "source": []
  }
 ],
 "metadata": {
  "kernelspec": {
   "display_name": "Python 3",
   "language": "python",
   "name": "python3"
  },
  "language_info": {
   "codemirror_mode": {
    "name": "ipython",
    "version": 3
   },
   "file_extension": ".py",
   "mimetype": "text/x-python",
   "name": "python",
   "nbconvert_exporter": "python",
   "pygments_lexer": "ipython3",
   "version": "3.8.5"
  }
 },
 "nbformat": 4,
 "nbformat_minor": 5
}
