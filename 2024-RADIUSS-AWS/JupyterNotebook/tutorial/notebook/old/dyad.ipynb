{
 "cells": [
  {
   "cell_type": "markdown",
   "id": "dd3e912b-3428-4bc7-88bd-97686406b75a",
   "metadata": {
    "tags": []
   },
   "source": [
    "# DYAD\n",
    "\n",
    "DYAD is a synchronization and data movement tool for computational science workflows built on top of Flux. DYAD aims to provide the benefits of in situ and in transit tools (e.g., fine-grained synchronization between producer and consumer applications, fast data access due to spatial locality) while relying on a file-based data abstraction to maximize portability and minimize code change requirements for workflows. More specifically, DYAD aims to overcome the following challenges associated with traditional shared-storage and modern in situ and in transit data movement approaches:\n",
    "\n",
    "* Lack of per-file object synchronization in shared-storage approaches\n",
    "* Poor temporal and spatial locality in shared-storage approaches\n",
    "* Poor performance for file metadata operations in shared-storage approaches (and possibly some in situ and in transit approaches)\n",
    "* Poor portability and the introduction of required code changes for in situ and in transit approaches\n",
    "\n",
    "In resolving these challenges, DYAD aims to provide the following to users:\n",
    "\n",
    "* Good performance (similar to in situ and in transit) due to on- or near-node temporary storage of data\n",
    "* Transparent per-file object synchronization between producer and consumer applications\n",
    "* Little to no code change to existing workflows to achieve the previous benefits\n",
    "\n",
    "To demonstrate DYAD's capabilities, we will use the simple demo applications found in the `dyad_demo` directory. This directory contains C and C++ implementations of a single producer application and a single consumer application. The producer application generates several files, each consisting of 10, 32-bit integers, and registers them with DYAD. The consumer application uses DYAD to wait until the desired file is produced. Then, if needed, it will use DYAD to retrieve the generated files from the Flux broker on which the producer application is running. Finally, the consumer application will read and validate the contents of each file.\n",
    "\n",
    "To start, specify which versions of the producer and consumer applications you would like to use by setting the `producer_program` and `consumer_program` variables. There are two versions for the producer (i.e., `c_prod` and `cpp_prod`) and two versions for the consumer (i.e., `c_cons` and `cpp_cons`)."
   ]
  },
  {
   "cell_type": "code",
   "execution_count": null,
   "id": "0fa41e2c-80b1-498e-8ff9-7df6250c7a5d",
   "metadata": {},
   "outputs": [],
   "source": [
    "producer_program = \"/opt/dyad_demo/c_prod\" # Change to \"/opt/dyad_demo/cpp_prod\" for C++\n",
    "consumer_program = \"/opt/dyad_demo/c_cons\" # Change to \"/opt/dyad_demo/cpp_cons\" for C++"
   ]
  },
  {
   "cell_type": "markdown",
   "id": "03cacf9d-f98a-45bb-9422-5648428c690f",
   "metadata": {},
   "source": [
    "Next, specify the number of files you wish to generate and transfer by setting the `num_files_transfered` variable."
   ]
  },
  {
   "cell_type": "code",
   "execution_count": null,
   "id": "f9b72d51-f294-4e82-ab74-e77f922dc0af",
   "metadata": {},
   "outputs": [],
   "source": [
    "num_files_transfered = 10"
   ]
  },
  {
   "cell_type": "markdown",
   "id": "4dad884f-449e-4b00-bbc9-955fa9f31066",
   "metadata": {},
   "source": [
    "The next step is to set the directories for DYAD to track. Each DYAD-enabled application tracks two directories: a **producer-managed directory** and a **consumer-managed directory**. At least one of these directories must be specified to use DYAD.\n",
    "\n",
    "When a producer-managed directory is provided, DYAD will store information about any file stored in that directory (or its subdirectories) into a namespace within the Flux key-value store (KVS). This information is later used by DYAD to transfer files from producer to consumer.\n",
    "\n",
    "When a consumer-managed directory is provided, DYAD will block the application whenever a file inside that directory (or subdirectory) is opened. This blocking will last until DYAD sees information about the file in the Flux KVS namespace. If the information retrieved from the KVS indicates that the file is actually located elsewhere, DYAD will use Flux's remote procedure call (RPC) system to ask the Flux broker at the file's location to transfer the file. If a transfer occurs, the file's contents will be stored at the file path passed to the original file opening function (e.g., `open`, `fopen`).\n",
    "\n",
    "In this demo, we will use 3 different directories: one unique to the consumer (`consumer_managed_directory`), one unique to the producer (`producer_managed_directory`), and one shared between producer and consumer (`shared_managed_directory`). Set the 3 variables in the cell below to specify these directories."
   ]
  },
  {
   "cell_type": "code",
   "execution_count": null,
   "id": "60b0d5e0-fcf7-4fc9-a203-cdea84cd4950",
   "metadata": {
    "tags": []
   },
   "outputs": [],
   "source": [
    "consumer_managed_directory = \"/tmp/cons\"\n",
    "producer_managed_directory = \"/tmp/prod\"\n",
    "shared_managed_directory = \"/tmp/shared\""
   ]
  },
  {
   "cell_type": "markdown",
   "id": "5bfa6706-0af5-4da8-bbc1-3edb9bccf953",
   "metadata": {},
   "source": [
    "Finally, empty these directories or create new ones if they do not already exist."
   ]
  },
  {
   "cell_type": "code",
   "execution_count": null,
   "id": "d0dac6c9-43dd-4b4f-89e3-bfb180122f71",
   "metadata": {},
   "outputs": [],
   "source": [
    "!rm -rf {consumer_managed_directory}\n",
    "!mkdir -p {consumer_managed_directory}\n",
    "!chmod 755 {consumer_managed_directory}\n",
    "!rm -rf {producer_managed_directory}\n",
    "!mkdir -p {producer_managed_directory}\n",
    "!chmod 755 {producer_managed_directory}\n",
    "!rm -rf {shared_managed_directory}\n",
    "!mkdir -p {shared_managed_directory}\n",
    "!chmod 755 {shared_managed_directory}"
   ]
  },
  {
   "cell_type": "markdown",
   "id": "39b1aeec-d2b1-4f7e-80b1-519e4da2bff0",
   "metadata": {},
   "source": [
    "## Example 1\n",
    "\n",
    "In this first example, we will be using DYAD to transfer data between a producer and consumer in different locations (e.g., on different nodes of a supercomputer). However, since this demo assumes we are running on a single AWS node, we will simulate the difference in locations by specifying different directories for the producer's managed directory and the consumer's managed directory. Normally, these directories would be the same and would both point to local, on-node storage.\n",
    "\n",
    "In this example, data will be transfered from the proudcer's managed directory to the consumer's managed directory. Additionally, each file opening call (e.g,. `open`, `fopen`) in the consumer application will be blocked until the relevant file is available in the producer's managed directory. The figure below illustrates this transfer and synchronization process."
   ]
  },
  {
   "cell_type": "markdown",
   "id": "aa5a6347-e407-47fd-9984-1a8f76b25b38",
   "metadata": {},
   "source": [
    "<div>\n",
    "<center><img src=\"dyad/dyad_example1.svg\" width=\"400\"/>\n",
    "</div>"
   ]
  },
  {
   "cell_type": "markdown",
   "id": "427c8a90-3d00-403d-825c-7e24d2117512",
   "metadata": {},
   "source": [
    "Before running the DYAD-enabled applications, there are two things we must do:\n",
    "1. Setup a namespace in the Flux KVS to be used by DYAD\n",
    "2. Load DYAD's Flux module\n",
    "\n",
    "To begin, set the `kvs_namespace` variable to the namespace you wish to use for DYAD. This namespace can be any string value you want."
   ]
  },
  {
   "cell_type": "code",
   "execution_count": null,
   "id": "e2190770-fe49-4343-b2c8-eb625eb980d2",
   "metadata": {},
   "outputs": [],
   "source": [
    "kvs_namespace = \"dyad_test\""
   ]
  },
  {
   "cell_type": "markdown",
   "id": "e116b785-5bdb-441b-9171-47e0b27a6e7d",
   "metadata": {},
   "source": [
    "Next, create the namespace by running `flux kvs namespace create`. The cell below also runs `flux kvs namespace list` to allow you to verify that the namespace was created successfully."
   ]
  },
  {
   "cell_type": "code",
   "execution_count": null,
   "id": "a41c3f13-7b04-4ec5-9c5d-c5033d4977ca",
   "metadata": {},
   "outputs": [],
   "source": [
    "!flux kvs namespace create {kvs_namespace}\n",
    "!flux kvs namespace list"
   ]
  },
  {
   "cell_type": "markdown",
   "id": "0840b124-f805-432e-9764-1b167df39f64",
   "metadata": {},
   "source": [
    "The next step is to load DYAD's Flux module. This module is the component of DYAD that actually sends files from producer to consumer.\n",
    "\n",
    "To start this step, set `dyad_module` below to the path to the DYAD module (i.e., `dyad.so`). For this demo, DYAD has already been installed under the `/usr` prefix, so the path to the DYAD module should be `/usr/lib/dyad.so`."
   ]
  },
  {
   "cell_type": "code",
   "execution_count": null,
   "id": "cdb1dfc4-1f8a-434d-8be8-626382d124c6",
   "metadata": {},
   "outputs": [],
   "source": [
    "dyad_module = \"/usr/lib/dyad.so\""
   ]
  },
  {
   "cell_type": "markdown",
   "id": "6c2260bc",
   "metadata": {},
   "source": [
    "Next, choose the communication backend for DYAD to use. This backend is used by DYAD's data transport layer (DTL) component to move data from producer to consumer. Currently, valid values are:\n",
    "* `UCX`: use Unified Communication X for data movement\n",
    "* `FLUX_RPC`: use Flux Remote Procedure Call (RPC) feature for data movement"
   ]
  },
  {
   "cell_type": "code",
   "execution_count": null,
   "id": "46b38519",
   "metadata": {},
   "outputs": [],
   "source": [
    "dtl_mode = \"UCX\""
   ]
  },
  {
   "cell_type": "markdown",
   "id": "aab31cd8-5034-4450-bb1b-7b299fc5be86",
   "metadata": {},
   "source": [
    "Finally, load the DYAD module by running `flux module load` on each broker. We load the module onto each broker because, normally, we would not know exactly which brokers the producer and consumer would be running on.\n",
    "\n",
    "When being loaded, the DYAD module takes a single command-line argument: the producer-managed directory. The module uses this directory to determine the path to any files it needs to transfer to consumers."
   ]
  },
  {
   "cell_type": "code",
   "execution_count": null,
   "id": "edc65fdb-f746-46f6-81df-17602fd94acc",
   "metadata": {},
   "outputs": [],
   "source": [
    "!flux exec -r all flux module load {dyad_module} {producer_managed_directory} {dtl_mode}"
   ]
  },
  {
   "cell_type": "markdown",
   "id": "a71e4d07-f17e-4416-8f8d-0e36137b461a",
   "metadata": {},
   "source": [
    "After loading the module, we can double check it has been loaded by running the cell below."
   ]
  },
  {
   "cell_type": "code",
   "execution_count": null,
   "id": "7061d3af-5d12-4edb-aa9e-6a678798ef14",
   "metadata": {},
   "outputs": [],
   "source": [
    "!flux exec -r all flux module list | grep dyad"
   ]
  },
  {
   "cell_type": "markdown",
   "id": "efcaef56-02e4-43fd-af28-2b6689db19e6",
   "metadata": {},
   "source": [
    "Now, we will generate the shell commands that we will use to run the producer and consumer applications. These commands can be broken down into three pieces.\n",
    "\n",
    "First, the commands will set the `LD_PRELOAD` environment variable if running the C version of the producer or consumer. We set `LD_PRELOAD` because DYAD's C API uses the preload trick to intercept the `open`, `close`, `fopen`, and `fclose` functions.\n",
    "\n",
    "Second, the commands set a couple of environment variables to configure DYAD. The environment variables used in this example are:\n",
    "* `DYAD_KVS_NAMESPACE`: specifies the Flux KVS namespace to use with DYAD\n",
    "* `DYAD_DTL_MODE`: sets the communication backend to use for data movement\n",
    "* `DYAD_PATH_PRODUCER`: sets the producer-managed path\n",
    "* `DYAD_PATH_CONSUMER`: sets the consumer-managed path\n",
    "\n",
    "Finally, the rest of the commands are the invocation of the applications themselves.\n",
    "\n",
    "Run the following 2 cells to generate and see the commands for the producer and consumer."
   ]
  },
  {
   "cell_type": "code",
   "execution_count": null,
   "id": "c6def81f-f17a-4601-9572-b00d2959287f",
   "metadata": {},
   "outputs": [],
   "source": [
    "producer_launch_cmd = \"{preload} DYAD_KVS_NAMESPACE={kvs_namespace} DYAD_DTL_MODE={dtl_mode} \\\n",
    "DYAD_PATH_PRODUCER={producer_managed_directory} flux exec -r 0 \\\n",
    "{producer_program} {num_files_transfered} {producer_managed_directory}\".format(\n",
    "    preload=\"LD_PRELOAD=\\\"/usr/lib/dyad_wrapper.so\\\"\" if producer_program.split(\"/\")[-1].strip().startswith(\"c_\") else \"\",\n",
    "    kvs_namespace=kvs_namespace,\n",
    "    dtl_mode=dtl_mode,\n",
    "    producer_managed_directory=producer_managed_directory,\n",
    "    producer_program=producer_program,\n",
    "    num_files_transfered=num_files_transfered,\n",
    ")\n",
    "print(producer_launch_cmd)"
   ]
  },
  {
   "cell_type": "code",
   "execution_count": null,
   "id": "42d3007b-d6b4-40b9-a4a1-153aef536c90",
   "metadata": {},
   "outputs": [],
   "source": [
    "consumer_launch_cmd = \"{preload} DYAD_KVS_NAMESPACE={kvs_namespace} DYAD_DTL_MODE={dtl_mode} \\\n",
    "DYAD_PATH_CONSUMER={consumer_managed_directory} flux exec -r 1 \\\n",
    "{consumer_program} {num_files_transfered} {consumer_managed_directory}\".format(\n",
    "    preload=\"LD_PRELOAD=\\\"/usr/lib/dyad_wrapper.so\\\"\" if producer_program.split(\"/\")[-1].strip().startswith(\"c_\") else \"\",\n",
    "    kvs_namespace=kvs_namespace,\n",
    "    dtl_mode=dtl_mode,\n",
    "    consumer_managed_directory=consumer_managed_directory,\n",
    "    consumer_program=consumer_program,\n",
    "    num_files_transfered=num_files_transfered,\n",
    ")\n",
    "print(consumer_launch_cmd)"
   ]
  },
  {
   "cell_type": "markdown",
   "id": "7f51f9ea-c48c-4b75-a780-92059a1c7c61",
   "metadata": {},
   "source": [
    "Finally, we will run the producer and consumer applications. Thanks to DYAD's fine-grained, per-file synchronization features, the order in which we launch the applications does not matter. In this example, we will run the consumer first to illustrate DYAD's synchronization features.\n",
    "\n",
    "Run the cell below to run the consumer. You will see that the consumer will immediately begin waiting for data to be made available."
   ]
  },
  {
   "cell_type": "code",
   "execution_count": null,
   "id": "9b2d62ba-d772-40a9-ab54-cef5695fc869",
   "metadata": {},
   "outputs": [],
   "source": [
    "!{consumer_launch_cmd}"
   ]
  },
  {
   "cell_type": "markdown",
   "id": "c413a90d-7429-4cad-bb98-fdaf8bbe5644",
   "metadata": {},
   "source": [
    "Now that the consumer is running, we will run the producer. However, Jupyter will not let us launch the producer from within this notebook for as long as the consumer is running. To get around this, we will use the Jupyter Lab terminal.\n",
    "\n",
    "First, copy the producer command from above. Then, from the top of the file explorer on the left, click the plus (`+`) button. In the new Jupyter Lab tab that opens, click on \"Terminal\" (in the \"Other\" category) to launch the Jupyter Lab terminal. Finally, paste the producer command into the terminal, and run it.\n",
    "\n",
    "We know that the applications ran successfully if the consumer outputs \"OK\" for each file it checks."
   ]
  },
  {
   "cell_type": "markdown",
   "id": "c03e13e5-f8f8-4e33-bd5a-9432309dc2e8",
   "metadata": {},
   "source": [
    "To see that the files were transfered, we can check the contents of the producer-managed and consumer-managed directories. If everything worked correctly, we will see the same files in both directories.\n",
    "\n",
    "Run the next two cells to check the contents of these directories."
   ]
  },
  {
   "cell_type": "code",
   "execution_count": null,
   "id": "3b4e23bc-2f13-4bc3-bf58-7a2dc838d47c",
   "metadata": {},
   "outputs": [],
   "source": [
    "!flux exec -r 0 ls -lah {producer_managed_directory}"
   ]
  },
  {
   "cell_type": "code",
   "execution_count": null,
   "id": "55ee61b5-1df8-4036-8709-23dec67de7d6",
   "metadata": {},
   "outputs": [],
   "source": [
    "!flux exec -r 1 ls -lah {consumer_managed_directory}"
   ]
  },
  {
   "cell_type": "markdown",
   "id": "1a5ca339-d930-48d5-89f6-519b01a92fc6",
   "metadata": {},
   "source": [
    "Before moving onto the next example, we need to remove the KVS namespace and unload the DYAD module. We cannot just reuse the namspace and module from this example for two reasons.\n",
    "\n",
    "First, the keys in the KVS that DYAD uses are based on the paths to the files *relative to the producer- and consumer-managed directories.* Since we are using the same applications for the next example, these relative paths will be the same, which means the keys will already be present in the KVS. This can interfere with the synchronization of the consumer.\n",
    "\n",
    "Second, the DYAD module currently tracks only a single directory at a time. We will be using a different directory for the next example, so we will need to startup the DYAD module from scratch to track this new directory.\n",
    "\n",
    "Run the next two cells to unload the DYAD module and remove the KVS namespace."
   ]
  },
  {
   "cell_type": "code",
   "execution_count": null,
   "id": "0bcea21e-f2e2-488f-bd95-8534f78c70b6",
   "metadata": {},
   "outputs": [],
   "source": [
    "!flux exec -r all flux module unload dyad"
   ]
  },
  {
   "cell_type": "code",
   "execution_count": null,
   "id": "d3197840-01e4-4479-8d9b-440e03155ca9",
   "metadata": {},
   "outputs": [],
   "source": [
    "!flux kvs namespace remove {kvs_namespace}"
   ]
  },
  {
   "cell_type": "markdown",
   "id": "4f437928-c3b6-4ff7-8d78-7ed31b09cda0",
   "metadata": {},
   "source": [
    "Run this cell to verify that the DYAD module and KVS namespace are no longer present."
   ]
  },
  {
   "cell_type": "code",
   "execution_count": null,
   "id": "d537769c-6566-48cf-a150-20d40150f059",
   "metadata": {},
   "outputs": [],
   "source": [
    "!echo \"Modules Post-Cleanup\"\n",
    "!echo \"====================\"\n",
    "!flux module list\n",
    "!echo \"\"\n",
    "!echo \"KVS Namespaces Post-Cleanup\"\n",
    "!echo \"===========================\"\n",
    "!flux kvs namespace list"
   ]
  },
  {
   "cell_type": "markdown",
   "id": "de9f7143-f22a-4eea-911e-582f6c90e529",
   "metadata": {},
   "source": [
    "## Example 2\n",
    "\n",
    "In the second example, we will show how DYAD can help workflows even if data is in shared storage (e.g., parallel file system) by still providing built-in and transparent fine-grained synchronization.\n",
    "\n",
    "The figure below illustrates the data movement that will happen in this example."
   ]
  },
  {
   "cell_type": "markdown",
   "id": "90ed7911-f507-4a69-a6f9-59185887a097",
   "metadata": {},
   "source": [
    "<div>\n",
    "<center><img src=\"dyad/dyad_example2.svg\" width=\"400\"/>\n",
    "</div>"
   ]
  },
  {
   "cell_type": "markdown",
   "id": "1c13f27e-551c-4841-8f58-825844d88cd9",
   "metadata": {},
   "source": [
    "To start, we must setup the Flux KVS namespace and DYAD module again. \n",
    "\n",
    "Run the cells below to setup the Flux KVS namespace and the DYAD module."
   ]
  },
  {
   "cell_type": "code",
   "execution_count": null,
   "id": "7a9bcc65-0780-4652-87b3-a0b942dd48b2",
   "metadata": {},
   "outputs": [],
   "source": [
    "!flux kvs namespace create {kvs_namespace}\n",
    "!flux kvs namespace list"
   ]
  },
  {
   "cell_type": "code",
   "execution_count": null,
   "id": "c43fcd2a-9291-407c-a313-f9be8a85cf4d",
   "metadata": {},
   "outputs": [],
   "source": [
    "!flux exec -r all flux module load {dyad_module} {shared_managed_directory} {dtl_mode}"
   ]
  },
  {
   "cell_type": "code",
   "execution_count": null,
   "id": "d8f3db83-8b97-440a-8b5f-f7cf76656928",
   "metadata": {},
   "outputs": [],
   "source": [
    "!flux exec -r all flux module list | grep dyad"
   ]
  },
  {
   "cell_type": "markdown",
   "id": "4b4a1949-2454-4e5b-aeba-ed420e42e620",
   "metadata": {},
   "source": [
    "Next, we will generate the shell commands that we will use to run the producer and consumer applications. The only differences between these commands and the ones in Example 1 are as follows:\n",
    "* The `DYAD_PATH_PRODUCER`, `DYAD_PATH_CONSUMER`, and second command-line argument to the applications all have the same value (i.e., the value of `shared_managed_directory` from the top of the notebook).\n",
    "* The `DYAD_SHARED_STORAGE` environment variable is provided and set to 1. This tells DYAD to only perform fine-grained synchronization, rather than both synchronization and file transfer.\n",
    "\n",
    "Run the next two cells to generate the commands."
   ]
  },
  {
   "cell_type": "code",
   "execution_count": null,
   "id": "37fa6ba6-375e-4aba-9253-f5e37cc701b9",
   "metadata": {},
   "outputs": [],
   "source": [
    "producer_launch_cmd = \"{preload} DYAD_KVS_NAMESPACE={kvs_namespace} DYAD_DTL_MODE={dtl_mode} \\\n",
    "DYAD_PATH_PRODUCER={producer_managed_directory} DYAD_SHARED_STORAGE=1 \\\n",
    "flux exec -r 0 \\\n",
    "{producer_program} {num_files_transfered} {producer_managed_directory}\".format(\n",
    "    preload=\"LD_PRELOAD=\\\"/usr/lib/dyad_wrapper.so\\\"\" if producer_program.split(\"/\")[-1].strip().startswith(\"c_\") else \"\",\n",
    "    kvs_namespace=kvs_namespace,\n",
    "    dtl_mode=dtl_mode,\n",
    "    producer_managed_directory=shared_managed_directory,\n",
    "    producer_program=producer_program,\n",
    "    num_files_transfered=num_files_transfered,\n",
    ")\n",
    "print(producer_launch_cmd)"
   ]
  },
  {
   "cell_type": "code",
   "execution_count": null,
   "id": "02f13978-be62-4330-a1d7-3574c1d09573",
   "metadata": {},
   "outputs": [],
   "source": [
    "consumer_launch_cmd = \"{preload} DYAD_KVS_NAMESPACE={kvs_namespace} DYAD_DTL_MODE={dtl_mode} \\\n",
    "DYAD_PATH_CONSUMER={consumer_managed_directory} DYAD_SHARED_STORAGE=1 \\\n",
    "flux exec -r 1 \\\n",
    "{consumer_program} {num_files_transfered} {consumer_managed_directory}\".format(\n",
    "    preload=\"LD_PRELOAD=\\\"/usr/lib/dyad_wrapper.so\\\"\" if producer_program.split(\"/\")[-1].strip().startswith(\"c_\") else \"\",\n",
    "    kvs_namespace=kvs_namespace,\n",
    "    dtl_mode=dtl_mode,\n",
    "    consumer_managed_directory=shared_managed_directory,\n",
    "    consumer_program=consumer_program,\n",
    "    num_files_transfered=num_files_transfered,\n",
    ")\n",
    "print(consumer_launch_cmd)"
   ]
  },
  {
   "cell_type": "markdown",
   "id": "c11fa139-026c-4b8d-8b64-3b73ba4c1ab8",
   "metadata": {},
   "source": [
    "Finally, we will run the producer and consumer applications. To show how DYAD provides fine-grained synchronization even to shared storage workflows (e.g., workflows that use the parallel file system for data movement), we will run the consumer first.\n",
    "\n",
    "Run the cell below to run the consumer. The consumer will immediately begin waiting for data to be made available in shared storage."
   ]
  },
  {
   "cell_type": "code",
   "execution_count": null,
   "id": "ce54e2b4-d5fb-4451-bdf0-143450892292",
   "metadata": {},
   "outputs": [],
   "source": [
    "!{consumer_launch_cmd}"
   ]
  },
  {
   "cell_type": "markdown",
   "id": "ae80ba91-149e-46b6-b1ac-3742626b0664",
   "metadata": {},
   "source": [
    "Now that the consumer is running, we will run the producer. Just like Example 1, we will run the producer by copying the producer command from above and running it in the Jupyter Lab terminal.\n",
    "\n",
    "As with Example 1, we know that the applications ran successfully if the consumer outputs \"OK\" for each file it checks."
   ]
  },
  {
   "cell_type": "markdown",
   "id": "eb92651e-ca2d-4c88-bb3f-95aef77d3938",
   "metadata": {},
   "source": [
    "Finally, we need to remove the KVS namespace and unload the DYAD module.\n",
    "\n",
    "Run the next two cells to do this.\n",
    "\n",
    "Run the final code cell to verify that the DYAD module and KVS namespace are no longer present."
   ]
  },
  {
   "cell_type": "code",
   "execution_count": null,
   "id": "a8be46d2-e138-4849-9b51-6a02542f0bdd",
   "metadata": {},
   "outputs": [],
   "source": [
    "!flux exec -r all flux module unload dyad"
   ]
  },
  {
   "cell_type": "code",
   "execution_count": null,
   "id": "de0bec06-3c6b-4644-b6a3-db4183bc3d46",
   "metadata": {},
   "outputs": [],
   "source": [
    "!flux kvs namespace remove {kvs_namespace}"
   ]
  },
  {
   "cell_type": "code",
   "execution_count": null,
   "id": "16dbbcc2-aea2-4ba7-9410-4c21c5d0858f",
   "metadata": {},
   "outputs": [],
   "source": [
    "!echo \"Modules Post-Cleanup\"\n",
    "!echo \"====================\"\n",
    "!flux module list\n",
    "!echo \"\"\n",
    "!echo \"KVS Namespaces Post-Cleanup\"\n",
    "!echo \"===========================\"\n",
    "!flux kvs namespace list"
   ]
  },
  {
   "cell_type": "markdown",
   "id": "81d7d87f-1e09-42c8-b165-8902551f6847",
   "metadata": {},
   "source": [
    "# This concludes the notebook tutorial for DYAD.\n",
    "\n",
    "## If you are interested in learning more about DYAD, check out our [ReadTheDocs page](https://dyad.readthedocs.io/en/latest/), our [GitHub repository](https://github.com/flux-framework/dyad), and our [short paper](https://dyad.readthedocs.io/en/latest/_downloads/27090817b034a89b76e5538e148fea9e/ShortPaper_2022_eScience_LLNL.pdf) and [poster](https://dyad.readthedocs.io/en/latest/_downloads/1f11761622683662c33fe0086d1d7ad2/Poster_2022_eScience_LLNL.pdf) from eScience 2022.\n",
    "\n",
    "## If you are interested in working with us, please reach out to Jae-Seung Yeom (yeom2@llnl.gov) or Ian Lumsden (ilumsden@vols.utk.edu)."
   ]
  },
  {
   "cell_type": "code",
   "execution_count": null,
   "id": "71d04206-343f-4407-880c-d67e659656d6",
   "metadata": {},
   "outputs": [],
   "source": []
  }
 ],
 "metadata": {
  "kernelspec": {
   "display_name": "Python 3 (ipykernel)",
   "language": "python",
   "name": "python3"
  },
  "language_info": {
   "codemirror_mode": {
    "name": "ipython",
    "version": 3
   },
   "file_extension": ".py",
   "mimetype": "text/x-python",
   "name": "python",
   "nbconvert_exporter": "python",
   "pygments_lexer": "ipython3",
   "version": "3.8.10"
  }
 },
 "nbformat": 4,
 "nbformat_minor": 5
}
