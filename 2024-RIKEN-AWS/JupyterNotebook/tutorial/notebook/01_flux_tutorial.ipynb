{
 "cells": [
  {
   "cell_type": "markdown",
   "metadata": {},
   "source": [
    "<div>\n",
    "<center><img src=\"Flux-logo.svg\" width=\"400\"/>\n",
    "</div>"
   ]
  },
  {
   "cell_type": "markdown",
   "metadata": {},
   "source": [
    "# Welcome to the Flux Tutorial\n",
    "\n",
    "## What is Flux Framework? 🤔️\n",
    " \n",
    "Flux is a flexible framework for resource management, built for your site. The framework consists of a suite of projects, tools, services, and libraries which may be used to build site-custom resource managers for High Performance Computing centers. Flux is a next-generation resource manager and scheduler with many transformative capabilities like hierarchical scheduling and resource management (you can think of it as \"fractal scheduling\") and directed-graph based resource representations.\n",
    "\n",
    "To provide some brief, added background on Flux and a bit more motivation for our tutorial, start by watching our YouTube video:\n",
    "\n",
    "<iframe width=\"640\", height=\"360\"\n",
    "    src=\"https://www.youtube.com/embed/YIwt51dyXOE\"\n",
    "    title=\"YouTube video player\"\n",
    "    frameborder=\"0\" allow=\"accelerometer; clipboard-write; encrypted-media; gyroscope; picture-in-picture\"\n",
    "    allowfullscreen>\n",
    "</iframe>\n",
    "\n",
    "## I'm ready! How do I do this tutorial? 😁️\n",
    "\n",
    "This tutorial is split into several notebooks:\n",
    "* [Module 1: Getting started with Flux](./01_flux_tutorial.ipynb) (the rest of this notebook)\n",
    "* [Module 2: Traditional and hierarchical schedulinng using Flux](./02_flux_scheduling.ipynb)\n",
    "* [Module 3: TBA](./03_flux_framework.ipynb)\n",
    "* [Module 4: Accelerating Distributed Deep Learning (DL) Training with DYAD](./dyad_dlio.ipynb)\n",
    "* [Module 5: Conclusions](./05_flux_tutorial_conclusions.ipynb)\n",
    "\n",
    "To go through this tutorial, you need to go through these notebooks in the order above. To step through examples in each notebook you need to execute cells. To run a cell, press Shift+Enter on your keyboard. If you prefer, you can also paste the shell commands in the JupyterLab terminal and execute them there.\n",
    "\n",
    "Let's get started!"
   ]
  },
  {
   "cell_type": "markdown",
   "metadata": {},
   "source": [
    "# Module 1: Getting started with Flux\n",
    "\n",
    "The main unit of interaction with Flux is the **Flux instance**. A Flux instance consists of a collection of **Flux brokers**. These brokers are connected together and deploy a fully functional set of services which manage compute resources under its domain with the capability to launch jobs on those resources. A Flux instance may be running as the default resource manager on a cluster, a job in a resource manager such as Slurm, LSF, or Flux itself, or as a test instance launched locally.\n",
    "\n",
    "When run as a job in another resource manager, Flux is started like an MPI program, e.g., under Slurm we might run `srun [OPTIONS] flux start [SCRIPT]`. Flux is unique in that a test instance which mimics a multi-node instance can be started locally with simply `flux start --test-size=N`. This offers users to a way to learn and test interfaces and commands without access to an HPC cluster.\n",
    "\n",
    "To start a Flux session with 4 brokers in your container, run:"
   ]
  },
  {
   "cell_type": "code",
   "execution_count": null,
   "metadata": {},
   "outputs": [],
   "source": [
    "!flux start --test-size=4 flux getattr size"
   ]
  },
  {
   "cell_type": "markdown",
   "metadata": {},
   "source": [
    "The output indicates the number of brokers started successfully.\n",
    "\n",
    "# This concludes this notebook.\n",
    "\n",
    "Next, we will see how to use Flux for both traditional batch scheduling and hierarchical scheduling. To continue, open [02_flux_scheduling.ipynb](./02_flux_scheduling.ipynb)."
   ]
  },
  {
   "cell_type": "markdown",
   "metadata": {},
   "source": []
  }
 ],
 "metadata": {
  "language_info": {
   "name": "python"
  }
 },
 "nbformat": 4,
 "nbformat_minor": 2
}
