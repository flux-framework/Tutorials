{
 "cells": [
  {
   "cell_type": "markdown",
   "metadata": {},
   "source": [
    "<div>\n",
    "<center><img src=\"Flux-logo.svg\" width=\"400\"/>\n",
    "</div>\n",
    "\n",
    "# Chapter 2: Flux Plumbing 💩️🚽️\n",
    "\n",
    "> How to get to Porcelain? You start with Plumbing, of course - \"the toilet vs. the pipes\"\n",
    "\n",
    "Now that we have learned about basic flux commands, and hierarchical scheduling and its benefits, let's dive deeper into the structure of the individual Flux instances that comprise a hierarchy and talk about some additional \"plumbing\" that helps Flux to run. In this module, we cover:\n",
    "1. The structure of Flux instances\n",
    "2. Flux modules\n",
    "3. Examples `flux kvs` that powers a lot of higher level commands\n",
    "4. Advanced job specification interaction with flux job\n",
    "\n",
    "## The structure of Flux instances\n",
    "\n",
    "As mentioned in [Chapter 2](./01_flux_tutorial.ipynb), a Flux instance is comprised of one or more Flux brokers. A high-level depiction of the design of a Flux broker is shown in the figure below.\n",
    "\n",
    "<figure>\n",
    "<img src=\"img/flux-broker-design.png\">\n",
    "<figcaption>\n",
    "<i>Image created by Ian Lumsden for the Flux tutorials</i></figcaption>\n",
    "</figure>\n",
    "\n",
    "Each broker is a program built on top of the ∅MQ networking library. The broker contains two main components. First, the broker implements Flux-specific networking abstractions over ∅MQ, such as remote-proceedure call (RPC) and publication-subscription (pub-sub). Second, the broker contains several core services, such as PMI (for MPI support), run control support (for enabling automatic startup of other services), and, most importantly, broker module management. The remainder of a Flux broker's functionality comes from broker modules: specially designed services that the broker can deploy in independent OS threads. Some examples of broker modules provided by Flux include:\n",
    "* Job scheduling (both [traditional and hierarchical](./02_flux_scheduling.ipynb))\n",
    "* [Fluxion](https://github.com/flux-framework/flux-sched) (Flux's advanced graph-based scheduler)\n",
    "* Banks and accounting (for system-wide deployments of Flux)\n",
    "* [PMIx](https://github.com/openpmix/openpmix) (for OpenMPI)\n",
    "* An in-memory content store (useful for preloading data into pods on cloud)\n",
    "\n",
    "When Flux starts, it launches one or more brokers across the resources it manages. By default, Flux will launch one broker per node, but this can be configured (e.g., with the `--test-size` flag to `flux start` shown in [Chapter 1](./01_flux_tutorial.ipynb)). After launching the brokers, Flux will designate one broker as the \"leader\" and the rest as \"followers\". The leader serves as entrypoint into the Flux instance, and it serves as the starting point for most Flux commands. The distribution of brokers and the \"leader-follower\" designations are shown in the following figure:\n",
    "\n",
    "<figure>\n",
    "<img src=\"img/flux-instance-pre-tbon.png\">\n",
    "<figcaption>\n",
    "<i>Image created by Vanessa Sochat for Flux Framework Components documentation</i></figcaption>\n",
    "</figure>\n",
    "\n",
    "After launching the brokers and designating a leader, Flux uses the brokers' network abstractions to connect the brokers together into what we call the \"tree-based overlay network\" or TBON for short. This network is shown in the figure below. This overlay network connects brokers together in a pre-defined tree-based topology (e.g., *k*-ary and binomial). Whenever brokers or instances of distributed services running on top of the brokers need to communicate, they can send messages up and down this tree-structured network. This tree-structured network is used over alternative designs (e.g., all-to-all networks used by MPI) because it provides better scalability (by minimizing communication), security, and fault tolerance for a service-focused framework. More information about these benefits and Flux's overall design can be found in our [publications](https://flux-framework.org/publications/) (particularly our [2014 paper on Flux](https://ieeexplore.ieee.org/document/7103433) presented at ICPP).\n",
    "\n",
    "<figure>\n",
    "<img src=\"img/flux-instance-w-tbon.png\">\n",
    "<figcaption>\n",
    "<i>Image created by Vanessa Sochat for Flux Framework Components documentation</i></figcaption>\n",
    "</figure>\n",
    "\n",
    "Flux functionality can be extended with modules, which you might think of like services. For Flux instances, additional services are typically implemented as broker modules that can be deployed across one or more brokers. Once deployed, these services can leverage the other components of the broker, including message routing over the TBON and services provided by other broker modules. As a result, broker modules allow for the creation of composable, easily deployable services for Flux instances."
   ]
  },
  {
   "cell_type": "markdown",
   "metadata": {},
   "source": [
    "## Flux Modules\n",
    "\n",
    "To manage and query modules, Flux provides the `flux module` command. The sub-commands provided by `flux module` can be seen by running the cell below."
   ]
  },
  {
   "cell_type": "code",
   "execution_count": 2,
   "metadata": {
    "collapsed": true,
    "jupyter": {
     "outputs_hidden": true
    },
    "scrolled": true
   },
   "outputs": [
    {
     "name": "stdout",
     "output_type": "stream",
     "text": [
      "Usage: flux-module COMMAND [OPTIONS]\n",
      "  -h, --help             Display this message.\n",
      "\n",
      "flux module subcommands:\n",
      "   list            List loaded modules\n",
      "   remove          Unload module\n",
      "   load            Load module\n",
      "   reload          Reload module\n",
      "   stats           Display stats on module\n",
      "   debug           Get/set module debug flags\n"
     ]
    }
   ],
   "source": [
    "!flux module --help"
   ]
  },
  {
   "cell_type": "markdown",
   "metadata": {},
   "source": [
    "While going through [Module 2](./02_flux_scheduling.ipynb), we've already encountered some built-in services provided by Flux, such as:\n",
    "* `job-ingest` (used by Flux submission commands like `flux batch` and `flux run`)\n",
    "* `job-list` (used by `flux jobs`)\n",
    "* `sched-fluxion-qmanager` (used by `flux tree`)\n",
    "* `sched-fluxion-resource` (also used by `flux tree`)\n",
    "\n",
    "We can see that these services are loaded and available by running the cell below."
   ]
  },
  {
   "cell_type": "code",
   "execution_count": 3,
   "metadata": {
    "collapsed": true,
    "jupyter": {
     "outputs_hidden": true
    },
    "scrolled": true
   },
   "outputs": [
    {
     "name": "stdout",
     "output_type": "stream",
     "text": [
      "Module                   Idle  S Service\n",
      "job-exec                 idle  R \n",
      "heartbeat                   1  R \n",
      "job-list                 idle  R \n",
      "sched-fluxion-resource   idle  R \n",
      "content-sqlite           idle  R content-backing\n",
      "resource                 idle  R \n",
      "job-ingest               idle  R \n",
      "content                  idle  R \n",
      "job-info                 idle  R \n",
      "sched-fluxion-qmanager   idle  R sched\n",
      "kvs-watch                idle  R \n",
      "kvs                      idle  R \n",
      "cron                     idle  R \n",
      "job-manager              idle  R \n",
      "barrier                  idle  R \n",
      "connector-local             0  R \n"
     ]
    }
   ],
   "source": [
    "!flux module list"
   ]
  },
  {
   "cell_type": "markdown",
   "metadata": {},
   "source": [
    "Users and system administrators can easily load and unload modules using the `flux module load` and `flux module remove` commands. To show this, let's unload Fluxion (Flux's graph-based scheduler) and replace it with the built-in simple scheduler."
   ]
  },
  {
   "cell_type": "code",
   "execution_count": 4,
   "metadata": {
    "collapsed": true,
    "jupyter": {
     "outputs_hidden": true
    },
    "scrolled": true
   },
   "outputs": [
    {
     "name": "stdout",
     "output_type": "stream",
     "text": [
      "Module                   Idle  S Service\n",
      "job-exec                 idle  R \n",
      "heartbeat                   0  R \n",
      "job-list                 idle  R \n",
      "content-sqlite           idle  R content-backing\n",
      "resource                    0  R \n",
      "job-ingest               idle  R \n",
      "content                     0  R \n",
      "job-info                 idle  R \n",
      "kvs-watch                idle  R \n",
      "kvs                         0  R \n",
      "cron                     idle  R \n",
      "job-manager                 0  R \n",
      "sched-simple                0  R sched\n",
      "barrier                  idle  R \n",
      "connector-local             0  R \n"
     ]
    }
   ],
   "source": [
    "!flux module remove sched-fluxion-qmanager\n",
    "!flux module remove sched-fluxion-resource\n",
    "!flux module load sched-simple\n",
    "!flux module list"
   ]
  },
  {
   "cell_type": "markdown",
   "metadata": {},
   "source": [
    "In this code block, we unload the 2 services that comprise Fluxion: `sched-fluxion-qmanager` and `sched-fluxion-resource`. Next, we load the simple scheduler (`sched-simple`), and, finally, we look at the running servicees. We now see that Fluxion is not available, and the simple scheduler is. Next, let's reload Fluxion, but, this time, let's pass some extra arguments to specialize our Flux instance. In particular, we will limit the scheduling depth to 4 and populate Fluxion's resource graph with:\n",
    "* Nodes\n",
    "* Sockets\n",
    "* Cores"
   ]
  },
  {
   "cell_type": "code",
   "execution_count": 5,
   "metadata": {
    "collapsed": true,
    "jupyter": {
     "outputs_hidden": true
    },
    "scrolled": true
   },
   "outputs": [
    {
     "name": "stdout",
     "output_type": "stream",
     "text": [
      "Module                   Idle  S Service\n",
      "job-exec                 idle  R \n",
      "heartbeat                   1  R \n",
      "job-list                 idle  R \n",
      "sched-fluxion-qmanager      0  R sched\n",
      "content-sqlite           idle  R content-backing\n",
      "resource                    0  R \n",
      "job-ingest               idle  R \n",
      "content                     0  R \n",
      "job-info                 idle  R \n",
      "kvs-watch                idle  R \n",
      "sched-fluxion-resource      0  R \n",
      "kvs                         0  R \n",
      "cron                     idle  R \n",
      "job-manager                 0  R \n",
      "barrier                  idle  R \n",
      "connector-local             0  R \n"
     ]
    }
   ],
   "source": [
    "# Run flux dmesg to make sure sched-simple has no more work before unloading\n",
    "!flux dmesg -C\n",
    "!flux module remove sched-simple\n",
    "!flux module load sched-fluxion-resource load-allowlist=node,socket,core\n",
    "!flux module load sched-fluxion-qmanager queue-params=queue-depth=4\n",
    "!flux module list"
   ]
  },
  {
   "cell_type": "markdown",
   "metadata": {},
   "source": [
    "### flux kvs\n",
    "\n",
    "One of the core services built into Flux is the key-value store (KVS). It is used in many other services, including most of Flux's resource management services, the `flux archive` service below, and DYAD (which we will explore in [Supplementary Chapter 1](./supplementary/dyad/dyad_dlio.ipynb)). These services use the KVS to persistantly store information and retrieve it later (potentially after a restart of Flux).\n",
    "\n",
    "The `flux kvs` command provides a utility to list and manipulate values of the KVS. As a example of using `flux kvs`, let's use the command to examine information saved by the `resource` service."
   ]
  },
  {
   "cell_type": "code",
   "execution_count": null,
   "metadata": {},
   "outputs": [],
   "source": [
    "!flux kvs ls\n",
    "!flux kvs ls resource\n",
    "!flux kvs get resource.R | jq"
   ]
  },
  {
   "cell_type": "markdown",
   "metadata": {},
   "source": [
    "The KVS is such an essential component of Flux that we provide C and Python APIs to interact with it. To learn more about interacting with the KVS from these languages, take a look at these documentation pages:\n",
    "* C's `flux_kvs_commit` [family of functions](https://flux-framework.readthedocs.io/projects/flux-core/en/latest/man3/flux_kvs_commit.html)\n",
    "* C's `flux_kvs_copy` [family of functions](https://flux-framework.readthedocs.io/projects/flux-core/en/latest/man3/flux_kvs_copy.html)\n",
    "* C's `flux_kvs_getroot` [family of functions](https://flux-framework.readthedocs.io/projects/flux-core/en/latest/man3/flux_kvs_getroot.html)\n",
    "* C's `flux_kvs_lookup` [family of functions](https://flux-framework.readthedocs.io/projects/flux-core/en/latest/man3/flux_kvs_lookup.html)\n",
    "* C's `flux_kvs_namespace_create` [family of functions](https://flux-framework.readthedocs.io/projects/flux-core/en/latest/man3/flux_kvs_namespace_create.html)\n",
    "* C's `flux_kvs_txn_create` [family of functions](https://flux-framework.readthedocs.io/projects/flux-core/en/latest/man3/flux_kvs_txn_create.html)\n",
    "* Python's `flux.kvs` [module](https://flux-framework.readthedocs.io/projects/flux-core/en/latest/python/autogenerated/flux.kvs.html#module-flux.kvs)"
   ]
  },
  {
   "cell_type": "markdown",
   "metadata": {},
   "source": [
    "## flux jobspec generation\n",
    "\n",
    "Underlying much interaction with jobs is the creation of job specifications. When you use the command line or Python SDK and submit from a command or script, under the hood (back to that plumbing reference) we are creating a job specification \"Jobspec\" that is passed further through Flux. The command `flux submit` makes it possible to provide a similar command, but instead of running it, to generate the jobspec. Let's do that now. We will generate and view a Jobspec for a simple \"hello world\" job. We do that by adding `--dry-run`."
   ]
  },
  {
   "cell_type": "code",
   "execution_count": 16,
   "metadata": {
    "scrolled": true
   },
   "outputs": [
    {
     "name": "stdout",
     "output_type": "stream",
     "text": [
      "\u001b[1;39m{\n",
      "  \u001b[0m\u001b[34;1m\"resources\"\u001b[0m\u001b[1;39m: \u001b[0m\u001b[1;39m[\n",
      "    \u001b[1;39m{\n",
      "      \u001b[0m\u001b[34;1m\"type\"\u001b[0m\u001b[1;39m: \u001b[0m\u001b[0;32m\"slot\"\u001b[0m\u001b[1;39m,\n",
      "      \u001b[0m\u001b[34;1m\"count\"\u001b[0m\u001b[1;39m: \u001b[0m\u001b[0;39m1\u001b[0m\u001b[1;39m,\n",
      "      \u001b[0m\u001b[34;1m\"with\"\u001b[0m\u001b[1;39m: \u001b[0m\u001b[1;39m[\n",
      "        \u001b[1;39m{\n",
      "          \u001b[0m\u001b[34;1m\"type\"\u001b[0m\u001b[1;39m: \u001b[0m\u001b[0;32m\"core\"\u001b[0m\u001b[1;39m,\n",
      "          \u001b[0m\u001b[34;1m\"count\"\u001b[0m\u001b[1;39m: \u001b[0m\u001b[0;39m1\u001b[0m\u001b[1;39m\n",
      "        \u001b[1;39m}\u001b[0m\u001b[1;39m\n",
      "      \u001b[1;39m]\u001b[0m\u001b[1;39m,\n",
      "      \u001b[0m\u001b[34;1m\"label\"\u001b[0m\u001b[1;39m: \u001b[0m\u001b[0;32m\"task\"\u001b[0m\u001b[1;39m\n",
      "    \u001b[1;39m}\u001b[0m\u001b[1;39m\n",
      "  \u001b[1;39m]\u001b[0m\u001b[1;39m,\n",
      "  \u001b[0m\u001b[34;1m\"tasks\"\u001b[0m\u001b[1;39m: \u001b[0m\u001b[1;39m[\n",
      "    \u001b[1;39m{\n",
      "      \u001b[0m\u001b[34;1m\"command\"\u001b[0m\u001b[1;39m: \u001b[0m\u001b[1;39m[\n",
      "        \u001b[0;32m\"echo\"\u001b[0m\u001b[1;39m,\n",
      "        \u001b[0;32m\"hello\"\u001b[0m\u001b[1;39m,\n",
      "        \u001b[0;32m\"potato\"\u001b[0m\u001b[1;39m,\n",
      "        \u001b[0;32m\"🥔️🍠️\"\u001b[0m\u001b[1;39m\n",
      "      \u001b[1;39m]\u001b[0m\u001b[1;39m,\n",
      "      \u001b[0m\u001b[34;1m\"slot\"\u001b[0m\u001b[1;39m: \u001b[0m\u001b[0;32m\"task\"\u001b[0m\u001b[1;39m,\n",
      "      \u001b[0m\u001b[34;1m\"count\"\u001b[0m\u001b[1;39m: \u001b[0m\u001b[1;39m{\n",
      "        \u001b[0m\u001b[34;1m\"per_slot\"\u001b[0m\u001b[1;39m: \u001b[0m\u001b[0;39m1\u001b[0m\u001b[1;39m\n",
      "      \u001b[1;39m}\u001b[0m\u001b[1;39m\n",
      "    \u001b[1;39m}\u001b[0m\u001b[1;39m\n",
      "  \u001b[1;39m]\u001b[0m\u001b[1;39m,\n",
      "  \u001b[0m\u001b[34;1m\"attributes\"\u001b[0m\u001b[1;39m: \u001b[0m\u001b[1;39m{\n",
      "    \u001b[0m\u001b[34;1m\"system\"\u001b[0m\u001b[1;39m: \u001b[0m\u001b[1;39m{\n",
      "      \u001b[0m\u001b[34;1m\"duration\"\u001b[0m\u001b[1;39m: \u001b[0m\u001b[0;39m0\u001b[0m\u001b[1;39m,\n",
      "      \u001b[0m\u001b[34;1m\"environment\"\u001b[0m\u001b[1;39m: \u001b[0m\u001b[1;39m{\n",
      "        \u001b[0m\u001b[34;1m\"SHELL\"\u001b[0m\u001b[1;39m: \u001b[0m\u001b[0;32m\"/usr/bin/bash\"\u001b[0m\u001b[1;39m,\n",
      "        \u001b[0m\u001b[34;1m\"FLUX_MODULE_PATH\"\u001b[0m\u001b[1;39m: \u001b[0m\u001b[0;32m\"/usr/lib/flux/modules\"\u001b[0m\u001b[1;39m,\n",
      "        \u001b[0m\u001b[34;1m\"HOSTNAME\"\u001b[0m\u001b[1;39m: \u001b[0m\u001b[0;32m\"8660c254a8e5\"\u001b[0m\u001b[1;39m,\n",
      "        \u001b[0m\u001b[34;1m\"FLUX_START_URI\"\u001b[0m\u001b[1;39m: \u001b[0m\u001b[0;32m\"local:///tmp/flux-iwjuLe/start\"\u001b[0m\u001b[1;39m,\n",
      "        \u001b[0m\u001b[34;1m\"NB_UID\"\u001b[0m\u001b[1;39m: \u001b[0m\u001b[0;32m\"1000\"\u001b[0m\u001b[1;39m,\n",
      "        \u001b[0m\u001b[34;1m\"PWD\"\u001b[0m\u001b[1;39m: \u001b[0m\u001b[0;32m\"/home/jovyan\"\u001b[0m\u001b[1;39m,\n",
      "        \u001b[0m\u001b[34;1m\"JPY_SESSION_NAME\"\u001b[0m\u001b[1;39m: \u001b[0m\u001b[0;32m\"/home/jovyan/02_flux_framework.ipynb\"\u001b[0m\u001b[1;39m,\n",
      "        \u001b[0m\u001b[34;1m\"MANPATH\"\u001b[0m\u001b[1;39m: \u001b[0m\u001b[0;32m\"/usr/share/man\"\u001b[0m\u001b[1;39m,\n",
      "        \u001b[0m\u001b[34;1m\"FLUX_CONNECTOR_PATH\"\u001b[0m\u001b[1;39m: \u001b[0m\u001b[0;32m\"/usr/lib/flux/connectors\"\u001b[0m\u001b[1;39m,\n",
      "        \u001b[0m\u001b[34;1m\"_\"\u001b[0m\u001b[1;39m: \u001b[0m\u001b[0;32m\"/usr/bin/flux\"\u001b[0m\u001b[1;39m,\n",
      "        \u001b[0m\u001b[34;1m\"HOME\"\u001b[0m\u001b[1;39m: \u001b[0m\u001b[0;32m\"/home/jovyan\"\u001b[0m\u001b[1;39m,\n",
      "        \u001b[0m\u001b[34;1m\"LANG\"\u001b[0m\u001b[1;39m: \u001b[0m\u001b[0;32m\"C.UTF-8\"\u001b[0m\u001b[1;39m,\n",
      "        \u001b[0m\u001b[34;1m\"FORCE_COLOR\"\u001b[0m\u001b[1;39m: \u001b[0m\u001b[0;32m\"1\"\u001b[0m\u001b[1;39m,\n",
      "        \u001b[0m\u001b[34;1m\"PYDEVD_USE_FRAME_EVAL\"\u001b[0m\u001b[1;39m: \u001b[0m\u001b[0;32m\"NO\"\u001b[0m\u001b[1;39m,\n",
      "        \u001b[0m\u001b[34;1m\"JUPYTER_APP_LAUNCHER_PATH\"\u001b[0m\u001b[1;39m: \u001b[0m\u001b[0;32m\"/usr/local/share/jupyter/lab/jupyter_app_launcher/\"\u001b[0m\u001b[1;39m,\n",
      "        \u001b[0m\u001b[34;1m\"CLICOLOR\"\u001b[0m\u001b[1;39m: \u001b[0m\u001b[0;32m\"1\"\u001b[0m\u001b[1;39m,\n",
      "        \u001b[0m\u001b[34;1m\"CLICOLOR_FORCE\"\u001b[0m\u001b[1;39m: \u001b[0m\u001b[0;32m\"1\"\u001b[0m\u001b[1;39m,\n",
      "        \u001b[0m\u001b[34;1m\"JPY_PARENT_PID\"\u001b[0m\u001b[1;39m: \u001b[0m\u001b[0;32m\"159\"\u001b[0m\u001b[1;39m,\n",
      "        \u001b[0m\u001b[34;1m\"PYTHONPATH\"\u001b[0m\u001b[1;39m: \u001b[0m\u001b[0;32m\"/usr/lib/flux/python3.10\"\u001b[0m\u001b[1;39m,\n",
      "        \u001b[0m\u001b[34;1m\"TERM\"\u001b[0m\u001b[1;39m: \u001b[0m\u001b[0;32m\"xterm-color\"\u001b[0m\u001b[1;39m,\n",
      "        \u001b[0m\u001b[34;1m\"GIT_PAGER\"\u001b[0m\u001b[1;39m: \u001b[0m\u001b[0;32m\"cat\"\u001b[0m\u001b[1;39m,\n",
      "        \u001b[0m\u001b[34;1m\"SHLVL\"\u001b[0m\u001b[1;39m: \u001b[0m\u001b[0;32m\"2\"\u001b[0m\u001b[1;39m,\n",
      "        \u001b[0m\u001b[34;1m\"PAGER\"\u001b[0m\u001b[1;39m: \u001b[0m\u001b[0;32m\"cat\"\u001b[0m\u001b[1;39m,\n",
      "        \u001b[0m\u001b[34;1m\"FLUX_URI\"\u001b[0m\u001b[1;39m: \u001b[0m\u001b[0;32m\"local:///tmp/flux-iwjuLe/local-0\"\u001b[0m\u001b[1;39m,\n",
      "        \u001b[0m\u001b[34;1m\"MPLBACKEND\"\u001b[0m\u001b[1;39m: \u001b[0m\u001b[0;32m\"module://matplotlib_inline.backend_inline\"\u001b[0m\u001b[1;39m,\n",
      "        \u001b[0m\u001b[34;1m\"NB_USER\"\u001b[0m\u001b[1;39m: \u001b[0m\u001b[0;32m\"jovyan\"\u001b[0m\u001b[1;39m,\n",
      "        \u001b[0m\u001b[34;1m\"LUA_CPATH\"\u001b[0m\u001b[1;39m: \u001b[0m\u001b[0;32m\"/usr/lib/lua/5.2/?.so;;;\"\u001b[0m\u001b[1;39m,\n",
      "        \u001b[0m\u001b[34;1m\"FLUX_EXEC_PATH\"\u001b[0m\u001b[1;39m: \u001b[0m\u001b[0;32m\"/usr/libexec/flux/cmd\"\u001b[0m\u001b[1;39m,\n",
      "        \u001b[0m\u001b[34;1m\"PATH\"\u001b[0m\u001b[1;39m: \u001b[0m\u001b[0;32m\"/usr/local/sbin:/usr/local/bin:/usr/sbin:/usr/bin:/sbin:/bin\"\u001b[0m\u001b[1;39m,\n",
      "        \u001b[0m\u001b[34;1m\"FLUX_URI_RESOLVE_LOCAL\"\u001b[0m\u001b[1;39m: \u001b[0m\u001b[0;32m\"t\"\u001b[0m\u001b[1;39m,\n",
      "        \u001b[0m\u001b[34;1m\"LUA_PATH\"\u001b[0m\u001b[1;39m: \u001b[0m\u001b[0;32m\"/usr/share/lua/5.2/?.lua;;;\"\u001b[0m\u001b[1;39m,\n",
      "        \u001b[0m\u001b[34;1m\"BASE_IMAGE\"\u001b[0m\u001b[1;39m: \u001b[0m\u001b[0;32m\"jammy\"\u001b[0m\u001b[1;39m\n",
      "      \u001b[1;39m}\u001b[0m\u001b[1;39m,\n",
      "      \u001b[0m\u001b[34;1m\"cwd\"\u001b[0m\u001b[1;39m: \u001b[0m\u001b[0;32m\"/home/jovyan\"\u001b[0m\u001b[1;39m,\n",
      "      \u001b[0m\u001b[34;1m\"shell\"\u001b[0m\u001b[1;39m: \u001b[0m\u001b[1;39m{\n",
      "        \u001b[0m\u001b[34;1m\"options\"\u001b[0m\u001b[1;39m: \u001b[0m\u001b[1;39m{\n",
      "          \u001b[0m\u001b[34;1m\"rlimit\"\u001b[0m\u001b[1;39m: \u001b[0m\u001b[1;39m{\n",
      "            \u001b[0m\u001b[34;1m\"cpu\"\u001b[0m\u001b[1;39m: \u001b[0m\u001b[0;39m-1\u001b[0m\u001b[1;39m,\n",
      "            \u001b[0m\u001b[34;1m\"fsize\"\u001b[0m\u001b[1;39m: \u001b[0m\u001b[0;39m-1\u001b[0m\u001b[1;39m,\n",
      "            \u001b[0m\u001b[34;1m\"data\"\u001b[0m\u001b[1;39m: \u001b[0m\u001b[0;39m-1\u001b[0m\u001b[1;39m,\n",
      "            \u001b[0m\u001b[34;1m\"stack\"\u001b[0m\u001b[1;39m: \u001b[0m\u001b[0;39m8388608\u001b[0m\u001b[1;39m,\n",
      "            \u001b[0m\u001b[34;1m\"core\"\u001b[0m\u001b[1;39m: \u001b[0m\u001b[0;39m-1\u001b[0m\u001b[1;39m,\n",
      "            \u001b[0m\u001b[34;1m\"nofile\"\u001b[0m\u001b[1;39m: \u001b[0m\u001b[0;39m1048576\u001b[0m\u001b[1;39m,\n",
      "            \u001b[0m\u001b[34;1m\"as\"\u001b[0m\u001b[1;39m: \u001b[0m\u001b[0;39m-1\u001b[0m\u001b[1;39m,\n",
      "            \u001b[0m\u001b[34;1m\"rss\"\u001b[0m\u001b[1;39m: \u001b[0m\u001b[0;39m-1\u001b[0m\u001b[1;39m,\n",
      "            \u001b[0m\u001b[34;1m\"nproc\"\u001b[0m\u001b[1;39m: \u001b[0m\u001b[0;39m-1\u001b[0m\u001b[1;39m\n",
      "          \u001b[1;39m}\u001b[0m\u001b[1;39m\n",
      "        \u001b[1;39m}\u001b[0m\u001b[1;39m\n",
      "      \u001b[1;39m}\u001b[0m\u001b[1;39m\n",
      "    \u001b[1;39m}\u001b[0m\u001b[1;39m\n",
      "  \u001b[1;39m}\u001b[0m\u001b[1;39m,\n",
      "  \u001b[0m\u001b[34;1m\"version\"\u001b[0m\u001b[1;39m: \u001b[0m\u001b[0;39m1\u001b[0m\u001b[1;39m\n",
      "\u001b[1;39m}\u001b[0m\n"
     ]
    }
   ],
   "source": [
    "! flux submit --dry-run echo hello potato 🥔️🍠️ > potato-job.txt\n",
    "! cat potato-job.txt | jq"
   ]
  },
  {
   "cell_type": "markdown",
   "metadata": {},
   "source": [
    "You'll notice there is a lot of content in there! At this point you could write this to file (as we did, saving to `potato-job.txt`, edit it, and provide it directly to `flux job submit` to run. Let's try that now."
   ]
  },
  {
   "cell_type": "code",
   "execution_count": 17,
   "metadata": {},
   "outputs": [
    {
     "name": "stdout",
     "output_type": "stream",
     "text": [
      "ƒ3VPB8ZEqV\n",
      "hello potato 🥔️🍠️\n"
     ]
    }
   ],
   "source": [
    "! flux job submit ./potato-job.txt\n",
    "! flux job attach $(flux job last)"
   ]
  },
  {
   "cell_type": "markdown",
   "metadata": {},
   "source": [
    "# This concludes Chapter 2.\n",
    "\n",
    "In this module, we covered:\n",
    "1. The structure of Flux instances \n",
    "2. How to load and unload modules in Flux\n",
    "3. An example flux module `flux kvs`\n",
    "4. Interacting with job specifications `Jobspec`s\n",
    "\n",
    "To finish the tutorial, open [Chapter 3](./03_flux_tutorial_conclusions.ipynb)."
   ]
  }
 ],
 "metadata": {
  "kernelspec": {
   "display_name": "Python 3 (ipykernel)",
   "language": "python",
   "name": "python3"
  },
  "language_info": {
   "codemirror_mode": {
    "name": "ipython",
    "version": 3
   },
   "file_extension": ".py",
   "mimetype": "text/x-python",
   "name": "python",
   "nbconvert_exporter": "python",
   "pygments_lexer": "ipython3",
   "version": "3.10.12"
  }
 },
 "nbformat": 4,
 "nbformat_minor": 4
}
